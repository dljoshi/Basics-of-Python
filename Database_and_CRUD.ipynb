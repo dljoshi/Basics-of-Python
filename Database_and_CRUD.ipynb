{
  "cells": [
    {
      "cell_type": "code",
      "execution_count": null,
      "id": "316e8172",
      "metadata": {
        "id": "316e8172"
      },
      "outputs": [],
      "source": [
        "import sqlite3 as s"
      ]
    },
    {
      "cell_type": "code",
      "execution_count": null,
      "id": "7199cb2d",
      "metadata": {
        "id": "7199cb2d",
        "outputId": "51f610b7-461f-4168-df9f-c6c9a616d8e3"
      },
      "outputs": [
        {
          "name": "stdout",
          "output_type": "stream",
          "text": [
            "Opened database successfully\n"
          ]
        }
      ],
      "source": [
        "conn = s.connect('test.db') #un pw  .db\n",
        "print (\"Opened database successfully\");"
      ]
    },
    {
      "cell_type": "code",
      "execution_count": null,
      "id": "536b7165",
      "metadata": {
        "id": "536b7165",
        "outputId": "4e76372b-dc46-425b-90ac-c3201103236a"
      },
      "outputs": [
        {
          "name": "stdout",
          "output_type": "stream",
          "text": [
            "Opened database successfully\n",
            "Table created successfully\n"
          ]
        }
      ],
      "source": [
        "#creating table \n",
        "\n",
        "conn = s.connect('DJ.db')\n",
        "print (\"Opened database successfully\")\n",
        "cur=conn.cursor()\n",
        "\n",
        "cur.execute('''CREATE TABLE emp1\n",
        "         (eno INT PRIMARY KEY     NOT NULL,\n",
        "         NAME           TEXT    NOT NULL,\n",
        "         SALARY         REAL);''')\n",
        "print (\"Table created successfully\");\n",
        "cur.close()\n",
        "conn.close()"
      ]
    },
    {
      "cell_type": "code",
      "execution_count": null,
      "id": "a3bdd396",
      "metadata": {
        "id": "a3bdd396",
        "outputId": "8edcb0a4-862c-4082-b106-dc8b156b6abd"
      },
      "outputs": [
        {
          "name": "stdout",
          "output_type": "stream",
          "text": [
            "Records inserted successfully\n"
          ]
        }
      ],
      "source": [
        "# inserting values....\n",
        "conn = s.connect('DJ.db')\n",
        "cur =conn.cursor()\n",
        "cur.execute(\"INSERT INTO emp1 (eno,NAME,SALARY)VALUES (3, 'P', 20000.00 )\")\n",
        "\n",
        "cur.execute(\"\"\"INSERT INTO emp1 (eno,NAME,SALARY)\n",
        "      VALUES (4, 'D', 20000.00 )\"\"\")\n",
        "\n",
        "conn.commit()\n",
        "print(\"Records inserted successfully\")\n",
        "cur.close()\n",
        "conn.close()"
      ]
    },
    {
      "cell_type": "code",
      "execution_count": null,
      "id": "46c01406",
      "metadata": {
        "id": "46c01406",
        "outputId": "dd6f89c9-b70d-408a-cea7-fcd0c1b15e29"
      },
      "outputs": [
        {
          "name": "stdout",
          "output_type": "stream",
          "text": [
            "eno =  1\n",
            "NAME =  Pratham\n",
            "SALARY =  20000.0\n",
            "\n",
            "eno =  2\n",
            "NAME =  Dwitiya\n",
            "SALARY =  20000.0\n",
            "\n",
            "Operation done successfully\n"
          ]
        }
      ],
      "source": [
        "# SELECT Operation....\n",
        "conn = s.connect('DJ.db')\n",
        "\n",
        "cursor = conn.execute(\"SELECT eno, NAME, salary from emp1\")\n",
        "for row in cursor:\n",
        "   print(\"eno = \", row[0])\n",
        "   print(\"NAME = \", row[1])\n",
        "   print(\"SALARY = \", row[2])\n",
        "   print()\n",
        "\n",
        "print(\"Operation done successfully\")\n",
        "conn.close()"
      ]
    },
    {
      "cell_type": "code",
      "execution_count": null,
      "id": "5f1a554f",
      "metadata": {
        "id": "5f1a554f",
        "outputId": "0c730452-2a78-4848-8d9e-9d9e92608b61"
      },
      "outputs": [
        {
          "name": "stdout",
          "output_type": "stream",
          "text": [
            "Opened database successfully\n",
            "eno =  1\n",
            "NAME =  Pratham\n",
            "SALARY =  20000.0\n",
            "\n",
            "eno =  2\n",
            "NAME =  Dwitiya\n",
            "SALARY =  20000.0\n",
            "\n",
            "eno =  3\n",
            "NAME =  P\n",
            "SALARY =  55000.0\n",
            "\n",
            "eno =  4\n",
            "NAME =  D\n",
            "SALARY =  20000.0\n",
            "\n",
            "Operation done successfully\n"
          ]
        }
      ],
      "source": [
        "# update....\n",
        "conn = s.connect('DJ.db')\n",
        "print(\"Opened database successfully\")\n",
        "\n",
        "conn.execute(\"UPDATE emp1 set SALARY = 55000.00 where eno = 3\")\n",
        "conn.commit()\n",
        "\n",
        "\n",
        "cursor = conn.execute(\"SELECT eno, NAME, salary from emp1\")\n",
        "for row in cursor:\n",
        "   print(\"eno = \", row[0])\n",
        "   print(\"NAME = \", row[1])\n",
        "   print(\"SALARY = \", row[2])\n",
        "   print()\n",
        "\n",
        "print (\"Operation done successfully\");\n",
        "conn.close()"
      ]
    },
    {
      "cell_type": "code",
      "execution_count": null,
      "id": "6f988346",
      "metadata": {
        "id": "6f988346",
        "outputId": "8be18e32-5dfd-4683-b015-3e6b5163f77c"
      },
      "outputs": [
        {
          "name": "stdout",
          "output_type": "stream",
          "text": [
            "Opened database successfully\n",
            "eno =  1\n",
            "NAME =  Pratham\n",
            "SALARY =  20000.0\n",
            "\n",
            "eno =  3\n",
            "NAME =  P\n",
            "SALARY =  55000.0\n",
            "\n",
            "eno =  4\n",
            "NAME =  D\n",
            "SALARY =  20000.0\n",
            "\n",
            "Operation done successfully\n"
          ]
        }
      ],
      "source": [
        "#Delete...\n",
        "import sqlite3\n",
        "\n",
        "conn = sqlite3.connect('DJ.db')\n",
        "print(\"Opened database successfully\")\n",
        "\n",
        "conn.execute(\"DELETE from emp1 where eno = 2;\")\n",
        "conn.commit()\n",
        "\n",
        "cursor = conn.execute(\"SELECT eno, NAME, salary from emp1\")\n",
        "for row in cursor:\n",
        "   print(\"eno = \", row[0])\n",
        "   print(\"NAME = \", row[1])\n",
        "   print(\"SALARY = \", row[2])\n",
        "   print()\n",
        "\n",
        "print (\"Operation done successfully\");\n",
        "conn.close()"
      ]
    },
    {
      "cell_type": "code",
      "execution_count": null,
      "id": "5b3edbdd",
      "metadata": {
        "id": "5b3edbdd"
      },
      "outputs": [],
      "source": [
        ""
      ]
    }
  ],
  "metadata": {
    "kernelspec": {
      "display_name": "Python 3 (ipykernel)",
      "language": "python",
      "name": "python3"
    },
    "language_info": {
      "codemirror_mode": {
        "name": "ipython",
        "version": 3
      },
      "file_extension": ".py",
      "mimetype": "text/x-python",
      "name": "python",
      "nbconvert_exporter": "python",
      "pygments_lexer": "ipython3",
      "version": "3.9.7"
    },
    "colab": {
      "name": "Database - Day1.ipynb",
      "provenance": []
    }
  },
  "nbformat": 4,
  "nbformat_minor": 5
}