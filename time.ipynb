{
 "cells": [
  {
   "cell_type": "code",
   "execution_count": 10,
   "id": "9749d38f",
   "metadata": {},
   "outputs": [
    {
     "name": "stdout",
     "output_type": "stream",
     "text": [
      "[6, 12, 18, 24, 30, 36, 42, 48, 54, 60]\n",
      "[6, 12, 18, 24, 30, 36, 42, 48, 54, 60]\n",
      "[6, 12, 18, 24, 30, 36, 42, 48, 54, 60]\n",
      "Wall time: 0 ns\n"
     ]
    },
    {
     "data": {
      "text/plain": [
       "0"
      ]
     },
     "execution_count": 10,
     "metadata": {},
     "output_type": "execute_result"
    }
   ],
   "source": [
    "%%time\n",
    "import time\n",
    "def Multiply(A,B):\n",
    "    result=[ [0,0,0,0,0,0,0,0,0,0],[0,0,0,0,0,0,0,0,0,0],[0,0,0,0,0,0,0,0,0,0] ]\n",
    "    #for rows\n",
    "    for i in range(len(A)):\n",
    "        #for columns\n",
    "        for j in range(len(B[0])):\n",
    "            #for rows of matrix B\n",
    "            for k in range(len(B)):\n",
    "                result[i][j] += A[i][k] * B[k][j]\n",
    "\n",
    "    for p in result:\n",
    "        print(p)\n",
    "\n",
    "    return 0\n",
    "\n",
    "A = [ [1, 2, 3,4,5,6,7,8,9,10],[1, 2, 3,4,5,6,7,8,9,10], [1, 2, 3,4,5,6,7,8,9,10] ]\n",
    "  \n",
    "B = [[1, 2, 3,4,5,6,7,8,9,10],[1, 2, 3,4,5,6,7,8,9,10], [1, 2, 3,4,5,6,7,8,9,10] ]\n",
    "\n",
    "#print(\"Result: \")\n",
    "#s=time.clock()\n",
    "Multiply(A,B)\n",
    "#e=time.clock()\n",
    "#print(\"--- %0.10f seconds ---\" % (e - s))\n"
   ]
  },
  {
   "cell_type": "code",
   "execution_count": null,
   "id": "925b5d96",
   "metadata": {},
   "outputs": [],
   "source": []
  },
  {
   "cell_type": "code",
   "execution_count": 11,
   "id": "4a1eabd3",
   "metadata": {},
   "outputs": [
    {
     "name": "stdout",
     "output_type": "stream",
     "text": [
      "[114 160  60  27]\n",
      "[74 97 73 14]\n",
      "[119 157 112  23]\n",
      "Wall time: 27.6 s\n"
     ]
    }
   ],
   "source": [
    "%%time\n",
    "import numpy as np\n",
    "\n",
    "A = [[12, 7, 3], [4, 5, 6], [7, 8, 9]] \n",
    "\n",
    "B = [[5, 8, 1, 2], [6, 7, 3, 0], [4, 5, 9, 1]]\n",
    "\n",
    "result= [[0,0,0,0], [0,0,0,0], [0,0,0,0]]\n",
    "\n",
    "result= np.dot(A,B)\n",
    "\n",
    "for p in result:\n",
    "    print(p)"
   ]
  },
  {
   "cell_type": "code",
   "execution_count": null,
   "id": "a0706ce1",
   "metadata": {},
   "outputs": [],
   "source": []
  },
  {
   "cell_type": "code",
   "execution_count": null,
   "id": "eeabb9b5",
   "metadata": {},
   "outputs": [],
   "source": []
  },
  {
   "cell_type": "code",
   "execution_count": null,
   "id": "f3fda511",
   "metadata": {},
   "outputs": [],
   "source": []
  }
 ],
 "metadata": {
  "kernelspec": {
   "display_name": "Python 3 (ipykernel)",
   "language": "python",
   "name": "python3"
  },
  "language_info": {
   "codemirror_mode": {
    "name": "ipython",
    "version": 3
   },
   "file_extension": ".py",
   "mimetype": "text/x-python",
   "name": "python",
   "nbconvert_exporter": "python",
   "pygments_lexer": "ipython3",
   "version": "3.9.7"
  }
 },
 "nbformat": 4,
 "nbformat_minor": 5
}
