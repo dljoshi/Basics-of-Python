{
  "nbformat": 4,
  "nbformat_minor": 0,
  "metadata": {
    "kernelspec": {
      "display_name": "Python 3",
      "language": "python",
      "name": "python3"
    },
    "language_info": {
      "codemirror_mode": {
        "name": "ipython",
        "version": 3
      },
      "file_extension": ".py",
      "mimetype": "text/x-python",
      "name": "python",
      "nbconvert_exporter": "python",
      "pygments_lexer": "ipython3",
      "version": "3.8.4"
    },
    "colab": {
      "name": "NumPy_Panda_MatPlot_Lib.ipynb",
      "provenance": []
    }
  },
  "cells": [
    {
      "cell_type": "markdown",
      "metadata": {
        "id": "lC3hMweJ3Knz"
      },
      "source": [
        "# NumPy"
      ]
    },
    {
      "cell_type": "code",
      "metadata": {
        "id": "xQNrdPkm3Kn8"
      },
      "source": [
        "import numpy as np"
      ],
      "execution_count": null,
      "outputs": []
    },
    {
      "cell_type": "code",
      "metadata": {
        "id": "zoR0juYO3Kn9",
        "colab": {
          "base_uri": "https://localhost:8080/",
          "height": 35
        },
        "outputId": "6eea140a-f178-42d1-c787-b8ee40aab702"
      },
      "source": [
        "# to Know version of numpy\n",
        "np.__version__"
      ],
      "execution_count": null,
      "outputs": [
        {
          "output_type": "execute_result",
          "data": {
            "application/vnd.google.colaboratory.intrinsic+json": {
              "type": "string"
            },
            "text/plain": [
              "'1.19.5'"
            ]
          },
          "metadata": {
            "tags": []
          },
          "execution_count": 2
        }
      ]
    },
    {
      "cell_type": "markdown",
      "metadata": {
        "id": "YdGMPoC23Kn-"
      },
      "source": [
        "### To Create array"
      ]
    },
    {
      "cell_type": "code",
      "metadata": {
        "id": "F-rwjgne3Kn-",
        "outputId": "03f4a3c4-4e40-4c5e-d0c1-a178a4595b45"
      },
      "source": [
        "# 1D Array \n",
        "lst=[1,2,3,4,5,6]\n",
        "a1 = np.array(lst)\n",
        "print(a1)"
      ],
      "execution_count": null,
      "outputs": [
        {
          "output_type": "stream",
          "text": [
            "[1 2 3 4 5 6]\n"
          ],
          "name": "stdout"
        }
      ]
    },
    {
      "cell_type": "code",
      "metadata": {
        "id": "nK6WAMTh3Kn_",
        "outputId": "072b14fe-0ce3-498d-e07a-49e51ddfd6bc"
      },
      "source": [
        "# 2D Array\n",
        "a2 = np.array([[1,2,4,5,6,7],[12,14,45,50,68,70],[8,9,10,11,12,13]])\n",
        "print(a2)"
      ],
      "execution_count": null,
      "outputs": [
        {
          "output_type": "stream",
          "text": [
            "[[ 1  2  4  5  6  7]\n",
            " [12 14 45 50 68 70]\n",
            " [ 8  9 10 11 12 13]]\n"
          ],
          "name": "stdout"
        }
      ]
    },
    {
      "cell_type": "markdown",
      "metadata": {
        "id": "6VxSzfj63Kn_"
      },
      "source": [
        "To know dimesions in array - ndim, shape and size"
      ]
    },
    {
      "cell_type": "code",
      "metadata": {
        "id": "l13Zij6d3KoA",
        "outputId": "c1897202-665d-49bc-c995-021786de782e"
      },
      "source": [
        "# Number of Dimension\n",
        "print(a1.ndim)  # 1D Array\n",
        "print(a2.ndim)  #2D Array"
      ],
      "execution_count": null,
      "outputs": [
        {
          "output_type": "stream",
          "text": [
            "1\n",
            "2\n"
          ],
          "name": "stdout"
        }
      ]
    },
    {
      "cell_type": "markdown",
      "metadata": {
        "id": "G6uk_d1d3KoA"
      },
      "source": [
        "###### Shape"
      ]
    },
    {
      "cell_type": "code",
      "metadata": {
        "id": "z0LUm0bc3KoA",
        "outputId": "cf8719af-de59-430e-e946-03ea79d661c2"
      },
      "source": [
        "print(a1.shape)\n",
        "a2.shape"
      ],
      "execution_count": null,
      "outputs": [
        {
          "output_type": "stream",
          "text": [
            "(6,)\n"
          ],
          "name": "stdout"
        },
        {
          "output_type": "execute_result",
          "data": {
            "text/plain": [
              "(3, 6)"
            ]
          },
          "metadata": {
            "tags": []
          },
          "execution_count": 7
        }
      ]
    },
    {
      "cell_type": "code",
      "metadata": {
        "id": "11dCndPZ3KoB",
        "outputId": "08c6e956-e383-494e-eada-3c0b229eaa5c"
      },
      "source": [
        "print(a1.size)\n",
        "a2.size"
      ],
      "execution_count": null,
      "outputs": [
        {
          "output_type": "stream",
          "text": [
            "6\n"
          ],
          "name": "stdout"
        },
        {
          "output_type": "execute_result",
          "data": {
            "text/plain": [
              "18"
            ]
          },
          "metadata": {
            "tags": []
          },
          "execution_count": 8
        }
      ]
    },
    {
      "cell_type": "markdown",
      "metadata": {
        "id": "A8_Trvyv3KoB"
      },
      "source": [
        "To change the size of array..."
      ]
    },
    {
      "cell_type": "code",
      "metadata": {
        "id": "7AB75qU63KoB",
        "outputId": "0a0659d2-db0e-4428-90be-40aef767543e"
      },
      "source": [
        "a1.reshape(3,2)   # 6"
      ],
      "execution_count": null,
      "outputs": [
        {
          "output_type": "execute_result",
          "data": {
            "text/plain": [
              "array([[1, 2],\n",
              "       [3, 4],\n",
              "       [5, 6]])"
            ]
          },
          "metadata": {
            "tags": []
          },
          "execution_count": 9
        }
      ]
    },
    {
      "cell_type": "code",
      "metadata": {
        "id": "XwfvnaeZ3KoC",
        "outputId": "a5ce71d4-8427-414e-9640-8c6f5351cc47"
      },
      "source": [
        "arr=a2.reshape(6,3)\n",
        "arr"
      ],
      "execution_count": null,
      "outputs": [
        {
          "output_type": "execute_result",
          "data": {
            "text/plain": [
              "array([[ 1,  2,  4],\n",
              "       [ 5,  6,  7],\n",
              "       [12, 14, 45],\n",
              "       [50, 68, 70],\n",
              "       [ 8,  9, 10],\n",
              "       [11, 12, 13]])"
            ]
          },
          "metadata": {
            "tags": []
          },
          "execution_count": 10
        }
      ]
    },
    {
      "cell_type": "code",
      "metadata": {
        "id": "OkNBVl5Q3KoC",
        "outputId": "55208594-9d56-4025-d5aa-13eec5619576"
      },
      "source": [
        "a2.reshape(-1,1) # one column only\n",
        "#a2.reshape(1,-1) # one row only"
      ],
      "execution_count": null,
      "outputs": [
        {
          "output_type": "execute_result",
          "data": {
            "text/plain": [
              "array([[ 1],\n",
              "       [ 2],\n",
              "       [ 4],\n",
              "       [ 5],\n",
              "       [ 6],\n",
              "       [ 7],\n",
              "       [12],\n",
              "       [14],\n",
              "       [45],\n",
              "       [50],\n",
              "       [68],\n",
              "       [70],\n",
              "       [ 8],\n",
              "       [ 9],\n",
              "       [10],\n",
              "       [11],\n",
              "       [12],\n",
              "       [13]])"
            ]
          },
          "metadata": {
            "tags": []
          },
          "execution_count": 12
        }
      ]
    },
    {
      "cell_type": "code",
      "metadata": {
        "id": "XU8gQmLr3KoD",
        "outputId": "96fa62db-11eb-41e1-cd4c-910584341c1c"
      },
      "source": [
        "arr[0]"
      ],
      "execution_count": null,
      "outputs": [
        {
          "output_type": "execute_result",
          "data": {
            "text/plain": [
              "array([1, 2, 4])"
            ]
          },
          "metadata": {
            "tags": []
          },
          "execution_count": 13
        }
      ]
    },
    {
      "cell_type": "code",
      "metadata": {
        "id": "054cShMr3KoD",
        "outputId": "4e674fd6-7ba5-4bf7-fe6d-8cd0ceed699f"
      },
      "source": [
        "arr[2,2]   # arr[2][2]"
      ],
      "execution_count": null,
      "outputs": [
        {
          "output_type": "execute_result",
          "data": {
            "text/plain": [
              "45"
            ]
          },
          "metadata": {
            "tags": []
          },
          "execution_count": 217
        }
      ]
    },
    {
      "cell_type": "code",
      "metadata": {
        "id": "zRmFtOCN3KoD",
        "outputId": "975356d0-2384-4186-d3cc-75854179a95f"
      },
      "source": [
        "arr[2][2]"
      ],
      "execution_count": null,
      "outputs": [
        {
          "output_type": "execute_result",
          "data": {
            "text/plain": [
              "45"
            ]
          },
          "metadata": {
            "tags": []
          },
          "execution_count": 218
        }
      ]
    },
    {
      "cell_type": "markdown",
      "metadata": {
        "id": "O_vf43UJ3KoI"
      },
      "source": [
        "To Find mean, max, sum of array..."
      ]
    },
    {
      "cell_type": "code",
      "metadata": {
        "id": "bsHrHKlC3KoJ",
        "outputId": "b2758c70-c672-44e2-d77b-762f2fcdfd64"
      },
      "source": [
        "a2"
      ],
      "execution_count": null,
      "outputs": [
        {
          "output_type": "execute_result",
          "data": {
            "text/plain": [
              "array([[ 1,  2,  4,  5,  6,  7],\n",
              "       [12, 14, 45, 50, 68, 70],\n",
              "       [ 8,  9, 10, 11, 12, 13]])"
            ]
          },
          "metadata": {
            "tags": []
          },
          "execution_count": 219
        }
      ]
    },
    {
      "cell_type": "code",
      "metadata": {
        "id": "D5rf12Hn3KoK",
        "outputId": "cbd18b4e-d059-4d55-bbb9-6f2d62db9462"
      },
      "source": [
        "a2.mean()"
      ],
      "execution_count": null,
      "outputs": [
        {
          "output_type": "execute_result",
          "data": {
            "text/plain": [
              "19.27777777777778"
            ]
          },
          "metadata": {
            "tags": []
          },
          "execution_count": 220
        }
      ]
    },
    {
      "cell_type": "code",
      "metadata": {
        "id": "sf2hQv1i3KoK",
        "outputId": "e75fa523-ea94-445c-bbbe-1a614377c40d"
      },
      "source": [
        "a2.max()"
      ],
      "execution_count": null,
      "outputs": [
        {
          "output_type": "execute_result",
          "data": {
            "text/plain": [
              "70"
            ]
          },
          "metadata": {
            "tags": []
          },
          "execution_count": 221
        }
      ]
    },
    {
      "cell_type": "code",
      "metadata": {
        "id": "lYDqkR3P3KoK",
        "outputId": "2e7b9284-a99f-4fe9-bf53-adae9c625470"
      },
      "source": [
        "a2.min()"
      ],
      "execution_count": null,
      "outputs": [
        {
          "output_type": "execute_result",
          "data": {
            "text/plain": [
              "1"
            ]
          },
          "metadata": {
            "tags": []
          },
          "execution_count": 222
        }
      ]
    },
    {
      "cell_type": "code",
      "metadata": {
        "id": "a5yFd1zt3KoL",
        "outputId": "76d7adb4-2b1d-4bc0-886f-547afe0c4ae6"
      },
      "source": [
        "a2.sum()"
      ],
      "execution_count": null,
      "outputs": [
        {
          "output_type": "execute_result",
          "data": {
            "text/plain": [
              "347"
            ]
          },
          "metadata": {
            "tags": []
          },
          "execution_count": 223
        }
      ]
    },
    {
      "cell_type": "markdown",
      "metadata": {
        "id": "GYQIHuQZ3KoL"
      },
      "source": [
        "To find sum of each row"
      ]
    },
    {
      "cell_type": "code",
      "metadata": {
        "id": "PdXw04SJ3KoL",
        "outputId": "401bb641-7851-4656-9e1b-9ad99c090d32"
      },
      "source": [
        "a2"
      ],
      "execution_count": null,
      "outputs": [
        {
          "output_type": "execute_result",
          "data": {
            "text/plain": [
              "array([[ 1,  2,  4,  5,  6,  7],\n",
              "       [12, 14, 45, 50, 68, 70],\n",
              "       [ 8,  9, 10, 11, 12, 13]])"
            ]
          },
          "metadata": {
            "tags": []
          },
          "execution_count": 225
        }
      ]
    },
    {
      "cell_type": "code",
      "metadata": {
        "id": "m_-tywL03KoL",
        "outputId": "678f403a-61b7-4b28-86d2-5c9110731960"
      },
      "source": [
        "a2.sum(axis=1)"
      ],
      "execution_count": null,
      "outputs": [
        {
          "output_type": "execute_result",
          "data": {
            "text/plain": [
              "array([ 25, 259,  63])"
            ]
          },
          "metadata": {
            "tags": []
          },
          "execution_count": 226
        }
      ]
    },
    {
      "cell_type": "markdown",
      "metadata": {
        "id": "hVBrGaSb3KoM"
      },
      "source": [
        "To find sum of each column "
      ]
    },
    {
      "cell_type": "code",
      "metadata": {
        "id": "YOHb_lLV3KoM",
        "outputId": "8a069ed1-b5d7-4792-98c6-9146fca895a0"
      },
      "source": [
        "b2.sum(axis=0)"
      ],
      "execution_count": null,
      "outputs": [
        {
          "output_type": "execute_result",
          "data": {
            "text/plain": [
              "array([21, 25, 59, 66, 86, 90])"
            ]
          },
          "metadata": {
            "tags": []
          },
          "execution_count": 227
        }
      ]
    },
    {
      "cell_type": "markdown",
      "metadata": {
        "id": "sux6NLL23KoM"
      },
      "source": [
        "##### linespace"
      ]
    },
    {
      "cell_type": "code",
      "metadata": {
        "id": "qcjPiak83KoN",
        "outputId": "f27b49ed-ba58-49c8-9223-8becce69a9a2"
      },
      "source": [
        "np.linspace(1,100,50)  # 1 to 100 --> 50 numbers.... "
      ],
      "execution_count": null,
      "outputs": [
        {
          "output_type": "execute_result",
          "data": {
            "text/plain": [
              "array([  1.        ,   3.02040816,   5.04081633,   7.06122449,\n",
              "         9.08163265,  11.10204082,  13.12244898,  15.14285714,\n",
              "        17.16326531,  19.18367347,  21.20408163,  23.2244898 ,\n",
              "        25.24489796,  27.26530612,  29.28571429,  31.30612245,\n",
              "        33.32653061,  35.34693878,  37.36734694,  39.3877551 ,\n",
              "        41.40816327,  43.42857143,  45.44897959,  47.46938776,\n",
              "        49.48979592,  51.51020408,  53.53061224,  55.55102041,\n",
              "        57.57142857,  59.59183673,  61.6122449 ,  63.63265306,\n",
              "        65.65306122,  67.67346939,  69.69387755,  71.71428571,\n",
              "        73.73469388,  75.75510204,  77.7755102 ,  79.79591837,\n",
              "        81.81632653,  83.83673469,  85.85714286,  87.87755102,\n",
              "        89.89795918,  91.91836735,  93.93877551,  95.95918367,\n",
              "        97.97959184, 100.        ])"
            ]
          },
          "metadata": {
            "tags": []
          },
          "execution_count": 228
        }
      ]
    },
    {
      "cell_type": "code",
      "metadata": {
        "id": "tgZkkx5P3KoN",
        "outputId": "e9b2c1d6-c6b6-40a6-bbba-5e98a6b7d682"
      },
      "source": [
        "np.linspace(1,100,500)  # 1 to 100 --> 100 numbers\n"
      ],
      "execution_count": null,
      "outputs": [
        {
          "output_type": "execute_result",
          "data": {
            "text/plain": [
              "array([  1.        ,   1.19839679,   1.39679359,   1.59519038,\n",
              "         1.79358717,   1.99198397,   2.19038076,   2.38877756,\n",
              "         2.58717435,   2.78557114,   2.98396794,   3.18236473,\n",
              "         3.38076152,   3.57915832,   3.77755511,   3.9759519 ,\n",
              "         4.1743487 ,   4.37274549,   4.57114228,   4.76953908,\n",
              "         4.96793587,   5.16633267,   5.36472946,   5.56312625,\n",
              "         5.76152305,   5.95991984,   6.15831663,   6.35671343,\n",
              "         6.55511022,   6.75350701,   6.95190381,   7.1503006 ,\n",
              "         7.34869739,   7.54709419,   7.74549098,   7.94388778,\n",
              "         8.14228457,   8.34068136,   8.53907816,   8.73747495,\n",
              "         8.93587174,   9.13426854,   9.33266533,   9.53106212,\n",
              "         9.72945892,   9.92785571,  10.12625251,  10.3246493 ,\n",
              "        10.52304609,  10.72144289,  10.91983968,  11.11823647,\n",
              "        11.31663327,  11.51503006,  11.71342685,  11.91182365,\n",
              "        12.11022044,  12.30861723,  12.50701403,  12.70541082,\n",
              "        12.90380762,  13.10220441,  13.3006012 ,  13.498998  ,\n",
              "        13.69739479,  13.89579158,  14.09418838,  14.29258517,\n",
              "        14.49098196,  14.68937876,  14.88777555,  15.08617234,\n",
              "        15.28456914,  15.48296593,  15.68136273,  15.87975952,\n",
              "        16.07815631,  16.27655311,  16.4749499 ,  16.67334669,\n",
              "        16.87174349,  17.07014028,  17.26853707,  17.46693387,\n",
              "        17.66533066,  17.86372745,  18.06212425,  18.26052104,\n",
              "        18.45891784,  18.65731463,  18.85571142,  19.05410822,\n",
              "        19.25250501,  19.4509018 ,  19.6492986 ,  19.84769539,\n",
              "        20.04609218,  20.24448898,  20.44288577,  20.64128257,\n",
              "        20.83967936,  21.03807615,  21.23647295,  21.43486974,\n",
              "        21.63326653,  21.83166333,  22.03006012,  22.22845691,\n",
              "        22.42685371,  22.6252505 ,  22.82364729,  23.02204409,\n",
              "        23.22044088,  23.41883768,  23.61723447,  23.81563126,\n",
              "        24.01402806,  24.21242485,  24.41082164,  24.60921844,\n",
              "        24.80761523,  25.00601202,  25.20440882,  25.40280561,\n",
              "        25.6012024 ,  25.7995992 ,  25.99799599,  26.19639279,\n",
              "        26.39478958,  26.59318637,  26.79158317,  26.98997996,\n",
              "        27.18837675,  27.38677355,  27.58517034,  27.78356713,\n",
              "        27.98196393,  28.18036072,  28.37875752,  28.57715431,\n",
              "        28.7755511 ,  28.9739479 ,  29.17234469,  29.37074148,\n",
              "        29.56913828,  29.76753507,  29.96593186,  30.16432866,\n",
              "        30.36272545,  30.56112224,  30.75951904,  30.95791583,\n",
              "        31.15631263,  31.35470942,  31.55310621,  31.75150301,\n",
              "        31.9498998 ,  32.14829659,  32.34669339,  32.54509018,\n",
              "        32.74348697,  32.94188377,  33.14028056,  33.33867735,\n",
              "        33.53707415,  33.73547094,  33.93386774,  34.13226453,\n",
              "        34.33066132,  34.52905812,  34.72745491,  34.9258517 ,\n",
              "        35.1242485 ,  35.32264529,  35.52104208,  35.71943888,\n",
              "        35.91783567,  36.11623246,  36.31462926,  36.51302605,\n",
              "        36.71142285,  36.90981964,  37.10821643,  37.30661323,\n",
              "        37.50501002,  37.70340681,  37.90180361,  38.1002004 ,\n",
              "        38.29859719,  38.49699399,  38.69539078,  38.89378758,\n",
              "        39.09218437,  39.29058116,  39.48897796,  39.68737475,\n",
              "        39.88577154,  40.08416834,  40.28256513,  40.48096192,\n",
              "        40.67935872,  40.87775551,  41.0761523 ,  41.2745491 ,\n",
              "        41.47294589,  41.67134269,  41.86973948,  42.06813627,\n",
              "        42.26653307,  42.46492986,  42.66332665,  42.86172345,\n",
              "        43.06012024,  43.25851703,  43.45691383,  43.65531062,\n",
              "        43.85370741,  44.05210421,  44.250501  ,  44.4488978 ,\n",
              "        44.64729459,  44.84569138,  45.04408818,  45.24248497,\n",
              "        45.44088176,  45.63927856,  45.83767535,  46.03607214,\n",
              "        46.23446894,  46.43286573,  46.63126253,  46.82965932,\n",
              "        47.02805611,  47.22645291,  47.4248497 ,  47.62324649,\n",
              "        47.82164329,  48.02004008,  48.21843687,  48.41683367,\n",
              "        48.61523046,  48.81362725,  49.01202405,  49.21042084,\n",
              "        49.40881764,  49.60721443,  49.80561122,  50.00400802,\n",
              "        50.20240481,  50.4008016 ,  50.5991984 ,  50.79759519,\n",
              "        50.99599198,  51.19438878,  51.39278557,  51.59118236,\n",
              "        51.78957916,  51.98797595,  52.18637275,  52.38476954,\n",
              "        52.58316633,  52.78156313,  52.97995992,  53.17835671,\n",
              "        53.37675351,  53.5751503 ,  53.77354709,  53.97194389,\n",
              "        54.17034068,  54.36873747,  54.56713427,  54.76553106,\n",
              "        54.96392786,  55.16232465,  55.36072144,  55.55911824,\n",
              "        55.75751503,  55.95591182,  56.15430862,  56.35270541,\n",
              "        56.5511022 ,  56.749499  ,  56.94789579,  57.14629259,\n",
              "        57.34468938,  57.54308617,  57.74148297,  57.93987976,\n",
              "        58.13827655,  58.33667335,  58.53507014,  58.73346693,\n",
              "        58.93186373,  59.13026052,  59.32865731,  59.52705411,\n",
              "        59.7254509 ,  59.9238477 ,  60.12224449,  60.32064128,\n",
              "        60.51903808,  60.71743487,  60.91583166,  61.11422846,\n",
              "        61.31262525,  61.51102204,  61.70941884,  61.90781563,\n",
              "        62.10621242,  62.30460922,  62.50300601,  62.70140281,\n",
              "        62.8997996 ,  63.09819639,  63.29659319,  63.49498998,\n",
              "        63.69338677,  63.89178357,  64.09018036,  64.28857715,\n",
              "        64.48697395,  64.68537074,  64.88376754,  65.08216433,\n",
              "        65.28056112,  65.47895792,  65.67735471,  65.8757515 ,\n",
              "        66.0741483 ,  66.27254509,  66.47094188,  66.66933868,\n",
              "        66.86773547,  67.06613226,  67.26452906,  67.46292585,\n",
              "        67.66132265,  67.85971944,  68.05811623,  68.25651303,\n",
              "        68.45490982,  68.65330661,  68.85170341,  69.0501002 ,\n",
              "        69.24849699,  69.44689379,  69.64529058,  69.84368737,\n",
              "        70.04208417,  70.24048096,  70.43887776,  70.63727455,\n",
              "        70.83567134,  71.03406814,  71.23246493,  71.43086172,\n",
              "        71.62925852,  71.82765531,  72.0260521 ,  72.2244489 ,\n",
              "        72.42284569,  72.62124248,  72.81963928,  73.01803607,\n",
              "        73.21643287,  73.41482966,  73.61322645,  73.81162325,\n",
              "        74.01002004,  74.20841683,  74.40681363,  74.60521042,\n",
              "        74.80360721,  75.00200401,  75.2004008 ,  75.3987976 ,\n",
              "        75.59719439,  75.79559118,  75.99398798,  76.19238477,\n",
              "        76.39078156,  76.58917836,  76.78757515,  76.98597194,\n",
              "        77.18436874,  77.38276553,  77.58116232,  77.77955912,\n",
              "        77.97795591,  78.17635271,  78.3747495 ,  78.57314629,\n",
              "        78.77154309,  78.96993988,  79.16833667,  79.36673347,\n",
              "        79.56513026,  79.76352705,  79.96192385,  80.16032064,\n",
              "        80.35871743,  80.55711423,  80.75551102,  80.95390782,\n",
              "        81.15230461,  81.3507014 ,  81.5490982 ,  81.74749499,\n",
              "        81.94589178,  82.14428858,  82.34268537,  82.54108216,\n",
              "        82.73947896,  82.93787575,  83.13627255,  83.33466934,\n",
              "        83.53306613,  83.73146293,  83.92985972,  84.12825651,\n",
              "        84.32665331,  84.5250501 ,  84.72344689,  84.92184369,\n",
              "        85.12024048,  85.31863727,  85.51703407,  85.71543086,\n",
              "        85.91382766,  86.11222445,  86.31062124,  86.50901804,\n",
              "        86.70741483,  86.90581162,  87.10420842,  87.30260521,\n",
              "        87.501002  ,  87.6993988 ,  87.89779559,  88.09619238,\n",
              "        88.29458918,  88.49298597,  88.69138277,  88.88977956,\n",
              "        89.08817635,  89.28657315,  89.48496994,  89.68336673,\n",
              "        89.88176353,  90.08016032,  90.27855711,  90.47695391,\n",
              "        90.6753507 ,  90.87374749,  91.07214429,  91.27054108,\n",
              "        91.46893788,  91.66733467,  91.86573146,  92.06412826,\n",
              "        92.26252505,  92.46092184,  92.65931864,  92.85771543,\n",
              "        93.05611222,  93.25450902,  93.45290581,  93.65130261,\n",
              "        93.8496994 ,  94.04809619,  94.24649299,  94.44488978,\n",
              "        94.64328657,  94.84168337,  95.04008016,  95.23847695,\n",
              "        95.43687375,  95.63527054,  95.83366733,  96.03206413,\n",
              "        96.23046092,  96.42885772,  96.62725451,  96.8256513 ,\n",
              "        97.0240481 ,  97.22244489,  97.42084168,  97.61923848,\n",
              "        97.81763527,  98.01603206,  98.21442886,  98.41282565,\n",
              "        98.61122244,  98.80961924,  99.00801603,  99.20641283,\n",
              "        99.40480962,  99.60320641,  99.80160321, 100.        ])"
            ]
          },
          "metadata": {
            "tags": []
          },
          "execution_count": 231
        }
      ]
    },
    {
      "cell_type": "markdown",
      "metadata": {
        "id": "RgvdzMr73KoN"
      },
      "source": [
        "##### arange "
      ]
    },
    {
      "cell_type": "code",
      "metadata": {
        "id": "osdDzy8m3KoN",
        "outputId": "98920401-3499-4272-8ed7-99fca9be8424"
      },
      "source": [
        "np.arange(1,100,6)  # Like range --arange -->"
      ],
      "execution_count": null,
      "outputs": [
        {
          "output_type": "execute_result",
          "data": {
            "text/plain": [
              "array([ 1,  7, 13, 19, 25, 31, 37, 43, 49, 55, 61, 67, 73, 79, 85, 91, 97])"
            ]
          },
          "metadata": {
            "tags": []
          },
          "execution_count": 232
        }
      ]
    },
    {
      "cell_type": "markdown",
      "metadata": {
        "id": "HEYQ2A3x3KoO"
      },
      "source": [
        "##### randomint"
      ]
    },
    {
      "cell_type": "code",
      "metadata": {
        "id": "FQUR0wfl3KoO",
        "outputId": "1c09ca84-5ba6-4048-a5ca-ae0856ed8267"
      },
      "source": [
        "np.random.randint(10,100)"
      ],
      "execution_count": null,
      "outputs": [
        {
          "output_type": "execute_result",
          "data": {
            "text/plain": [
              "49"
            ]
          },
          "metadata": {
            "tags": []
          },
          "execution_count": 235
        }
      ]
    },
    {
      "cell_type": "code",
      "metadata": {
        "id": "DulP-rl_3KoO",
        "outputId": "03656675-1047-4e83-d48c-56b811b970fb"
      },
      "source": [
        "np.random.randint(10,100,(3,3))"
      ],
      "execution_count": null,
      "outputs": [
        {
          "output_type": "execute_result",
          "data": {
            "text/plain": [
              "array([[61, 79, 39],\n",
              "       [34, 72, 17],\n",
              "       [53, 43, 89]])"
            ]
          },
          "metadata": {
            "tags": []
          },
          "execution_count": 237
        }
      ]
    },
    {
      "cell_type": "code",
      "metadata": {
        "id": "7437jvb13KoP",
        "outputId": "ae49ef93-7c6f-4f1c-fd31-f02dafdf37f7"
      },
      "source": [
        "zeros = np.zeros((3,3))\n",
        "zeros"
      ],
      "execution_count": null,
      "outputs": [
        {
          "output_type": "execute_result",
          "data": {
            "text/plain": [
              "array([[0., 0., 0.],\n",
              "       [0., 0., 0.],\n",
              "       [0., 0., 0.]])"
            ]
          },
          "metadata": {
            "tags": []
          },
          "execution_count": 238
        }
      ]
    },
    {
      "cell_type": "code",
      "metadata": {
        "id": "0n5CDb7r3KoP",
        "outputId": "99911080-295e-40c2-805f-21d7bf05c856"
      },
      "source": [
        "ones = np.ones((3,3))\n",
        "ones"
      ],
      "execution_count": null,
      "outputs": [
        {
          "output_type": "execute_result",
          "data": {
            "text/plain": [
              "array([[1., 1., 1.],\n",
              "       [1., 1., 1.],\n",
              "       [1., 1., 1.]])"
            ]
          },
          "metadata": {
            "tags": []
          },
          "execution_count": 239
        }
      ]
    },
    {
      "cell_type": "code",
      "metadata": {
        "id": "nuTYL8Q63KoP",
        "outputId": "366427f8-60b1-479c-ad70-5154b9bd8c67"
      },
      "source": [
        "np.full( (3,4), 0.5)"
      ],
      "execution_count": null,
      "outputs": [
        {
          "output_type": "execute_result",
          "data": {
            "text/plain": [
              "array([[0.5, 0.5, 0.5, 0.5],\n",
              "       [0.5, 0.5, 0.5, 0.5],\n",
              "       [0.5, 0.5, 0.5, 0.5]])"
            ]
          },
          "metadata": {
            "tags": []
          },
          "execution_count": 240
        }
      ]
    },
    {
      "cell_type": "code",
      "metadata": {
        "id": "z7IdOBqe3KoP",
        "outputId": "96e05b81-7756-454d-8656-18a923a38af2"
      },
      "source": [
        "np.full( (3,4), np.pi )"
      ],
      "execution_count": null,
      "outputs": [
        {
          "output_type": "execute_result",
          "data": {
            "text/plain": [
              "array([[3.14159265, 3.14159265, 3.14159265, 3.14159265],\n",
              "       [3.14159265, 3.14159265, 3.14159265, 3.14159265],\n",
              "       [3.14159265, 3.14159265, 3.14159265, 3.14159265]])"
            ]
          },
          "metadata": {
            "tags": []
          },
          "execution_count": 241
        }
      ]
    },
    {
      "cell_type": "code",
      "metadata": {
        "id": "biAw3ULC3KoQ",
        "outputId": "76e8b99d-ceda-4ba9-b5db-9982cc19b688"
      },
      "source": [
        "%timeit np.arange(1, 100, 0.1)"
      ],
      "execution_count": null,
      "outputs": [
        {
          "output_type": "stream",
          "text": [
            "2.48 µs ± 244 ns per loop (mean ± std. dev. of 7 runs, 100000 loops each)\n"
          ],
          "name": "stdout"
        }
      ]
    },
    {
      "cell_type": "code",
      "metadata": {
        "id": "J8vrTm5S3KoQ"
      },
      "source": [
        "three_d_array = np.full((2,3,4), 0.55)"
      ],
      "execution_count": null,
      "outputs": []
    },
    {
      "cell_type": "code",
      "metadata": {
        "id": "wlYu8VKu3KoQ",
        "outputId": "513596c7-ff4f-47ff-a9c5-26422fa0bf7e"
      },
      "source": [
        "three_d_array"
      ],
      "execution_count": null,
      "outputs": [
        {
          "output_type": "execute_result",
          "data": {
            "text/plain": [
              "array([[[0.55, 0.55, 0.55, 0.55],\n",
              "        [0.55, 0.55, 0.55, 0.55],\n",
              "        [0.55, 0.55, 0.55, 0.55]],\n",
              "\n",
              "       [[0.55, 0.55, 0.55, 0.55],\n",
              "        [0.55, 0.55, 0.55, 0.55],\n",
              "        [0.55, 0.55, 0.55, 0.55]]])"
            ]
          },
          "metadata": {
            "tags": []
          },
          "execution_count": 244
        }
      ]
    },
    {
      "cell_type": "code",
      "metadata": {
        "id": "6mn6A-kN3KoQ",
        "outputId": "5db39a00-1a30-40ee-a3bc-3d923ef4a71e"
      },
      "source": [
        "three_d_array.size"
      ],
      "execution_count": null,
      "outputs": [
        {
          "output_type": "execute_result",
          "data": {
            "text/plain": [
              "24"
            ]
          },
          "metadata": {
            "tags": []
          },
          "execution_count": 245
        }
      ]
    },
    {
      "cell_type": "code",
      "metadata": {
        "id": "Z8iLSIoY3KoR",
        "outputId": "a3f4ba9f-d746-444f-f2e8-e21805e707be"
      },
      "source": [
        "three_d_array.shape"
      ],
      "execution_count": null,
      "outputs": [
        {
          "output_type": "execute_result",
          "data": {
            "text/plain": [
              "(2, 3, 4)"
            ]
          },
          "metadata": {
            "tags": []
          },
          "execution_count": 246
        }
      ]
    },
    {
      "cell_type": "code",
      "metadata": {
        "id": "cMk585Ig3KoR",
        "outputId": "1140cda5-3412-4dfa-ccca-d9f350a0bf73"
      },
      "source": [
        "three_d_array.ndim"
      ],
      "execution_count": null,
      "outputs": [
        {
          "output_type": "execute_result",
          "data": {
            "text/plain": [
              "3"
            ]
          },
          "metadata": {
            "tags": []
          },
          "execution_count": 247
        }
      ]
    },
    {
      "cell_type": "code",
      "metadata": {
        "id": "q9tlgted3KoR",
        "outputId": "5eaaefa7-ac1e-4e66-d768-c82447526ee7"
      },
      "source": [
        "three_d_array.reshape(-1, 6)"
      ],
      "execution_count": null,
      "outputs": [
        {
          "output_type": "execute_result",
          "data": {
            "text/plain": [
              "array([[0.55, 0.55, 0.55, 0.55, 0.55, 0.55],\n",
              "       [0.55, 0.55, 0.55, 0.55, 0.55, 0.55],\n",
              "       [0.55, 0.55, 0.55, 0.55, 0.55, 0.55],\n",
              "       [0.55, 0.55, 0.55, 0.55, 0.55, 0.55]])"
            ]
          },
          "metadata": {
            "tags": []
          },
          "execution_count": 248
        }
      ]
    },
    {
      "cell_type": "code",
      "metadata": {
        "scrolled": true,
        "id": "DwCiyLcL3KoR",
        "outputId": "adda0738-d5ba-4e83-96e0-fc9f62f4962d"
      },
      "source": [
        "dir(np)"
      ],
      "execution_count": null,
      "outputs": [
        {
          "output_type": "execute_result",
          "data": {
            "text/plain": [
              "['ALLOW_THREADS',\n",
              " 'AxisError',\n",
              " 'BUFSIZE',\n",
              " 'CLIP',\n",
              " 'ComplexWarning',\n",
              " 'DataSource',\n",
              " 'ERR_CALL',\n",
              " 'ERR_DEFAULT',\n",
              " 'ERR_IGNORE',\n",
              " 'ERR_LOG',\n",
              " 'ERR_PRINT',\n",
              " 'ERR_RAISE',\n",
              " 'ERR_WARN',\n",
              " 'FLOATING_POINT_SUPPORT',\n",
              " 'FPE_DIVIDEBYZERO',\n",
              " 'FPE_INVALID',\n",
              " 'FPE_OVERFLOW',\n",
              " 'FPE_UNDERFLOW',\n",
              " 'False_',\n",
              " 'Inf',\n",
              " 'Infinity',\n",
              " 'MAXDIMS',\n",
              " 'MAY_SHARE_BOUNDS',\n",
              " 'MAY_SHARE_EXACT',\n",
              " 'MachAr',\n",
              " 'ModuleDeprecationWarning',\n",
              " 'NAN',\n",
              " 'NINF',\n",
              " 'NZERO',\n",
              " 'NaN',\n",
              " 'PINF',\n",
              " 'PZERO',\n",
              " 'RAISE',\n",
              " 'RankWarning',\n",
              " 'SHIFT_DIVIDEBYZERO',\n",
              " 'SHIFT_INVALID',\n",
              " 'SHIFT_OVERFLOW',\n",
              " 'SHIFT_UNDERFLOW',\n",
              " 'ScalarType',\n",
              " 'Tester',\n",
              " 'TooHardError',\n",
              " 'True_',\n",
              " 'UFUNC_BUFSIZE_DEFAULT',\n",
              " 'UFUNC_PYVALS_NAME',\n",
              " 'VisibleDeprecationWarning',\n",
              " 'WRAP',\n",
              " '_NoValue',\n",
              " '_UFUNC_API',\n",
              " '__NUMPY_SETUP__',\n",
              " '__all__',\n",
              " '__builtins__',\n",
              " '__cached__',\n",
              " '__config__',\n",
              " '__dir__',\n",
              " '__doc__',\n",
              " '__file__',\n",
              " '__getattr__',\n",
              " '__git_revision__',\n",
              " '__loader__',\n",
              " '__name__',\n",
              " '__package__',\n",
              " '__path__',\n",
              " '__spec__',\n",
              " '__version__',\n",
              " '_add_newdoc_ufunc',\n",
              " '_distributor_init',\n",
              " '_globals',\n",
              " '_mat',\n",
              " '_pytesttester',\n",
              " 'abs',\n",
              " 'absolute',\n",
              " 'add',\n",
              " 'add_docstring',\n",
              " 'add_newdoc',\n",
              " 'add_newdoc_ufunc',\n",
              " 'alen',\n",
              " 'all',\n",
              " 'allclose',\n",
              " 'alltrue',\n",
              " 'amax',\n",
              " 'amin',\n",
              " 'angle',\n",
              " 'any',\n",
              " 'append',\n",
              " 'apply_along_axis',\n",
              " 'apply_over_axes',\n",
              " 'arange',\n",
              " 'arccos',\n",
              " 'arccosh',\n",
              " 'arcsin',\n",
              " 'arcsinh',\n",
              " 'arctan',\n",
              " 'arctan2',\n",
              " 'arctanh',\n",
              " 'argmax',\n",
              " 'argmin',\n",
              " 'argpartition',\n",
              " 'argsort',\n",
              " 'argwhere',\n",
              " 'around',\n",
              " 'array',\n",
              " 'array2string',\n",
              " 'array_equal',\n",
              " 'array_equiv',\n",
              " 'array_repr',\n",
              " 'array_split',\n",
              " 'array_str',\n",
              " 'asanyarray',\n",
              " 'asarray',\n",
              " 'asarray_chkfinite',\n",
              " 'ascontiguousarray',\n",
              " 'asfarray',\n",
              " 'asfortranarray',\n",
              " 'asmatrix',\n",
              " 'asscalar',\n",
              " 'atleast_1d',\n",
              " 'atleast_2d',\n",
              " 'atleast_3d',\n",
              " 'average',\n",
              " 'bartlett',\n",
              " 'base_repr',\n",
              " 'binary_repr',\n",
              " 'bincount',\n",
              " 'bitwise_and',\n",
              " 'bitwise_not',\n",
              " 'bitwise_or',\n",
              " 'bitwise_xor',\n",
              " 'blackman',\n",
              " 'block',\n",
              " 'bmat',\n",
              " 'bool',\n",
              " 'bool8',\n",
              " 'bool_',\n",
              " 'broadcast',\n",
              " 'broadcast_arrays',\n",
              " 'broadcast_to',\n",
              " 'busday_count',\n",
              " 'busday_offset',\n",
              " 'busdaycalendar',\n",
              " 'byte',\n",
              " 'byte_bounds',\n",
              " 'bytes0',\n",
              " 'bytes_',\n",
              " 'c_',\n",
              " 'can_cast',\n",
              " 'cast',\n",
              " 'cbrt',\n",
              " 'cdouble',\n",
              " 'ceil',\n",
              " 'cfloat',\n",
              " 'char',\n",
              " 'character',\n",
              " 'chararray',\n",
              " 'choose',\n",
              " 'clip',\n",
              " 'clongdouble',\n",
              " 'clongfloat',\n",
              " 'column_stack',\n",
              " 'common_type',\n",
              " 'compare_chararrays',\n",
              " 'compat',\n",
              " 'complex',\n",
              " 'complex128',\n",
              " 'complex64',\n",
              " 'complex_',\n",
              " 'complexfloating',\n",
              " 'compress',\n",
              " 'concatenate',\n",
              " 'conj',\n",
              " 'conjugate',\n",
              " 'convolve',\n",
              " 'copy',\n",
              " 'copysign',\n",
              " 'copyto',\n",
              " 'core',\n",
              " 'corrcoef',\n",
              " 'correlate',\n",
              " 'cos',\n",
              " 'cosh',\n",
              " 'count_nonzero',\n",
              " 'cov',\n",
              " 'cross',\n",
              " 'csingle',\n",
              " 'ctypeslib',\n",
              " 'cumprod',\n",
              " 'cumproduct',\n",
              " 'cumsum',\n",
              " 'datetime64',\n",
              " 'datetime_as_string',\n",
              " 'datetime_data',\n",
              " 'deg2rad',\n",
              " 'degrees',\n",
              " 'delete',\n",
              " 'deprecate',\n",
              " 'deprecate_with_doc',\n",
              " 'diag',\n",
              " 'diag_indices',\n",
              " 'diag_indices_from',\n",
              " 'diagflat',\n",
              " 'diagonal',\n",
              " 'diff',\n",
              " 'digitize',\n",
              " 'disp',\n",
              " 'divide',\n",
              " 'divmod',\n",
              " 'dot',\n",
              " 'double',\n",
              " 'dsplit',\n",
              " 'dstack',\n",
              " 'dtype',\n",
              " 'e',\n",
              " 'ediff1d',\n",
              " 'einsum',\n",
              " 'einsum_path',\n",
              " 'emath',\n",
              " 'empty',\n",
              " 'empty_like',\n",
              " 'equal',\n",
              " 'errstate',\n",
              " 'euler_gamma',\n",
              " 'exp',\n",
              " 'exp2',\n",
              " 'expand_dims',\n",
              " 'expm1',\n",
              " 'extract',\n",
              " 'eye',\n",
              " 'fabs',\n",
              " 'fastCopyAndTranspose',\n",
              " 'fft',\n",
              " 'fill_diagonal',\n",
              " 'find_common_type',\n",
              " 'finfo',\n",
              " 'fix',\n",
              " 'flatiter',\n",
              " 'flatnonzero',\n",
              " 'flexible',\n",
              " 'flip',\n",
              " 'fliplr',\n",
              " 'flipud',\n",
              " 'float',\n",
              " 'float16',\n",
              " 'float32',\n",
              " 'float64',\n",
              " 'float_',\n",
              " 'float_power',\n",
              " 'floating',\n",
              " 'floor',\n",
              " 'floor_divide',\n",
              " 'fmax',\n",
              " 'fmin',\n",
              " 'fmod',\n",
              " 'format_float_positional',\n",
              " 'format_float_scientific',\n",
              " 'format_parser',\n",
              " 'frexp',\n",
              " 'frombuffer',\n",
              " 'fromfile',\n",
              " 'fromfunction',\n",
              " 'fromiter',\n",
              " 'frompyfunc',\n",
              " 'fromregex',\n",
              " 'fromstring',\n",
              " 'full',\n",
              " 'full_like',\n",
              " 'fv',\n",
              " 'gcd',\n",
              " 'generic',\n",
              " 'genfromtxt',\n",
              " 'geomspace',\n",
              " 'get_array_wrap',\n",
              " 'get_include',\n",
              " 'get_printoptions',\n",
              " 'getbufsize',\n",
              " 'geterr',\n",
              " 'geterrcall',\n",
              " 'geterrobj',\n",
              " 'gradient',\n",
              " 'greater',\n",
              " 'greater_equal',\n",
              " 'half',\n",
              " 'hamming',\n",
              " 'hanning',\n",
              " 'heaviside',\n",
              " 'histogram',\n",
              " 'histogram2d',\n",
              " 'histogram_bin_edges',\n",
              " 'histogramdd',\n",
              " 'hsplit',\n",
              " 'hstack',\n",
              " 'hypot',\n",
              " 'i0',\n",
              " 'identity',\n",
              " 'iinfo',\n",
              " 'imag',\n",
              " 'in1d',\n",
              " 'index_exp',\n",
              " 'indices',\n",
              " 'inexact',\n",
              " 'inf',\n",
              " 'info',\n",
              " 'infty',\n",
              " 'inner',\n",
              " 'insert',\n",
              " 'int',\n",
              " 'int0',\n",
              " 'int16',\n",
              " 'int32',\n",
              " 'int64',\n",
              " 'int8',\n",
              " 'int_',\n",
              " 'intc',\n",
              " 'integer',\n",
              " 'interp',\n",
              " 'intersect1d',\n",
              " 'intp',\n",
              " 'invert',\n",
              " 'ipmt',\n",
              " 'irr',\n",
              " 'is_busday',\n",
              " 'isclose',\n",
              " 'iscomplex',\n",
              " 'iscomplexobj',\n",
              " 'isfinite',\n",
              " 'isfortran',\n",
              " 'isin',\n",
              " 'isinf',\n",
              " 'isnan',\n",
              " 'isnat',\n",
              " 'isneginf',\n",
              " 'isposinf',\n",
              " 'isreal',\n",
              " 'isrealobj',\n",
              " 'isscalar',\n",
              " 'issctype',\n",
              " 'issubclass_',\n",
              " 'issubdtype',\n",
              " 'issubsctype',\n",
              " 'iterable',\n",
              " 'ix_',\n",
              " 'kaiser',\n",
              " 'kron',\n",
              " 'lcm',\n",
              " 'ldexp',\n",
              " 'left_shift',\n",
              " 'less',\n",
              " 'less_equal',\n",
              " 'lexsort',\n",
              " 'lib',\n",
              " 'linalg',\n",
              " 'linspace',\n",
              " 'little_endian',\n",
              " 'load',\n",
              " 'loads',\n",
              " 'loadtxt',\n",
              " 'log',\n",
              " 'log10',\n",
              " 'log1p',\n",
              " 'log2',\n",
              " 'logaddexp',\n",
              " 'logaddexp2',\n",
              " 'logical_and',\n",
              " 'logical_not',\n",
              " 'logical_or',\n",
              " 'logical_xor',\n",
              " 'logspace',\n",
              " 'long',\n",
              " 'longcomplex',\n",
              " 'longdouble',\n",
              " 'longfloat',\n",
              " 'longlong',\n",
              " 'lookfor',\n",
              " 'ma',\n",
              " 'mafromtxt',\n",
              " 'mask_indices',\n",
              " 'mat',\n",
              " 'math',\n",
              " 'matmul',\n",
              " 'matrix',\n",
              " 'matrixlib',\n",
              " 'max',\n",
              " 'maximum',\n",
              " 'maximum_sctype',\n",
              " 'may_share_memory',\n",
              " 'mean',\n",
              " 'median',\n",
              " 'memmap',\n",
              " 'meshgrid',\n",
              " 'mgrid',\n",
              " 'min',\n",
              " 'min_scalar_type',\n",
              " 'minimum',\n",
              " 'mintypecode',\n",
              " 'mirr',\n",
              " 'mod',\n",
              " 'modf',\n",
              " 'moveaxis',\n",
              " 'msort',\n",
              " 'multiply',\n",
              " 'nan',\n",
              " 'nan_to_num',\n",
              " 'nanargmax',\n",
              " 'nanargmin',\n",
              " 'nancumprod',\n",
              " 'nancumsum',\n",
              " 'nanmax',\n",
              " 'nanmean',\n",
              " 'nanmedian',\n",
              " 'nanmin',\n",
              " 'nanpercentile',\n",
              " 'nanprod',\n",
              " 'nanquantile',\n",
              " 'nanstd',\n",
              " 'nansum',\n",
              " 'nanvar',\n",
              " 'nbytes',\n",
              " 'ndarray',\n",
              " 'ndenumerate',\n",
              " 'ndfromtxt',\n",
              " 'ndim',\n",
              " 'ndindex',\n",
              " 'nditer',\n",
              " 'negative',\n",
              " 'nested_iters',\n",
              " 'newaxis',\n",
              " 'nextafter',\n",
              " 'nonzero',\n",
              " 'not_equal',\n",
              " 'nper',\n",
              " 'npv',\n",
              " 'numarray',\n",
              " 'number',\n",
              " 'obj2sctype',\n",
              " 'object',\n",
              " 'object0',\n",
              " 'object_',\n",
              " 'ogrid',\n",
              " 'oldnumeric',\n",
              " 'ones',\n",
              " 'ones_like',\n",
              " 'os',\n",
              " 'outer',\n",
              " 'packbits',\n",
              " 'pad',\n",
              " 'partition',\n",
              " 'percentile',\n",
              " 'pi',\n",
              " 'piecewise',\n",
              " 'place',\n",
              " 'pmt',\n",
              " 'poly',\n",
              " 'poly1d',\n",
              " 'polyadd',\n",
              " 'polyder',\n",
              " 'polydiv',\n",
              " 'polyfit',\n",
              " 'polyint',\n",
              " 'polymul',\n",
              " 'polynomial',\n",
              " 'polysub',\n",
              " 'polyval',\n",
              " 'positive',\n",
              " 'power',\n",
              " 'ppmt',\n",
              " 'printoptions',\n",
              " 'prod',\n",
              " 'product',\n",
              " 'promote_types',\n",
              " 'ptp',\n",
              " 'put',\n",
              " 'put_along_axis',\n",
              " 'putmask',\n",
              " 'pv',\n",
              " 'quantile',\n",
              " 'r_',\n",
              " 'rad2deg',\n",
              " 'radians',\n",
              " 'random',\n",
              " 'rate',\n",
              " 'ravel',\n",
              " 'ravel_multi_index',\n",
              " 'real',\n",
              " 'real_if_close',\n",
              " 'rec',\n",
              " 'recarray',\n",
              " 'recfromcsv',\n",
              " 'recfromtxt',\n",
              " 'reciprocal',\n",
              " 'record',\n",
              " 'remainder',\n",
              " 'repeat',\n",
              " 'require',\n",
              " 'reshape',\n",
              " 'resize',\n",
              " 'result_type',\n",
              " 'right_shift',\n",
              " 'rint',\n",
              " 'roll',\n",
              " 'rollaxis',\n",
              " 'roots',\n",
              " 'rot90',\n",
              " 'round',\n",
              " 'round_',\n",
              " 'row_stack',\n",
              " 's_',\n",
              " 'safe_eval',\n",
              " 'save',\n",
              " 'savetxt',\n",
              " 'savez',\n",
              " 'savez_compressed',\n",
              " 'sctype2char',\n",
              " 'sctypeDict',\n",
              " 'sctypeNA',\n",
              " 'sctypes',\n",
              " 'searchsorted',\n",
              " 'select',\n",
              " 'set_numeric_ops',\n",
              " 'set_printoptions',\n",
              " 'set_string_function',\n",
              " 'setbufsize',\n",
              " 'setdiff1d',\n",
              " 'seterr',\n",
              " 'seterrcall',\n",
              " 'seterrobj',\n",
              " 'setxor1d',\n",
              " 'shape',\n",
              " 'shares_memory',\n",
              " 'short',\n",
              " 'show_config',\n",
              " 'sign',\n",
              " 'signbit',\n",
              " 'signedinteger',\n",
              " 'sin',\n",
              " 'sinc',\n",
              " 'single',\n",
              " 'singlecomplex',\n",
              " 'sinh',\n",
              " 'size',\n",
              " 'sometrue',\n",
              " 'sort',\n",
              " 'sort_complex',\n",
              " 'source',\n",
              " 'spacing',\n",
              " 'split',\n",
              " 'sqrt',\n",
              " 'square',\n",
              " 'squeeze',\n",
              " 'stack',\n",
              " 'std',\n",
              " 'str',\n",
              " 'str0',\n",
              " 'str_',\n",
              " 'string_',\n",
              " 'subtract',\n",
              " 'sum',\n",
              " 'swapaxes',\n",
              " 'sys',\n",
              " 'take',\n",
              " 'take_along_axis',\n",
              " 'tan',\n",
              " 'tanh',\n",
              " 'tensordot',\n",
              " 'test',\n",
              " 'testing',\n",
              " 'tile',\n",
              " 'timedelta64',\n",
              " 'trace',\n",
              " 'tracemalloc_domain',\n",
              " 'transpose',\n",
              " 'trapz',\n",
              " 'tri',\n",
              " 'tril',\n",
              " 'tril_indices',\n",
              " 'tril_indices_from',\n",
              " 'trim_zeros',\n",
              " 'triu',\n",
              " 'triu_indices',\n",
              " 'triu_indices_from',\n",
              " 'true_divide',\n",
              " 'trunc',\n",
              " 'typeDict',\n",
              " 'typeNA',\n",
              " 'typecodes',\n",
              " 'typename',\n",
              " 'ubyte',\n",
              " 'ufunc',\n",
              " 'uint',\n",
              " 'uint0',\n",
              " 'uint16',\n",
              " 'uint32',\n",
              " 'uint64',\n",
              " 'uint8',\n",
              " 'uintc',\n",
              " 'uintp',\n",
              " 'ulonglong',\n",
              " 'unicode',\n",
              " 'unicode_',\n",
              " 'union1d',\n",
              " 'unique',\n",
              " 'unpackbits',\n",
              " 'unravel_index',\n",
              " 'unsignedinteger',\n",
              " 'unwrap',\n",
              " 'use_hugepage',\n",
              " 'ushort',\n",
              " 'vander',\n",
              " 'var',\n",
              " 'vdot',\n",
              " 'vectorize',\n",
              " 'version',\n",
              " 'void',\n",
              " 'void0',\n",
              " 'vsplit',\n",
              " 'vstack',\n",
              " 'warnings',\n",
              " 'where',\n",
              " 'who',\n",
              " 'zeros',\n",
              " 'zeros_like']"
            ]
          },
          "metadata": {
            "tags": []
          },
          "execution_count": 249
        }
      ]
    },
    {
      "cell_type": "code",
      "metadata": {
        "id": "mrMk8gKt3KoS",
        "outputId": "61542263-3304-48bd-a9dd-e16466b2426b"
      },
      "source": [
        "np.dtype"
      ],
      "execution_count": null,
      "outputs": [
        {
          "output_type": "execute_result",
          "data": {
            "text/plain": [
              "numpy.dtype"
            ]
          },
          "metadata": {
            "tags": []
          },
          "execution_count": 250
        }
      ]
    },
    {
      "cell_type": "code",
      "metadata": {
        "id": "LANVbTu73KoS",
        "outputId": "1438b015-e2ef-466a-ba04-1535519e63f3"
      },
      "source": [
        "np.random.seed(1)   ### seeding the randomness\n",
        "np.random.randint(10,100)"
      ],
      "execution_count": null,
      "outputs": [
        {
          "output_type": "execute_result",
          "data": {
            "text/plain": [
              "47"
            ]
          },
          "metadata": {
            "tags": []
          },
          "execution_count": 257
        }
      ]
    },
    {
      "cell_type": "code",
      "metadata": {
        "id": "fRlhNqqk3KoS",
        "outputId": "c4df8f28-a025-48a2-d450-612638a72515"
      },
      "source": [
        "np.random.seed(3)\n",
        "np.random.randint(10,100,(3,3))"
      ],
      "execution_count": null,
      "outputs": [
        {
          "output_type": "execute_result",
          "data": {
            "text/plain": [
              "array([[34, 13, 66],\n",
              "       [82, 10, 31],\n",
              "       [29, 84, 51]])"
            ]
          },
          "metadata": {
            "tags": []
          },
          "execution_count": 258
        }
      ]
    },
    {
      "cell_type": "markdown",
      "metadata": {
        "id": "7XyCGb1u3KoT"
      },
      "source": [
        "## Pandas"
      ]
    },
    {
      "cell_type": "code",
      "metadata": {
        "id": "hpvovUpV3KoT"
      },
      "source": [
        "import pandas as pd"
      ],
      "execution_count": null,
      "outputs": []
    },
    {
      "cell_type": "code",
      "metadata": {
        "id": "JtB0N8r23KoT",
        "outputId": "c68f06e4-c194-4174-9ac4-aae886bda8f6"
      },
      "source": [
        "pd.__version__"
      ],
      "execution_count": null,
      "outputs": [
        {
          "output_type": "execute_result",
          "data": {
            "text/plain": [
              "'1.0.5'"
            ]
          },
          "metadata": {
            "tags": []
          },
          "execution_count": 260
        }
      ]
    },
    {
      "cell_type": "code",
      "metadata": {
        "id": "nqBTAMw53KoT",
        "outputId": "6eb78afb-a07a-4761-9928-c8f6c86a6884"
      },
      "source": [
        "#series\n",
        "lst = [7,1,2,3,5]\n",
        "s = pd.Series(lst)\n",
        "s"
      ],
      "execution_count": null,
      "outputs": [
        {
          "output_type": "execute_result",
          "data": {
            "text/plain": [
              "0    7\n",
              "1    1\n",
              "2    2\n",
              "3    3\n",
              "4    5\n",
              "dtype: int64"
            ]
          },
          "metadata": {
            "tags": []
          },
          "execution_count": 261
        }
      ]
    },
    {
      "cell_type": "code",
      "metadata": {
        "id": "Pl_yEt9S3KoU",
        "outputId": "c30c1680-a144-481f-d157-f972097d647b"
      },
      "source": [
        "tuple = (7,1,2,3,5)\n",
        "s = pd.Series(tuple)\n",
        "s"
      ],
      "execution_count": null,
      "outputs": [
        {
          "output_type": "execute_result",
          "data": {
            "text/plain": [
              "0    7\n",
              "1    1\n",
              "2    2\n",
              "3    3\n",
              "4    5\n",
              "dtype: int64"
            ]
          },
          "metadata": {
            "tags": []
          },
          "execution_count": 262
        }
      ]
    },
    {
      "cell_type": "code",
      "metadata": {
        "id": "WLni3fXV3KoV",
        "outputId": "ff629935-b3c3-4960-9a47-f629e26a3000"
      },
      "source": [
        "tuple = (7,1,2,3,5)\n",
        "list = [\"C\",\"C++\",\"Java\",\"R\",\"Python\"]\n",
        "s1 = pd.Series(tuple,index=list)\n",
        "s1"
      ],
      "execution_count": null,
      "outputs": [
        {
          "output_type": "execute_result",
          "data": {
            "text/plain": [
              "C         7\n",
              "C++       1\n",
              "Java      2\n",
              "R         3\n",
              "Python    5\n",
              "dtype: int64"
            ]
          },
          "metadata": {
            "tags": []
          },
          "execution_count": 263
        }
      ]
    },
    {
      "cell_type": "code",
      "metadata": {
        "id": "UnQ1_BQP3KoV",
        "outputId": "c0878579-dc72-4381-cd45-10e33cfbb38d"
      },
      "source": [
        "tuple = (7,1,2,3,5)\n",
        "list = [\"C\",\"C++\",\"Java\",\"R\",\"Python\"]\n",
        "s1 = pd.Series(tuple,index=list)\n",
        "s1"
      ],
      "execution_count": null,
      "outputs": [
        {
          "output_type": "execute_result",
          "data": {
            "text/plain": [
              "C         7\n",
              "C++       1\n",
              "Java      2\n",
              "R         3\n",
              "Python    5\n",
              "dtype: int64"
            ]
          },
          "metadata": {
            "tags": []
          },
          "execution_count": 81
        }
      ]
    },
    {
      "cell_type": "code",
      "metadata": {
        "id": "sgoK_9Ef3KoV",
        "outputId": "208b66e8-2be9-4c69-e298-daf569d54cb8"
      },
      "source": [
        "#### Series\n",
        "tuple = (\"E\",\"E\",\"E\",\"D\",\"C\")\n",
        "list = [\"C\",\"C++\",\"Java\",\"R\",\"Python\"]\n",
        "s2 = pd.Series(tuple,index=list)\n",
        "s2"
      ],
      "execution_count": null,
      "outputs": [
        {
          "output_type": "execute_result",
          "data": {
            "text/plain": [
              "C         E\n",
              "C++       E\n",
              "Java      E\n",
              "R         D\n",
              "Python    C\n",
              "dtype: object"
            ]
          },
          "metadata": {
            "tags": []
          },
          "execution_count": 264
        }
      ]
    },
    {
      "cell_type": "markdown",
      "metadata": {
        "id": "mxUxgLN_3KoW"
      },
      "source": [
        "##### Dataframe"
      ]
    },
    {
      "cell_type": "code",
      "metadata": {
        "id": "x1fC8em-3KoW"
      },
      "source": [
        "df = pd.DataFrame()"
      ],
      "execution_count": null,
      "outputs": []
    },
    {
      "cell_type": "code",
      "metadata": {
        "id": "bqb9X96M3KoW",
        "outputId": "ed0fdfe7-2030-4c8a-cc35-47e06892b652"
      },
      "source": [
        "df['Marks'] = s1\n",
        "df[\"Grade\"] = s2\n",
        "df"
      ],
      "execution_count": null,
      "outputs": [
        {
          "output_type": "execute_result",
          "data": {
            "text/html": [
              "<div>\n",
              "<style scoped>\n",
              "    .dataframe tbody tr th:only-of-type {\n",
              "        vertical-align: middle;\n",
              "    }\n",
              "\n",
              "    .dataframe tbody tr th {\n",
              "        vertical-align: top;\n",
              "    }\n",
              "\n",
              "    .dataframe thead th {\n",
              "        text-align: right;\n",
              "    }\n",
              "</style>\n",
              "<table border=\"1\" class=\"dataframe\">\n",
              "  <thead>\n",
              "    <tr style=\"text-align: right;\">\n",
              "      <th></th>\n",
              "      <th>Marks</th>\n",
              "      <th>Grade</th>\n",
              "    </tr>\n",
              "  </thead>\n",
              "  <tbody>\n",
              "    <tr>\n",
              "      <th>C</th>\n",
              "      <td>7</td>\n",
              "      <td>E</td>\n",
              "    </tr>\n",
              "    <tr>\n",
              "      <th>C++</th>\n",
              "      <td>1</td>\n",
              "      <td>E</td>\n",
              "    </tr>\n",
              "    <tr>\n",
              "      <th>Java</th>\n",
              "      <td>2</td>\n",
              "      <td>E</td>\n",
              "    </tr>\n",
              "    <tr>\n",
              "      <th>R</th>\n",
              "      <td>3</td>\n",
              "      <td>D</td>\n",
              "    </tr>\n",
              "    <tr>\n",
              "      <th>Python</th>\n",
              "      <td>5</td>\n",
              "      <td>C</td>\n",
              "    </tr>\n",
              "  </tbody>\n",
              "</table>\n",
              "</div>"
            ],
            "text/plain": [
              "        Marks Grade\n",
              "C           7     E\n",
              "C++         1     E\n",
              "Java        2     E\n",
              "R           3     D\n",
              "Python      5     C"
            ]
          },
          "metadata": {
            "tags": []
          },
          "execution_count": 267
        }
      ]
    },
    {
      "cell_type": "code",
      "metadata": {
        "id": "Mde2IM5j3KoX",
        "outputId": "eaf700fa-d6a8-4eda-dac2-cee7893a59b0"
      },
      "source": [
        "df[\"School Name\"] = \"MPSTME\"\n",
        "df"
      ],
      "execution_count": null,
      "outputs": [
        {
          "output_type": "execute_result",
          "data": {
            "text/html": [
              "<div>\n",
              "<style scoped>\n",
              "    .dataframe tbody tr th:only-of-type {\n",
              "        vertical-align: middle;\n",
              "    }\n",
              "\n",
              "    .dataframe tbody tr th {\n",
              "        vertical-align: top;\n",
              "    }\n",
              "\n",
              "    .dataframe thead th {\n",
              "        text-align: right;\n",
              "    }\n",
              "</style>\n",
              "<table border=\"1\" class=\"dataframe\">\n",
              "  <thead>\n",
              "    <tr style=\"text-align: right;\">\n",
              "      <th></th>\n",
              "      <th>Marks</th>\n",
              "      <th>Grade</th>\n",
              "      <th>School Name</th>\n",
              "    </tr>\n",
              "  </thead>\n",
              "  <tbody>\n",
              "    <tr>\n",
              "      <th>C</th>\n",
              "      <td>7</td>\n",
              "      <td>E</td>\n",
              "      <td>MPSTME</td>\n",
              "    </tr>\n",
              "    <tr>\n",
              "      <th>C++</th>\n",
              "      <td>1</td>\n",
              "      <td>E</td>\n",
              "      <td>MPSTME</td>\n",
              "    </tr>\n",
              "    <tr>\n",
              "      <th>Java</th>\n",
              "      <td>2</td>\n",
              "      <td>E</td>\n",
              "      <td>MPSTME</td>\n",
              "    </tr>\n",
              "    <tr>\n",
              "      <th>R</th>\n",
              "      <td>3</td>\n",
              "      <td>D</td>\n",
              "      <td>MPSTME</td>\n",
              "    </tr>\n",
              "    <tr>\n",
              "      <th>Python</th>\n",
              "      <td>5</td>\n",
              "      <td>C</td>\n",
              "      <td>MPSTME</td>\n",
              "    </tr>\n",
              "  </tbody>\n",
              "</table>\n",
              "</div>"
            ],
            "text/plain": [
              "        Marks Grade School Name\n",
              "C           7     E      MPSTME\n",
              "C++         1     E      MPSTME\n",
              "Java        2     E      MPSTME\n",
              "R           3     D      MPSTME\n",
              "Python      5     C      MPSTME"
            ]
          },
          "metadata": {
            "tags": []
          },
          "execution_count": 268
        }
      ]
    },
    {
      "cell_type": "code",
      "metadata": {
        "id": "PSd6lcIS3KoX",
        "outputId": "f36644ab-0c30-4507-94a4-b42274b68df6"
      },
      "source": [
        "df[\"Location\"] = \"Shirpur\"\n",
        "df"
      ],
      "execution_count": null,
      "outputs": [
        {
          "output_type": "execute_result",
          "data": {
            "text/html": [
              "<div>\n",
              "<style scoped>\n",
              "    .dataframe tbody tr th:only-of-type {\n",
              "        vertical-align: middle;\n",
              "    }\n",
              "\n",
              "    .dataframe tbody tr th {\n",
              "        vertical-align: top;\n",
              "    }\n",
              "\n",
              "    .dataframe thead th {\n",
              "        text-align: right;\n",
              "    }\n",
              "</style>\n",
              "<table border=\"1\" class=\"dataframe\">\n",
              "  <thead>\n",
              "    <tr style=\"text-align: right;\">\n",
              "      <th></th>\n",
              "      <th>Marks</th>\n",
              "      <th>Grade</th>\n",
              "      <th>School Name</th>\n",
              "      <th>Location</th>\n",
              "    </tr>\n",
              "  </thead>\n",
              "  <tbody>\n",
              "    <tr>\n",
              "      <th>C</th>\n",
              "      <td>7</td>\n",
              "      <td>E</td>\n",
              "      <td>MPSTME</td>\n",
              "      <td>Shirpur</td>\n",
              "    </tr>\n",
              "    <tr>\n",
              "      <th>C++</th>\n",
              "      <td>1</td>\n",
              "      <td>E</td>\n",
              "      <td>MPSTME</td>\n",
              "      <td>Shirpur</td>\n",
              "    </tr>\n",
              "    <tr>\n",
              "      <th>Java</th>\n",
              "      <td>2</td>\n",
              "      <td>E</td>\n",
              "      <td>MPSTME</td>\n",
              "      <td>Shirpur</td>\n",
              "    </tr>\n",
              "    <tr>\n",
              "      <th>R</th>\n",
              "      <td>3</td>\n",
              "      <td>D</td>\n",
              "      <td>MPSTME</td>\n",
              "      <td>Shirpur</td>\n",
              "    </tr>\n",
              "    <tr>\n",
              "      <th>Python</th>\n",
              "      <td>5</td>\n",
              "      <td>C</td>\n",
              "      <td>MPSTME</td>\n",
              "      <td>Shirpur</td>\n",
              "    </tr>\n",
              "  </tbody>\n",
              "</table>\n",
              "</div>"
            ],
            "text/plain": [
              "        Marks Grade School Name Location\n",
              "C           7     E      MPSTME  Shirpur\n",
              "C++         1     E      MPSTME  Shirpur\n",
              "Java        2     E      MPSTME  Shirpur\n",
              "R           3     D      MPSTME  Shirpur\n",
              "Python      5     C      MPSTME  Shirpur"
            ]
          },
          "metadata": {
            "tags": []
          },
          "execution_count": 269
        }
      ]
    },
    {
      "cell_type": "code",
      "metadata": {
        "id": "WA_0jry43KoY",
        "outputId": "905769ac-2b42-48e5-c544-33a53266b499"
      },
      "source": [
        "df.drop(['Location'],axis=1,inplace=True)   #### axis =1 --we are deleting columns\n",
        "df"
      ],
      "execution_count": null,
      "outputs": [
        {
          "output_type": "execute_result",
          "data": {
            "text/html": [
              "<div>\n",
              "<style scoped>\n",
              "    .dataframe tbody tr th:only-of-type {\n",
              "        vertical-align: middle;\n",
              "    }\n",
              "\n",
              "    .dataframe tbody tr th {\n",
              "        vertical-align: top;\n",
              "    }\n",
              "\n",
              "    .dataframe thead th {\n",
              "        text-align: right;\n",
              "    }\n",
              "</style>\n",
              "<table border=\"1\" class=\"dataframe\">\n",
              "  <thead>\n",
              "    <tr style=\"text-align: right;\">\n",
              "      <th></th>\n",
              "      <th>Marks</th>\n",
              "      <th>Grade</th>\n",
              "      <th>School Name</th>\n",
              "    </tr>\n",
              "  </thead>\n",
              "  <tbody>\n",
              "    <tr>\n",
              "      <th>C</th>\n",
              "      <td>7</td>\n",
              "      <td>E</td>\n",
              "      <td>MPSTME</td>\n",
              "    </tr>\n",
              "    <tr>\n",
              "      <th>C++</th>\n",
              "      <td>1</td>\n",
              "      <td>E</td>\n",
              "      <td>MPSTME</td>\n",
              "    </tr>\n",
              "    <tr>\n",
              "      <th>Java</th>\n",
              "      <td>2</td>\n",
              "      <td>E</td>\n",
              "      <td>MPSTME</td>\n",
              "    </tr>\n",
              "    <tr>\n",
              "      <th>R</th>\n",
              "      <td>3</td>\n",
              "      <td>D</td>\n",
              "      <td>MPSTME</td>\n",
              "    </tr>\n",
              "    <tr>\n",
              "      <th>Python</th>\n",
              "      <td>5</td>\n",
              "      <td>C</td>\n",
              "      <td>MPSTME</td>\n",
              "    </tr>\n",
              "  </tbody>\n",
              "</table>\n",
              "</div>"
            ],
            "text/plain": [
              "        Marks Grade School Name\n",
              "C           7     E      MPSTME\n",
              "C++         1     E      MPSTME\n",
              "Java        2     E      MPSTME\n",
              "R           3     D      MPSTME\n",
              "Python      5     C      MPSTME"
            ]
          },
          "metadata": {
            "tags": []
          },
          "execution_count": 270
        }
      ]
    },
    {
      "cell_type": "code",
      "metadata": {
        "id": "e9avYJHi3KoY",
        "outputId": "51d3f243-6d8a-49c2-8b48-68892d91c70c"
      },
      "source": [
        "df[[\"Marks\",\"Grade\"]]"
      ],
      "execution_count": null,
      "outputs": [
        {
          "output_type": "execute_result",
          "data": {
            "text/html": [
              "<div>\n",
              "<style scoped>\n",
              "    .dataframe tbody tr th:only-of-type {\n",
              "        vertical-align: middle;\n",
              "    }\n",
              "\n",
              "    .dataframe tbody tr th {\n",
              "        vertical-align: top;\n",
              "    }\n",
              "\n",
              "    .dataframe thead th {\n",
              "        text-align: right;\n",
              "    }\n",
              "</style>\n",
              "<table border=\"1\" class=\"dataframe\">\n",
              "  <thead>\n",
              "    <tr style=\"text-align: right;\">\n",
              "      <th></th>\n",
              "      <th>Marks</th>\n",
              "      <th>Grade</th>\n",
              "    </tr>\n",
              "  </thead>\n",
              "  <tbody>\n",
              "    <tr>\n",
              "      <th>C</th>\n",
              "      <td>7</td>\n",
              "      <td>E</td>\n",
              "    </tr>\n",
              "    <tr>\n",
              "      <th>C++</th>\n",
              "      <td>1</td>\n",
              "      <td>E</td>\n",
              "    </tr>\n",
              "    <tr>\n",
              "      <th>Java</th>\n",
              "      <td>2</td>\n",
              "      <td>E</td>\n",
              "    </tr>\n",
              "    <tr>\n",
              "      <th>R</th>\n",
              "      <td>3</td>\n",
              "      <td>D</td>\n",
              "    </tr>\n",
              "    <tr>\n",
              "      <th>Python</th>\n",
              "      <td>5</td>\n",
              "      <td>C</td>\n",
              "    </tr>\n",
              "  </tbody>\n",
              "</table>\n",
              "</div>"
            ],
            "text/plain": [
              "        Marks Grade\n",
              "C           7     E\n",
              "C++         1     E\n",
              "Java        2     E\n",
              "R           3     D\n",
              "Python      5     C"
            ]
          },
          "metadata": {
            "tags": []
          },
          "execution_count": 271
        }
      ]
    },
    {
      "cell_type": "code",
      "metadata": {
        "id": "-H6HGjxT3KoY",
        "outputId": "d96e9392-6e49-4a56-b8cd-92b98b08747a"
      },
      "source": [
        "df[['Marks']].mean()"
      ],
      "execution_count": null,
      "outputs": [
        {
          "output_type": "execute_result",
          "data": {
            "text/plain": [
              "Marks    3.6\n",
              "dtype: float64"
            ]
          },
          "metadata": {
            "tags": []
          },
          "execution_count": 272
        }
      ]
    },
    {
      "cell_type": "code",
      "metadata": {
        "id": "oh8E1TCy3KoZ"
      },
      "source": [
        "df.drop(['Python'],axis=0,inplace=True)   #### axis =0 --we are deleting row"
      ],
      "execution_count": null,
      "outputs": []
    },
    {
      "cell_type": "code",
      "metadata": {
        "id": "gaEcvuWq3KoZ",
        "outputId": "a145d0ea-3894-4a0c-9de6-0f850224b50d"
      },
      "source": [
        "df"
      ],
      "execution_count": null,
      "outputs": [
        {
          "output_type": "execute_result",
          "data": {
            "text/html": [
              "<div>\n",
              "<style scoped>\n",
              "    .dataframe tbody tr th:only-of-type {\n",
              "        vertical-align: middle;\n",
              "    }\n",
              "\n",
              "    .dataframe tbody tr th {\n",
              "        vertical-align: top;\n",
              "    }\n",
              "\n",
              "    .dataframe thead th {\n",
              "        text-align: right;\n",
              "    }\n",
              "</style>\n",
              "<table border=\"1\" class=\"dataframe\">\n",
              "  <thead>\n",
              "    <tr style=\"text-align: right;\">\n",
              "      <th></th>\n",
              "      <th>Marks</th>\n",
              "      <th>Grade</th>\n",
              "      <th>School Name</th>\n",
              "    </tr>\n",
              "  </thead>\n",
              "  <tbody>\n",
              "    <tr>\n",
              "      <th>C</th>\n",
              "      <td>7</td>\n",
              "      <td>E</td>\n",
              "      <td>MPSTME</td>\n",
              "    </tr>\n",
              "    <tr>\n",
              "      <th>C++</th>\n",
              "      <td>1</td>\n",
              "      <td>E</td>\n",
              "      <td>MPSTME</td>\n",
              "    </tr>\n",
              "    <tr>\n",
              "      <th>Java</th>\n",
              "      <td>2</td>\n",
              "      <td>E</td>\n",
              "      <td>MPSTME</td>\n",
              "    </tr>\n",
              "    <tr>\n",
              "      <th>R</th>\n",
              "      <td>3</td>\n",
              "      <td>D</td>\n",
              "      <td>MPSTME</td>\n",
              "    </tr>\n",
              "  </tbody>\n",
              "</table>\n",
              "</div>"
            ],
            "text/plain": [
              "      Marks Grade School Name\n",
              "C         7     E      MPSTME\n",
              "C++       1     E      MPSTME\n",
              "Java      2     E      MPSTME\n",
              "R         3     D      MPSTME"
            ]
          },
          "metadata": {
            "tags": []
          },
          "execution_count": 91
        }
      ]
    },
    {
      "cell_type": "code",
      "metadata": {
        "id": "gMGRgRkX3Kob",
        "outputId": "43f9a84e-b8d1-4ae9-8482-1f19ddf79eae"
      },
      "source": [
        "df.iloc[3]"
      ],
      "execution_count": null,
      "outputs": [
        {
          "output_type": "execute_result",
          "data": {
            "text/plain": [
              "Marks               3\n",
              "Grade               D\n",
              "School Name    MPSTME\n",
              "Name: R, dtype: object"
            ]
          },
          "metadata": {
            "tags": []
          },
          "execution_count": 274
        }
      ]
    },
    {
      "cell_type": "code",
      "metadata": {
        "id": "LRTNxfkq3Kob",
        "outputId": "d78d0136-275f-4eea-9811-7a8dfbd8b470"
      },
      "source": [
        "df.iloc[1:3]"
      ],
      "execution_count": null,
      "outputs": [
        {
          "output_type": "execute_result",
          "data": {
            "text/html": [
              "<div>\n",
              "<style scoped>\n",
              "    .dataframe tbody tr th:only-of-type {\n",
              "        vertical-align: middle;\n",
              "    }\n",
              "\n",
              "    .dataframe tbody tr th {\n",
              "        vertical-align: top;\n",
              "    }\n",
              "\n",
              "    .dataframe thead th {\n",
              "        text-align: right;\n",
              "    }\n",
              "</style>\n",
              "<table border=\"1\" class=\"dataframe\">\n",
              "  <thead>\n",
              "    <tr style=\"text-align: right;\">\n",
              "      <th></th>\n",
              "      <th>Marks</th>\n",
              "      <th>Grade</th>\n",
              "      <th>School Name</th>\n",
              "    </tr>\n",
              "  </thead>\n",
              "  <tbody>\n",
              "    <tr>\n",
              "      <th>C++</th>\n",
              "      <td>1</td>\n",
              "      <td>E</td>\n",
              "      <td>MPSTME</td>\n",
              "    </tr>\n",
              "    <tr>\n",
              "      <th>Java</th>\n",
              "      <td>2</td>\n",
              "      <td>E</td>\n",
              "      <td>MPSTME</td>\n",
              "    </tr>\n",
              "  </tbody>\n",
              "</table>\n",
              "</div>"
            ],
            "text/plain": [
              "      Marks Grade School Name\n",
              "C++       1     E      MPSTME\n",
              "Java      2     E      MPSTME"
            ]
          },
          "metadata": {
            "tags": []
          },
          "execution_count": 275
        }
      ]
    },
    {
      "cell_type": "code",
      "metadata": {
        "id": "baQvMYoq3Koc",
        "outputId": "5bec414d-1c22-47a9-ee73-391736e4b1d0"
      },
      "source": [
        "df.loc['Java']"
      ],
      "execution_count": null,
      "outputs": [
        {
          "output_type": "execute_result",
          "data": {
            "text/plain": [
              "Marks               2\n",
              "Grade               E\n",
              "School Name    MPSTME\n",
              "Name: Java, dtype: object"
            ]
          },
          "metadata": {
            "tags": []
          },
          "execution_count": 276
        }
      ]
    },
    {
      "cell_type": "code",
      "metadata": {
        "id": "Oukbiqwi3Koc",
        "outputId": "88ec4171-c05b-497e-a6d8-8b8b72573ae3"
      },
      "source": [
        "df"
      ],
      "execution_count": null,
      "outputs": [
        {
          "output_type": "execute_result",
          "data": {
            "text/html": [
              "<div>\n",
              "<style scoped>\n",
              "    .dataframe tbody tr th:only-of-type {\n",
              "        vertical-align: middle;\n",
              "    }\n",
              "\n",
              "    .dataframe tbody tr th {\n",
              "        vertical-align: top;\n",
              "    }\n",
              "\n",
              "    .dataframe thead th {\n",
              "        text-align: right;\n",
              "    }\n",
              "</style>\n",
              "<table border=\"1\" class=\"dataframe\">\n",
              "  <thead>\n",
              "    <tr style=\"text-align: right;\">\n",
              "      <th></th>\n",
              "      <th>Marks</th>\n",
              "      <th>Grade</th>\n",
              "      <th>School Name</th>\n",
              "    </tr>\n",
              "  </thead>\n",
              "  <tbody>\n",
              "    <tr>\n",
              "      <th>C</th>\n",
              "      <td>7</td>\n",
              "      <td>E</td>\n",
              "      <td>MPSTME</td>\n",
              "    </tr>\n",
              "    <tr>\n",
              "      <th>C++</th>\n",
              "      <td>1</td>\n",
              "      <td>E</td>\n",
              "      <td>MPSTME</td>\n",
              "    </tr>\n",
              "    <tr>\n",
              "      <th>Java</th>\n",
              "      <td>2</td>\n",
              "      <td>E</td>\n",
              "      <td>MPSTME</td>\n",
              "    </tr>\n",
              "    <tr>\n",
              "      <th>R</th>\n",
              "      <td>3</td>\n",
              "      <td>D</td>\n",
              "      <td>MPSTME</td>\n",
              "    </tr>\n",
              "  </tbody>\n",
              "</table>\n",
              "</div>"
            ],
            "text/plain": [
              "      Marks Grade School Name\n",
              "C         7     E      MPSTME\n",
              "C++       1     E      MPSTME\n",
              "Java      2     E      MPSTME\n",
              "R         3     D      MPSTME"
            ]
          },
          "metadata": {
            "tags": []
          },
          "execution_count": 277
        }
      ]
    },
    {
      "cell_type": "code",
      "metadata": {
        "id": "IIo7sKWP3Kod",
        "outputId": "35e7455f-ee0b-4d48-94e6-e41954b580c2"
      },
      "source": [
        "df = df.reset_index()  # to set/reset index\n",
        "df.head()"
      ],
      "execution_count": null,
      "outputs": [
        {
          "output_type": "execute_result",
          "data": {
            "text/html": [
              "<div>\n",
              "<style scoped>\n",
              "    .dataframe tbody tr th:only-of-type {\n",
              "        vertical-align: middle;\n",
              "    }\n",
              "\n",
              "    .dataframe tbody tr th {\n",
              "        vertical-align: top;\n",
              "    }\n",
              "\n",
              "    .dataframe thead th {\n",
              "        text-align: right;\n",
              "    }\n",
              "</style>\n",
              "<table border=\"1\" class=\"dataframe\">\n",
              "  <thead>\n",
              "    <tr style=\"text-align: right;\">\n",
              "      <th></th>\n",
              "      <th>index</th>\n",
              "      <th>Marks</th>\n",
              "      <th>Grade</th>\n",
              "      <th>School Name</th>\n",
              "    </tr>\n",
              "  </thead>\n",
              "  <tbody>\n",
              "    <tr>\n",
              "      <th>0</th>\n",
              "      <td>C</td>\n",
              "      <td>7</td>\n",
              "      <td>E</td>\n",
              "      <td>MPSTME</td>\n",
              "    </tr>\n",
              "    <tr>\n",
              "      <th>1</th>\n",
              "      <td>C++</td>\n",
              "      <td>1</td>\n",
              "      <td>E</td>\n",
              "      <td>MPSTME</td>\n",
              "    </tr>\n",
              "    <tr>\n",
              "      <th>2</th>\n",
              "      <td>Java</td>\n",
              "      <td>2</td>\n",
              "      <td>E</td>\n",
              "      <td>MPSTME</td>\n",
              "    </tr>\n",
              "    <tr>\n",
              "      <th>3</th>\n",
              "      <td>R</td>\n",
              "      <td>3</td>\n",
              "      <td>D</td>\n",
              "      <td>MPSTME</td>\n",
              "    </tr>\n",
              "  </tbody>\n",
              "</table>\n",
              "</div>"
            ],
            "text/plain": [
              "  index  Marks Grade School Name\n",
              "0     C      7     E      MPSTME\n",
              "1   C++      1     E      MPSTME\n",
              "2  Java      2     E      MPSTME\n",
              "3     R      3     D      MPSTME"
            ]
          },
          "metadata": {
            "tags": []
          },
          "execution_count": 278
        }
      ]
    },
    {
      "cell_type": "code",
      "metadata": {
        "id": "c1Ofvr9s3Kod",
        "outputId": "094763b6-b670-40a8-e486-8c467d73dcd5"
      },
      "source": [
        "print(s)"
      ],
      "execution_count": null,
      "outputs": [
        {
          "output_type": "stream",
          "text": [
            "0    7\n",
            "1    1\n",
            "2    2\n",
            "3    3\n",
            "4    5\n",
            "dtype: int64\n"
          ],
          "name": "stdout"
        }
      ]
    },
    {
      "cell_type": "code",
      "metadata": {
        "id": "XC-DSzye3Kod",
        "outputId": "4f658342-bff4-482e-a69f-cb96e9ffcc8e"
      },
      "source": [
        "# Pass as parameters to NumPy functions\n",
        "#import numpy as np\n",
        "np.square(s)"
      ],
      "execution_count": null,
      "outputs": [
        {
          "output_type": "execute_result",
          "data": {
            "text/plain": [
              "0    49\n",
              "1     1\n",
              "2     4\n",
              "3     9\n",
              "4    25\n",
              "dtype: int64"
            ]
          },
          "metadata": {
            "tags": []
          },
          "execution_count": 97
        }
      ]
    },
    {
      "cell_type": "code",
      "metadata": {
        "id": "1Gjnd1803Kod",
        "outputId": "825ae0ef-1d5e-4d12-8dac-d10ec2f2b897"
      },
      "source": [
        "# Arithmetic operation on the series\n",
        "s + [1000,2000,3000,4000,6000]"
      ],
      "execution_count": null,
      "outputs": [
        {
          "output_type": "execute_result",
          "data": {
            "text/plain": [
              "0    1007\n",
              "1    2001\n",
              "2    3002\n",
              "3    4003\n",
              "4    6005\n",
              "dtype: int64"
            ]
          },
          "metadata": {
            "tags": []
          },
          "execution_count": 100
        }
      ]
    },
    {
      "cell_type": "code",
      "metadata": {
        "id": "T6N8ZVgE3Koe",
        "outputId": "5def519b-1634-4f81-babf-f62a4f89c99e"
      },
      "source": [
        "# Broadcasting\n",
        "s1=s + 1000"
      ],
      "execution_count": null,
      "outputs": [
        {
          "output_type": "execute_result",
          "data": {
            "text/plain": [
              "0    1007\n",
              "1    1001\n",
              "2    1002\n",
              "3    1003\n",
              "4    1005\n",
              "dtype: int64"
            ]
          },
          "metadata": {
            "tags": []
          },
          "execution_count": 101
        }
      ]
    },
    {
      "cell_type": "code",
      "metadata": {
        "id": "y_SKHi-K3Koe",
        "outputId": "a0c11bcd-9949-4e72-fb02-691fb1e3110d"
      },
      "source": [
        "# Binary and conditional operations\n",
        "s1 > 1003"
      ],
      "execution_count": null,
      "outputs": [
        {
          "output_type": "execute_result",
          "data": {
            "text/plain": [
              "C         False\n",
              "C++       False\n",
              "Java      False\n",
              "R         False\n",
              "Python    False\n",
              "dtype: bool"
            ]
          },
          "metadata": {
            "tags": []
          },
          "execution_count": 281
        }
      ]
    },
    {
      "cell_type": "code",
      "metadata": {
        "id": "7pncSi9i3Koe",
        "outputId": "5c29b508-7fe4-41d3-9e36-00b2c90b3cbe"
      },
      "source": [
        "# Index labels\n",
        "# Each item in a Series object has a unique identifier called the index label.\n",
        "# By default, it is simply the rank of the item in the Series (starting at 0)\n",
        "s2 = pd.Series([68, 83, 112, 68])\n",
        "print(s2)"
      ],
      "execution_count": null,
      "outputs": [
        {
          "output_type": "stream",
          "text": [
            "0     68\n",
            "1     83\n",
            "2    112\n",
            "3     68\n",
            "dtype: int64\n"
          ],
          "name": "stdout"
        }
      ]
    },
    {
      "cell_type": "code",
      "metadata": {
        "id": "HH4Rf5oO3Kof",
        "outputId": "903d1b56-f260-4117-96ec-a5fd6306a593"
      },
      "source": [
        "# Set the index labels manually\n",
        "s2 = pd.Series([68, 83, 112, 68], index=[\"Stone\", \"Gold\", \"Tom\", \"Sam\"])\n",
        "print(s2)"
      ],
      "execution_count": null,
      "outputs": [
        {
          "output_type": "stream",
          "text": [
            "Stone     68\n",
            "Gold      83\n",
            "Tom      112\n",
            "Sam       68\n",
            "dtype: int64\n"
          ],
          "name": "stdout"
        }
      ]
    },
    {
      "cell_type": "code",
      "metadata": {
        "id": "rsn7D5HO3Kof",
        "outputId": "c470f625-d2d7-4385-dfd4-06db8a7bca1f"
      },
      "source": [
        "# Access the items in series\n",
        "# We can either access the items by specifying integer location or label\n",
        "print(s2[2])\n",
        "print(s2[\"Tom\"])"
      ],
      "execution_count": null,
      "outputs": [
        {
          "output_type": "stream",
          "text": [
            "112\n",
            "112\n"
          ],
          "name": "stdout"
        }
      ]
    },
    {
      "cell_type": "code",
      "metadata": {
        "id": "-rnI86Dh3Kof",
        "outputId": "759b2d2c-d20d-4be4-cd1e-5405ae0f290b"
      },
      "source": [
        "# It is recommended to always use the loc attribute when accessing by label, \n",
        "# and the iloc attribute when accessing by integer location\n",
        "print(s2.loc[\"Tom\"])\n",
        "print(s2.iloc[2])"
      ],
      "execution_count": null,
      "outputs": [
        {
          "output_type": "stream",
          "text": [
            "112\n",
            "112\n"
          ],
          "name": "stdout"
        }
      ]
    },
    {
      "cell_type": "code",
      "metadata": {
        "id": "h7lU9ZHg3Kof",
        "outputId": "e4b8366a-6a2a-472b-9413-7d7b00f93624"
      },
      "source": [
        "# Init from dict\n",
        "# We can create Series object from Python dict\n",
        "weights = {\"Stone\": 68, \"Gold\": 83, \"Tom\": 86, \"Sam\": 68}\n",
        "s3 = pd.Series(weights)\n",
        "print(s3)"
      ],
      "execution_count": null,
      "outputs": [
        {
          "output_type": "stream",
          "text": [
            "Stone    68\n",
            "Gold     83\n",
            "Tom      86\n",
            "Sam      68\n",
            "dtype: int64\n"
          ],
          "name": "stdout"
        }
      ]
    },
    {
      "cell_type": "code",
      "metadata": {
        "id": "BthTTL4l3Kog",
        "outputId": "d00b922e-1593-44c0-e0dd-e8f10072bfdd"
      },
      "source": [
        "# We can control which elements you want to include in the Series and \n",
        "# in what order by explicitly specifying the desired index\n",
        "s4 = pd.Series(weights, index = [\"Deck\", \"Sam\"])\n",
        "print(s4)"
      ],
      "execution_count": null,
      "outputs": [
        {
          "output_type": "stream",
          "text": [
            "Deck     NaN\n",
            "Sam     68.0\n",
            "dtype: float64\n"
          ],
          "name": "stdout"
        }
      ]
    },
    {
      "cell_type": "code",
      "metadata": {
        "id": "uEM__7sN3Kog",
        "outputId": "6da69228-89c1-40b6-b12d-bdd110e14cfb"
      },
      "source": [
        "# Automatic alignment\n",
        "# When an operation involves multiple Series objects, pandas automatically aligns items by matching index labels\n",
        "# Note NaN\n",
        "\n",
        "print(s2)\n",
        "print(\"\\n\")\n",
        "print(s3)\n",
        "print(\"\\n\")\n",
        "print(s2+s3)\n"
      ],
      "execution_count": null,
      "outputs": [
        {
          "output_type": "stream",
          "text": [
            "Stone     68\n",
            "Gold      83\n",
            "Tom      112\n",
            "Sam       68\n",
            "dtype: int64\n",
            "\n",
            "\n",
            "Stone    68\n",
            "Gold     83\n",
            "Tom      86\n",
            "Sam      68\n",
            "dtype: int64\n",
            "\n",
            "\n",
            "Stone    136\n",
            "Gold     166\n",
            "Tom      198\n",
            "Sam      136\n",
            "dtype: int64\n"
          ],
          "name": "stdout"
        }
      ]
    },
    {
      "cell_type": "code",
      "metadata": {
        "id": "5IalNeGx3Kog",
        "outputId": "581a0f2d-50c7-43b0-8b9c-32907f37ee84"
      },
      "source": [
        "print(s2)\n",
        "print(\"--\"*5)\n",
        "print(s3)\n",
        "print(\"--\"*5)\n",
        "print(s4)\n",
        "print(\"--\"*5)\n",
        "\n",
        "\n",
        "print(pd.DataFrame([s2,s3, s4]))"
      ],
      "execution_count": null,
      "outputs": [
        {
          "output_type": "stream",
          "text": [
            "Stone     68\n",
            "Gold      83\n",
            "Tom      112\n",
            "Sam       68\n",
            "dtype: int64\n",
            "----------\n",
            "Stone    68\n",
            "Gold     83\n",
            "Tom      86\n",
            "Sam      68\n",
            "dtype: int64\n",
            "----------\n",
            "Deck     NaN\n",
            "Sam     68.0\n",
            "dtype: float64\n",
            "----------\n",
            "   Stone  Gold    Tom   Sam  Deck\n",
            "0   68.0  83.0  112.0  68.0   NaN\n",
            "1   68.0  83.0   86.0  68.0   NaN\n",
            "2    NaN   NaN    NaN  68.0   NaN\n"
          ],
          "name": "stdout"
        }
      ]
    },
    {
      "cell_type": "code",
      "metadata": {
        "id": "Xd74wZAz3Koh"
      },
      "source": [
        ""
      ],
      "execution_count": null,
      "outputs": []
    },
    {
      "cell_type": "code",
      "metadata": {
        "id": "9XkGlTqw3Koh",
        "outputId": "44e8ad3f-02c3-4ee5-9061-b0d10c404412"
      },
      "source": [
        "# Init with a scalar\n",
        "meaning = pd.Series(42, [\"life\", \"universe\", \"everything\"])\n",
        "print(meaning)"
      ],
      "execution_count": null,
      "outputs": [
        {
          "output_type": "stream",
          "text": [
            "life          42\n",
            "universe      42\n",
            "everything    42\n",
            "dtype: int64\n"
          ],
          "name": "stdout"
        }
      ]
    },
    {
      "cell_type": "code",
      "metadata": {
        "id": "YwUbqk313Koh",
        "outputId": "cb5f6bc6-defb-40e2-9c97-14944f6a8fb7"
      },
      "source": [
        "# Series name\n",
        "# Here the series name is weights\n",
        "\n",
        "s6 = pd.Series([83, 68], index=[\"bob\", \"alice\"], name=\"weights\")\n",
        "print(s6)"
      ],
      "execution_count": null,
      "outputs": [
        {
          "output_type": "stream",
          "text": [
            "bob      83\n",
            "alice    68\n",
            "Name: weights, dtype: int64\n"
          ],
          "name": "stdout"
        }
      ]
    },
    {
      "cell_type": "code",
      "metadata": {
        "id": "d1btqehK3Koi"
      },
      "source": [
        "df = pd.read_csv(\"iris.csv\", header=None)   # Header will not be set"
      ],
      "execution_count": null,
      "outputs": []
    },
    {
      "cell_type": "code",
      "metadata": {
        "id": "yyXnCoCO3Koi"
      },
      "source": [
        "names=['x1','x2','x3','Y']\n",
        "df1 = pd.read_csv(\"iris.csv\", names=names) #Header will be set"
      ],
      "execution_count": null,
      "outputs": []
    },
    {
      "cell_type": "code",
      "metadata": {
        "id": "bvMk8cVY3Koi",
        "outputId": "ae2f5638-b763-4c66-b87f-44fb3b769cd5"
      },
      "source": [
        "# To add header manually.... second way...\n",
        "# create headers list\n",
        "headers = [\"x1\",\"x2\",\"x3\",\"x4\",\"Y\"]\n",
        "print(\"headers\\n\", headers)\n",
        "df.columns = headers\n",
        "df.head(10)"
      ],
      "execution_count": null,
      "outputs": [
        {
          "output_type": "stream",
          "text": [
            "headers\n",
            " ['x1', 'x2', 'x3', 'x4', 'Y']\n"
          ],
          "name": "stdout"
        },
        {
          "output_type": "execute_result",
          "data": {
            "text/html": [
              "<div>\n",
              "<style scoped>\n",
              "    .dataframe tbody tr th:only-of-type {\n",
              "        vertical-align: middle;\n",
              "    }\n",
              "\n",
              "    .dataframe tbody tr th {\n",
              "        vertical-align: top;\n",
              "    }\n",
              "\n",
              "    .dataframe thead th {\n",
              "        text-align: right;\n",
              "    }\n",
              "</style>\n",
              "<table border=\"1\" class=\"dataframe\">\n",
              "  <thead>\n",
              "    <tr style=\"text-align: right;\">\n",
              "      <th></th>\n",
              "      <th>x1</th>\n",
              "      <th>x2</th>\n",
              "      <th>x3</th>\n",
              "      <th>x4</th>\n",
              "      <th>Y</th>\n",
              "    </tr>\n",
              "  </thead>\n",
              "  <tbody>\n",
              "    <tr>\n",
              "      <th>0</th>\n",
              "      <td>5.1</td>\n",
              "      <td>3.5</td>\n",
              "      <td>1.4</td>\n",
              "      <td>0.2</td>\n",
              "      <td>Iris-setosa</td>\n",
              "    </tr>\n",
              "    <tr>\n",
              "      <th>1</th>\n",
              "      <td>4.9</td>\n",
              "      <td>3.0</td>\n",
              "      <td>1.4</td>\n",
              "      <td>0.2</td>\n",
              "      <td>Iris-setosa</td>\n",
              "    </tr>\n",
              "    <tr>\n",
              "      <th>2</th>\n",
              "      <td>4.7</td>\n",
              "      <td>3.2</td>\n",
              "      <td>1.3</td>\n",
              "      <td>0.2</td>\n",
              "      <td>Iris-setosa</td>\n",
              "    </tr>\n",
              "    <tr>\n",
              "      <th>3</th>\n",
              "      <td>4.6</td>\n",
              "      <td>3.1</td>\n",
              "      <td>1.5</td>\n",
              "      <td>0.2</td>\n",
              "      <td>Iris-setosa</td>\n",
              "    </tr>\n",
              "    <tr>\n",
              "      <th>4</th>\n",
              "      <td>5.0</td>\n",
              "      <td>3.6</td>\n",
              "      <td>1.4</td>\n",
              "      <td>0.2</td>\n",
              "      <td>Iris-setosa</td>\n",
              "    </tr>\n",
              "    <tr>\n",
              "      <th>5</th>\n",
              "      <td>5.4</td>\n",
              "      <td>3.9</td>\n",
              "      <td>1.7</td>\n",
              "      <td>0.4</td>\n",
              "      <td>Iris-setosa</td>\n",
              "    </tr>\n",
              "    <tr>\n",
              "      <th>6</th>\n",
              "      <td>4.6</td>\n",
              "      <td>3.4</td>\n",
              "      <td>1.4</td>\n",
              "      <td>0.3</td>\n",
              "      <td>Iris-setosa</td>\n",
              "    </tr>\n",
              "    <tr>\n",
              "      <th>7</th>\n",
              "      <td>5.0</td>\n",
              "      <td>3.4</td>\n",
              "      <td>1.5</td>\n",
              "      <td>0.2</td>\n",
              "      <td>Iris-setosa</td>\n",
              "    </tr>\n",
              "    <tr>\n",
              "      <th>8</th>\n",
              "      <td>4.4</td>\n",
              "      <td>2.9</td>\n",
              "      <td>1.4</td>\n",
              "      <td>0.2</td>\n",
              "      <td>Iris-setosa</td>\n",
              "    </tr>\n",
              "    <tr>\n",
              "      <th>9</th>\n",
              "      <td>4.9</td>\n",
              "      <td>3.1</td>\n",
              "      <td>1.5</td>\n",
              "      <td>0.1</td>\n",
              "      <td>Iris-setosa</td>\n",
              "    </tr>\n",
              "  </tbody>\n",
              "</table>\n",
              "</div>"
            ],
            "text/plain": [
              "    x1   x2   x3   x4            Y\n",
              "0  5.1  3.5  1.4  0.2  Iris-setosa\n",
              "1  4.9  3.0  1.4  0.2  Iris-setosa\n",
              "2  4.7  3.2  1.3  0.2  Iris-setosa\n",
              "3  4.6  3.1  1.5  0.2  Iris-setosa\n",
              "4  5.0  3.6  1.4  0.2  Iris-setosa\n",
              "5  5.4  3.9  1.7  0.4  Iris-setosa\n",
              "6  4.6  3.4  1.4  0.3  Iris-setosa\n",
              "7  5.0  3.4  1.5  0.2  Iris-setosa\n",
              "8  4.4  2.9  1.4  0.2  Iris-setosa\n",
              "9  4.9  3.1  1.5  0.1  Iris-setosa"
            ]
          },
          "metadata": {
            "tags": []
          },
          "execution_count": 121
        }
      ]
    },
    {
      "cell_type": "code",
      "metadata": {
        "id": "Oz3XVLUe3Koi",
        "outputId": "0ad9fcef-34a3-4634-f599-9e3388948928"
      },
      "source": [
        "# show the first 5 rows using dataframe.head() method\n",
        "df.head(5)"
      ],
      "execution_count": null,
      "outputs": [
        {
          "output_type": "execute_result",
          "data": {
            "text/html": [
              "<div>\n",
              "<style scoped>\n",
              "    .dataframe tbody tr th:only-of-type {\n",
              "        vertical-align: middle;\n",
              "    }\n",
              "\n",
              "    .dataframe tbody tr th {\n",
              "        vertical-align: top;\n",
              "    }\n",
              "\n",
              "    .dataframe thead th {\n",
              "        text-align: right;\n",
              "    }\n",
              "</style>\n",
              "<table border=\"1\" class=\"dataframe\">\n",
              "  <thead>\n",
              "    <tr style=\"text-align: right;\">\n",
              "      <th></th>\n",
              "      <th>x1</th>\n",
              "      <th>x2</th>\n",
              "      <th>x3</th>\n",
              "      <th>x4</th>\n",
              "      <th>Y</th>\n",
              "    </tr>\n",
              "  </thead>\n",
              "  <tbody>\n",
              "    <tr>\n",
              "      <th>0</th>\n",
              "      <td>5.1</td>\n",
              "      <td>3.5</td>\n",
              "      <td>1.4</td>\n",
              "      <td>0.2</td>\n",
              "      <td>Iris-setosa</td>\n",
              "    </tr>\n",
              "    <tr>\n",
              "      <th>1</th>\n",
              "      <td>4.9</td>\n",
              "      <td>3.0</td>\n",
              "      <td>1.4</td>\n",
              "      <td>0.2</td>\n",
              "      <td>Iris-setosa</td>\n",
              "    </tr>\n",
              "    <tr>\n",
              "      <th>2</th>\n",
              "      <td>4.7</td>\n",
              "      <td>3.2</td>\n",
              "      <td>1.3</td>\n",
              "      <td>0.2</td>\n",
              "      <td>Iris-setosa</td>\n",
              "    </tr>\n",
              "    <tr>\n",
              "      <th>3</th>\n",
              "      <td>4.6</td>\n",
              "      <td>3.1</td>\n",
              "      <td>1.5</td>\n",
              "      <td>0.2</td>\n",
              "      <td>Iris-setosa</td>\n",
              "    </tr>\n",
              "    <tr>\n",
              "      <th>4</th>\n",
              "      <td>5.0</td>\n",
              "      <td>3.6</td>\n",
              "      <td>1.4</td>\n",
              "      <td>0.2</td>\n",
              "      <td>Iris-setosa</td>\n",
              "    </tr>\n",
              "  </tbody>\n",
              "</table>\n",
              "</div>"
            ],
            "text/plain": [
              "    x1   x2   x3   x4            Y\n",
              "0  5.1  3.5  1.4  0.2  Iris-setosa\n",
              "1  4.9  3.0  1.4  0.2  Iris-setosa\n",
              "2  4.7  3.2  1.3  0.2  Iris-setosa\n",
              "3  4.6  3.1  1.5  0.2  Iris-setosa\n",
              "4  5.0  3.6  1.4  0.2  Iris-setosa"
            ]
          },
          "metadata": {
            "tags": []
          },
          "execution_count": 122
        }
      ]
    },
    {
      "cell_type": "code",
      "metadata": {
        "id": "DLBevi963Koj",
        "outputId": "341d2311-896c-4022-b8af-f2db765aadd5"
      },
      "source": [
        "df.tail(10)# shows the last 10 rows"
      ],
      "execution_count": null,
      "outputs": [
        {
          "output_type": "execute_result",
          "data": {
            "text/html": [
              "<div>\n",
              "<style scoped>\n",
              "    .dataframe tbody tr th:only-of-type {\n",
              "        vertical-align: middle;\n",
              "    }\n",
              "\n",
              "    .dataframe tbody tr th {\n",
              "        vertical-align: top;\n",
              "    }\n",
              "\n",
              "    .dataframe thead th {\n",
              "        text-align: right;\n",
              "    }\n",
              "</style>\n",
              "<table border=\"1\" class=\"dataframe\">\n",
              "  <thead>\n",
              "    <tr style=\"text-align: right;\">\n",
              "      <th></th>\n",
              "      <th>x1</th>\n",
              "      <th>x2</th>\n",
              "      <th>x3</th>\n",
              "      <th>x4</th>\n",
              "      <th>Y</th>\n",
              "    </tr>\n",
              "  </thead>\n",
              "  <tbody>\n",
              "    <tr>\n",
              "      <th>140</th>\n",
              "      <td>6.7</td>\n",
              "      <td>3.1</td>\n",
              "      <td>5.6</td>\n",
              "      <td>2.4</td>\n",
              "      <td>Iris-virginica</td>\n",
              "    </tr>\n",
              "    <tr>\n",
              "      <th>141</th>\n",
              "      <td>6.9</td>\n",
              "      <td>3.1</td>\n",
              "      <td>5.1</td>\n",
              "      <td>2.3</td>\n",
              "      <td>Iris-virginica</td>\n",
              "    </tr>\n",
              "    <tr>\n",
              "      <th>142</th>\n",
              "      <td>5.8</td>\n",
              "      <td>2.7</td>\n",
              "      <td>5.1</td>\n",
              "      <td>1.9</td>\n",
              "      <td>Iris-virginica</td>\n",
              "    </tr>\n",
              "    <tr>\n",
              "      <th>143</th>\n",
              "      <td>6.8</td>\n",
              "      <td>3.2</td>\n",
              "      <td>5.9</td>\n",
              "      <td>2.3</td>\n",
              "      <td>Iris-virginica</td>\n",
              "    </tr>\n",
              "    <tr>\n",
              "      <th>144</th>\n",
              "      <td>6.7</td>\n",
              "      <td>3.3</td>\n",
              "      <td>5.7</td>\n",
              "      <td>2.5</td>\n",
              "      <td>Iris-virginica</td>\n",
              "    </tr>\n",
              "    <tr>\n",
              "      <th>145</th>\n",
              "      <td>6.7</td>\n",
              "      <td>3.0</td>\n",
              "      <td>5.2</td>\n",
              "      <td>2.3</td>\n",
              "      <td>Iris-virginica</td>\n",
              "    </tr>\n",
              "    <tr>\n",
              "      <th>146</th>\n",
              "      <td>6.3</td>\n",
              "      <td>2.5</td>\n",
              "      <td>5.0</td>\n",
              "      <td>1.9</td>\n",
              "      <td>Iris-virginica</td>\n",
              "    </tr>\n",
              "    <tr>\n",
              "      <th>147</th>\n",
              "      <td>6.5</td>\n",
              "      <td>3.0</td>\n",
              "      <td>5.2</td>\n",
              "      <td>2.0</td>\n",
              "      <td>Iris-virginica</td>\n",
              "    </tr>\n",
              "    <tr>\n",
              "      <th>148</th>\n",
              "      <td>6.2</td>\n",
              "      <td>3.4</td>\n",
              "      <td>5.4</td>\n",
              "      <td>2.3</td>\n",
              "      <td>Iris-virginica</td>\n",
              "    </tr>\n",
              "    <tr>\n",
              "      <th>149</th>\n",
              "      <td>5.9</td>\n",
              "      <td>3.0</td>\n",
              "      <td>5.1</td>\n",
              "      <td>1.8</td>\n",
              "      <td>Iris-virginica</td>\n",
              "    </tr>\n",
              "  </tbody>\n",
              "</table>\n",
              "</div>"
            ],
            "text/plain": [
              "      x1   x2   x3   x4               Y\n",
              "140  6.7  3.1  5.6  2.4  Iris-virginica\n",
              "141  6.9  3.1  5.1  2.3  Iris-virginica\n",
              "142  5.8  2.7  5.1  1.9  Iris-virginica\n",
              "143  6.8  3.2  5.9  2.3  Iris-virginica\n",
              "144  6.7  3.3  5.7  2.5  Iris-virginica\n",
              "145  6.7  3.0  5.2  2.3  Iris-virginica\n",
              "146  6.3  2.5  5.0  1.9  Iris-virginica\n",
              "147  6.5  3.0  5.2  2.0  Iris-virginica\n",
              "148  6.2  3.4  5.4  2.3  Iris-virginica\n",
              "149  5.9  3.0  5.1  1.8  Iris-virginica"
            ]
          },
          "metadata": {
            "tags": []
          },
          "execution_count": 123
        }
      ]
    },
    {
      "cell_type": "code",
      "metadata": {
        "id": "gSpPZ-Re3Koj"
      },
      "source": [
        "# To save dataset\n",
        "df.to_csv(\"ddd.csv\", index=False)"
      ],
      "execution_count": null,
      "outputs": []
    },
    {
      "cell_type": "code",
      "metadata": {
        "id": "ADNlgHE23Koj",
        "outputId": "e6468cc7-ec98-46f0-b7b4-0b03474c12cf"
      },
      "source": [
        "# to know datatype\n",
        "print(df.dtypes)"
      ],
      "execution_count": null,
      "outputs": [
        {
          "output_type": "stream",
          "text": [
            "x1    float64\n",
            "x2    float64\n",
            "x3    float64\n",
            "x4    float64\n",
            "Y      object\n",
            "dtype: object\n"
          ],
          "name": "stdout"
        }
      ]
    },
    {
      "cell_type": "code",
      "metadata": {
        "id": "m75caCUz3Kok",
        "outputId": "ed15898b-c37c-4fcc-a5d9-f2df95740cc9"
      },
      "source": [
        "# describe statistical summary of each column, such as count, column mean value, column standard deviation, etc.\n",
        "df.describe()   # covers numeric coluns"
      ],
      "execution_count": null,
      "outputs": [
        {
          "output_type": "execute_result",
          "data": {
            "text/html": [
              "<div>\n",
              "<style scoped>\n",
              "    .dataframe tbody tr th:only-of-type {\n",
              "        vertical-align: middle;\n",
              "    }\n",
              "\n",
              "    .dataframe tbody tr th {\n",
              "        vertical-align: top;\n",
              "    }\n",
              "\n",
              "    .dataframe thead th {\n",
              "        text-align: right;\n",
              "    }\n",
              "</style>\n",
              "<table border=\"1\" class=\"dataframe\">\n",
              "  <thead>\n",
              "    <tr style=\"text-align: right;\">\n",
              "      <th></th>\n",
              "      <th>x1</th>\n",
              "      <th>x2</th>\n",
              "      <th>x3</th>\n",
              "      <th>x4</th>\n",
              "    </tr>\n",
              "  </thead>\n",
              "  <tbody>\n",
              "    <tr>\n",
              "      <th>count</th>\n",
              "      <td>150.000000</td>\n",
              "      <td>150.000000</td>\n",
              "      <td>150.000000</td>\n",
              "      <td>150.000000</td>\n",
              "    </tr>\n",
              "    <tr>\n",
              "      <th>mean</th>\n",
              "      <td>5.843333</td>\n",
              "      <td>3.054000</td>\n",
              "      <td>3.758667</td>\n",
              "      <td>1.198667</td>\n",
              "    </tr>\n",
              "    <tr>\n",
              "      <th>std</th>\n",
              "      <td>0.828066</td>\n",
              "      <td>0.433594</td>\n",
              "      <td>1.764420</td>\n",
              "      <td>0.763161</td>\n",
              "    </tr>\n",
              "    <tr>\n",
              "      <th>min</th>\n",
              "      <td>4.300000</td>\n",
              "      <td>2.000000</td>\n",
              "      <td>1.000000</td>\n",
              "      <td>0.100000</td>\n",
              "    </tr>\n",
              "    <tr>\n",
              "      <th>25%</th>\n",
              "      <td>5.100000</td>\n",
              "      <td>2.800000</td>\n",
              "      <td>1.600000</td>\n",
              "      <td>0.300000</td>\n",
              "    </tr>\n",
              "    <tr>\n",
              "      <th>50%</th>\n",
              "      <td>5.800000</td>\n",
              "      <td>3.000000</td>\n",
              "      <td>4.350000</td>\n",
              "      <td>1.300000</td>\n",
              "    </tr>\n",
              "    <tr>\n",
              "      <th>75%</th>\n",
              "      <td>6.400000</td>\n",
              "      <td>3.300000</td>\n",
              "      <td>5.100000</td>\n",
              "      <td>1.800000</td>\n",
              "    </tr>\n",
              "    <tr>\n",
              "      <th>max</th>\n",
              "      <td>7.900000</td>\n",
              "      <td>4.400000</td>\n",
              "      <td>6.900000</td>\n",
              "      <td>2.500000</td>\n",
              "    </tr>\n",
              "  </tbody>\n",
              "</table>\n",
              "</div>"
            ],
            "text/plain": [
              "               x1          x2          x3          x4\n",
              "count  150.000000  150.000000  150.000000  150.000000\n",
              "mean     5.843333    3.054000    3.758667    1.198667\n",
              "std      0.828066    0.433594    1.764420    0.763161\n",
              "min      4.300000    2.000000    1.000000    0.100000\n",
              "25%      5.100000    2.800000    1.600000    0.300000\n",
              "50%      5.800000    3.000000    4.350000    1.300000\n",
              "75%      6.400000    3.300000    5.100000    1.800000\n",
              "max      7.900000    4.400000    6.900000    2.500000"
            ]
          },
          "metadata": {
            "tags": []
          },
          "execution_count": 126
        }
      ]
    },
    {
      "cell_type": "code",
      "metadata": {
        "id": "Q_b0AqOG3Kok",
        "outputId": "ef982c54-44ad-4570-dbc8-d99ddf6af30c"
      },
      "source": [
        "# to descibe object columns too\n",
        "df.describe(include='all')"
      ],
      "execution_count": null,
      "outputs": [
        {
          "output_type": "execute_result",
          "data": {
            "text/html": [
              "<div>\n",
              "<style scoped>\n",
              "    .dataframe tbody tr th:only-of-type {\n",
              "        vertical-align: middle;\n",
              "    }\n",
              "\n",
              "    .dataframe tbody tr th {\n",
              "        vertical-align: top;\n",
              "    }\n",
              "\n",
              "    .dataframe thead th {\n",
              "        text-align: right;\n",
              "    }\n",
              "</style>\n",
              "<table border=\"1\" class=\"dataframe\">\n",
              "  <thead>\n",
              "    <tr style=\"text-align: right;\">\n",
              "      <th></th>\n",
              "      <th>x1</th>\n",
              "      <th>x2</th>\n",
              "      <th>x3</th>\n",
              "      <th>x4</th>\n",
              "      <th>Y</th>\n",
              "    </tr>\n",
              "  </thead>\n",
              "  <tbody>\n",
              "    <tr>\n",
              "      <th>count</th>\n",
              "      <td>150.000000</td>\n",
              "      <td>150.000000</td>\n",
              "      <td>150.000000</td>\n",
              "      <td>150.000000</td>\n",
              "      <td>150</td>\n",
              "    </tr>\n",
              "    <tr>\n",
              "      <th>unique</th>\n",
              "      <td>NaN</td>\n",
              "      <td>NaN</td>\n",
              "      <td>NaN</td>\n",
              "      <td>NaN</td>\n",
              "      <td>3</td>\n",
              "    </tr>\n",
              "    <tr>\n",
              "      <th>top</th>\n",
              "      <td>NaN</td>\n",
              "      <td>NaN</td>\n",
              "      <td>NaN</td>\n",
              "      <td>NaN</td>\n",
              "      <td>Iris-versicolor</td>\n",
              "    </tr>\n",
              "    <tr>\n",
              "      <th>freq</th>\n",
              "      <td>NaN</td>\n",
              "      <td>NaN</td>\n",
              "      <td>NaN</td>\n",
              "      <td>NaN</td>\n",
              "      <td>50</td>\n",
              "    </tr>\n",
              "    <tr>\n",
              "      <th>mean</th>\n",
              "      <td>5.843333</td>\n",
              "      <td>3.054000</td>\n",
              "      <td>3.758667</td>\n",
              "      <td>1.198667</td>\n",
              "      <td>NaN</td>\n",
              "    </tr>\n",
              "    <tr>\n",
              "      <th>std</th>\n",
              "      <td>0.828066</td>\n",
              "      <td>0.433594</td>\n",
              "      <td>1.764420</td>\n",
              "      <td>0.763161</td>\n",
              "      <td>NaN</td>\n",
              "    </tr>\n",
              "    <tr>\n",
              "      <th>min</th>\n",
              "      <td>4.300000</td>\n",
              "      <td>2.000000</td>\n",
              "      <td>1.000000</td>\n",
              "      <td>0.100000</td>\n",
              "      <td>NaN</td>\n",
              "    </tr>\n",
              "    <tr>\n",
              "      <th>25%</th>\n",
              "      <td>5.100000</td>\n",
              "      <td>2.800000</td>\n",
              "      <td>1.600000</td>\n",
              "      <td>0.300000</td>\n",
              "      <td>NaN</td>\n",
              "    </tr>\n",
              "    <tr>\n",
              "      <th>50%</th>\n",
              "      <td>5.800000</td>\n",
              "      <td>3.000000</td>\n",
              "      <td>4.350000</td>\n",
              "      <td>1.300000</td>\n",
              "      <td>NaN</td>\n",
              "    </tr>\n",
              "    <tr>\n",
              "      <th>75%</th>\n",
              "      <td>6.400000</td>\n",
              "      <td>3.300000</td>\n",
              "      <td>5.100000</td>\n",
              "      <td>1.800000</td>\n",
              "      <td>NaN</td>\n",
              "    </tr>\n",
              "    <tr>\n",
              "      <th>max</th>\n",
              "      <td>7.900000</td>\n",
              "      <td>4.400000</td>\n",
              "      <td>6.900000</td>\n",
              "      <td>2.500000</td>\n",
              "      <td>NaN</td>\n",
              "    </tr>\n",
              "  </tbody>\n",
              "</table>\n",
              "</div>"
            ],
            "text/plain": [
              "                x1          x2          x3          x4                Y\n",
              "count   150.000000  150.000000  150.000000  150.000000              150\n",
              "unique         NaN         NaN         NaN         NaN                3\n",
              "top            NaN         NaN         NaN         NaN  Iris-versicolor\n",
              "freq           NaN         NaN         NaN         NaN               50\n",
              "mean      5.843333    3.054000    3.758667    1.198667              NaN\n",
              "std       0.828066    0.433594    1.764420    0.763161              NaN\n",
              "min       4.300000    2.000000    1.000000    0.100000              NaN\n",
              "25%       5.100000    2.800000    1.600000    0.300000              NaN\n",
              "50%       5.800000    3.000000    4.350000    1.300000              NaN\n",
              "75%       6.400000    3.300000    5.100000    1.800000              NaN\n",
              "max       7.900000    4.400000    6.900000    2.500000              NaN"
            ]
          },
          "metadata": {
            "tags": []
          },
          "execution_count": 127
        }
      ]
    },
    {
      "cell_type": "code",
      "metadata": {
        "id": "4szenbN73Kok"
      },
      "source": [
        "# describe selected columns\n",
        "df[[' ', ' ']].describe()"
      ],
      "execution_count": null,
      "outputs": []
    },
    {
      "cell_type": "code",
      "metadata": {
        "id": "0kpSpSQy3Kok",
        "outputId": "02ce44c0-8006-49d1-865f-6d588cf3e7cd"
      },
      "source": [
        "# Another methhod to check summary is\n",
        "df.info()"
      ],
      "execution_count": null,
      "outputs": [
        {
          "output_type": "stream",
          "text": [
            "<class 'pandas.core.frame.DataFrame'>\n",
            "RangeIndex: 150 entries, 0 to 149\n",
            "Data columns (total 5 columns):\n",
            " #   Column  Non-Null Count  Dtype  \n",
            "---  ------  --------------  -----  \n",
            " 0   x1      150 non-null    float64\n",
            " 1   x2      150 non-null    float64\n",
            " 2   x3      150 non-null    float64\n",
            " 3   x4      150 non-null    float64\n",
            " 4   Y       150 non-null    object \n",
            "dtypes: float64(4), object(1)\n",
            "memory usage: 5.3+ KB\n"
          ],
          "name": "stdout"
        }
      ]
    },
    {
      "cell_type": "code",
      "metadata": {
        "id": "d8uaXOG-3Kol",
        "outputId": "43615d06-d631-4b48-cffc-ce7435a32311"
      },
      "source": [
        "# to drop Column\n",
        "data.drop([' '],axis=1,inplace=True)\n",
        "data.head()"
      ],
      "execution_count": null,
      "outputs": [
        {
          "output_type": "error",
          "ename": "NameError",
          "evalue": "name 'data' is not defined",
          "traceback": [
            "\u001b[1;31m---------------------------------------------------------------------------\u001b[0m",
            "\u001b[1;31mNameError\u001b[0m                                 Traceback (most recent call last)",
            "\u001b[1;32m<ipython-input-130-55ba27b7cde2>\u001b[0m in \u001b[0;36m<module>\u001b[1;34m\u001b[0m\n\u001b[0;32m      1\u001b[0m \u001b[1;31m# to drop Column\u001b[0m\u001b[1;33m\u001b[0m\u001b[1;33m\u001b[0m\u001b[1;33m\u001b[0m\u001b[0m\n\u001b[1;32m----> 2\u001b[1;33m \u001b[0mdata\u001b[0m\u001b[1;33m.\u001b[0m\u001b[0mdrop\u001b[0m\u001b[1;33m(\u001b[0m\u001b[1;33m[\u001b[0m\u001b[1;34m' '\u001b[0m\u001b[1;33m]\u001b[0m\u001b[1;33m,\u001b[0m\u001b[0maxis\u001b[0m\u001b[1;33m=\u001b[0m\u001b[1;36m1\u001b[0m\u001b[1;33m,\u001b[0m\u001b[0minplace\u001b[0m\u001b[1;33m=\u001b[0m\u001b[1;32mTrue\u001b[0m\u001b[1;33m)\u001b[0m\u001b[1;33m\u001b[0m\u001b[1;33m\u001b[0m\u001b[0m\n\u001b[0m\u001b[0;32m      3\u001b[0m \u001b[0mdata\u001b[0m\u001b[1;33m.\u001b[0m\u001b[0mhead\u001b[0m\u001b[1;33m(\u001b[0m\u001b[1;33m)\u001b[0m\u001b[1;33m\u001b[0m\u001b[1;33m\u001b[0m\u001b[0m\n",
            "\u001b[1;31mNameError\u001b[0m: name 'data' is not defined"
          ]
        }
      ]
    },
    {
      "cell_type": "code",
      "metadata": {
        "id": "TA-lRCo43Kol"
      },
      "source": [
        "# to rename column\n",
        "data.rename(columns={\"Country/Region\":\"Country\"},inplace=True)"
      ],
      "execution_count": null,
      "outputs": []
    },
    {
      "cell_type": "code",
      "metadata": {
        "id": "fwjEh4Ht3Kom"
      },
      "source": [
        "# Save to CSV, HTML and JSON\n",
        "my_df.to_csv(\"my_df.csv\")\n",
        "my_df.to_html(\"my_df.html\")\n",
        "my_df.to_json(\"my_df.json\")"
      ],
      "execution_count": null,
      "outputs": []
    },
    {
      "cell_type": "markdown",
      "metadata": {
        "id": "3iAC-G1f3Kom"
      },
      "source": [
        "# MatPlotLib"
      ]
    },
    {
      "cell_type": "code",
      "metadata": {
        "id": "7F-xpNxM3Kom"
      },
      "source": [
        "import matplotlib as mpl\n",
        "import matplotlib.pyplot as plt"
      ],
      "execution_count": null,
      "outputs": []
    },
    {
      "cell_type": "code",
      "metadata": {
        "id": "kzVd-Cgs3Kon",
        "colab": {
          "base_uri": "https://localhost:8080/",
          "height": 35
        },
        "outputId": "558ec063-30f9-4611-f570-06486b3290e0"
      },
      "source": [
        "mpl.__version__"
      ],
      "execution_count": null,
      "outputs": [
        {
          "output_type": "execute_result",
          "data": {
            "application/vnd.google.colaboratory.intrinsic+json": {
              "type": "string"
            },
            "text/plain": [
              "'3.2.2'"
            ]
          },
          "metadata": {
            "tags": []
          },
          "execution_count": 2
        }
      ]
    },
    {
      "cell_type": "code",
      "metadata": {
        "id": "m7tvtjkFx4ID"
      },
      "source": [
        "import numpy as np"
      ],
      "execution_count": null,
      "outputs": []
    },
    {
      "cell_type": "code",
      "metadata": {
        "id": "eafB8Nye3Kon"
      },
      "source": [
        "X=np.array([1,2,3,4,5])\n",
        "Y=np.array([2,4,5,6,7])"
      ],
      "execution_count": null,
      "outputs": []
    },
    {
      "cell_type": "code",
      "metadata": {
        "colab": {
          "base_uri": "https://localhost:8080/"
        },
        "id": "MJk-K86Xx9GM",
        "outputId": "18539102-85eb-48b5-9b93-1fd5fdcdc751"
      },
      "source": [
        "print(X)\n",
        "Y"
      ],
      "execution_count": null,
      "outputs": [
        {
          "output_type": "stream",
          "text": [
            "[1 2 3 4 5]\n"
          ],
          "name": "stdout"
        },
        {
          "output_type": "execute_result",
          "data": {
            "text/plain": [
              "array([2, 4, 5, 6, 7])"
            ]
          },
          "metadata": {
            "tags": []
          },
          "execution_count": 7
        }
      ]
    },
    {
      "cell_type": "code",
      "metadata": {
        "id": "VHlOsQbr3Kon",
        "colab": {
          "base_uri": "https://localhost:8080/",
          "height": 282
        },
        "outputId": "baea7947-8f7b-4960-9a96-704af620b2c4"
      },
      "source": [
        "plt.plot(X,Y,c=\"blue\")"
      ],
      "execution_count": null,
      "outputs": [
        {
          "output_type": "execute_result",
          "data": {
            "text/plain": [
              "[<matplotlib.lines.Line2D at 0x7f33ee38e550>]"
            ]
          },
          "metadata": {
            "tags": []
          },
          "execution_count": 8
        },
        {
          "output_type": "display_data",
          "data": {
            "image/png": "[encoded data removed]",
            "text/plain": [
              "<Figure size 432x288 with 1 Axes>"
            ]
          },
          "metadata": {
            "tags": [],
            "needs_background": "light"
          }
        }
      ]
    },
    {
      "cell_type": "code",
      "metadata": {
        "id": "NGqHWMIY3Koo",
        "colab": {
          "base_uri": "https://localhost:8080/",
          "height": 282
        },
        "outputId": "0ca9c0cf-3913-477b-f6b0-701064cdace3"
      },
      "source": [
        "plt.scatter(X,Y,c='r')"
      ],
      "execution_count": null,
      "outputs": [
        {
          "output_type": "execute_result",
          "data": {
            "text/plain": [
              "<matplotlib.collections.PathCollection at 0x7f33e7ef8650>"
            ]
          },
          "metadata": {
            "tags": []
          },
          "execution_count": 9
        },
        {
          "output_type": "display_data",
          "data": {
            "image/png": "[encoded data removed]",
            "text/plain": [
              "<Figure size 432x288 with 1 Axes>"
            ]
          },
          "metadata": {
            "tags": [],
            "needs_background": "light"
          }
        }
      ]
    },
    {
      "cell_type": "code",
      "metadata": {
        "id": "7x1acnQY3Koo",
        "colab": {
          "base_uri": "https://localhost:8080/",
          "height": 282
        },
        "outputId": "361e8af8-1dbc-4ce1-cdfb-e787f6078df9"
      },
      "source": [
        "plt.plot(X,Y,c=\"r\")   #line\n",
        "plt.scatter(X,Y,c='b') #blue"
      ],
      "execution_count": null,
      "outputs": [
        {
          "output_type": "execute_result",
          "data": {
            "text/plain": [
              "<matplotlib.collections.PathCollection at 0x7f33e7a37290>"
            ]
          },
          "metadata": {
            "tags": []
          },
          "execution_count": 10
        },
        {
          "output_type": "display_data",
          "data": {
            "image/png": "[encoded data removed]",
            "text/plain": [
              "<Figure size 432x288 with 1 Axes>"
            ]
          },
          "metadata": {
            "tags": [],
            "needs_background": "light"
          }
        }
      ]
    },
    {
      "cell_type": "code",
      "metadata": {
        "id": "oVD2PGDg3Koo",
        "colab": {
          "base_uri": "https://localhost:8080/",
          "height": 265
        },
        "outputId": "f45caf34-19d0-4a67-816b-6c16c144b7cb"
      },
      "source": [
        "plt.bar(X,Y,color=\"pink\")\n",
        "Z=[3,5,7,8,9]\n",
        "#plt.bar(X,Z)"
      ],
      "execution_count": null,
      "outputs": [
        {
          "output_type": "display_data",
          "data": {
            "image/png": "[encoded data removed]",
            "text/plain": [
              "<Figure size 432x288 with 1 Axes>"
            ]
          },
          "metadata": {
            "tags": [],
            "needs_background": "light"
          }
        }
      ]
    },
    {
      "cell_type": "code",
      "metadata": {
        "id": "CqWOxQEO3Kop",
        "colab": {
          "base_uri": "https://localhost:8080/",
          "height": 282
        },
        "outputId": "18d38001-2031-474b-ba93-b4ca6ca89dc3"
      },
      "source": [
        "plt.barh(X,Z)"
      ],
      "execution_count": null,
      "outputs": [
        {
          "output_type": "execute_result",
          "data": {
            "text/plain": [
              "<BarContainer object of 5 artists>"
            ]
          },
          "metadata": {
            "tags": []
          },
          "execution_count": 18
        },
        {
          "output_type": "display_data",
          "data": {
            "image/png": "[encoded data removed]",
            "text/plain": [
              "<Figure size 432x288 with 1 Axes>"
            ]
          },
          "metadata": {
            "tags": [],
            "needs_background": "light"
          }
        }
      ]
    },
    {
      "cell_type": "code",
      "metadata": {
        "id": "SrVVhL3Q3Kos",
        "colab": {
          "base_uri": "https://localhost:8080/",
          "height": 316
        },
        "outputId": "9324a759-5615-4a54-d748-8020efcb892c"
      },
      "source": [
        "plt.hist(Y)"
      ],
      "execution_count": null,
      "outputs": [
        {
          "output_type": "execute_result",
          "data": {
            "text/plain": [
              "(array([1., 0., 0., 0., 1., 0., 1., 0., 1., 1.]),\n",
              " array([2. , 2.5, 3. , 3.5, 4. , 4.5, 5. , 5.5, 6. , 6.5, 7. ]),\n",
              " <a list of 10 Patch objects>)"
            ]
          },
          "metadata": {
            "tags": []
          },
          "execution_count": 19
        },
        {
          "output_type": "display_data",
          "data": {
            "image/png": "[encoded data removed]",
            "text/plain": [
              "<Figure size 432x288 with 1 Axes>"
            ]
          },
          "metadata": {
            "tags": [],
            "needs_background": "light"
          }
        }
      ]
    },
    {
      "cell_type": "code",
      "metadata": {
        "id": "ujTRJTWO3Kos"
      },
      "source": [
        ""
      ],
      "execution_count": null,
      "outputs": []
    },
    {
      "cell_type": "code",
      "metadata": {
        "id": "VmyntBcs3Kot"
      },
      "source": [
        "%matplotlib inline "
      ],
      "execution_count": null,
      "outputs": []
    },
    {
      "cell_type": "code",
      "metadata": {
        "id": "lzWnLCVy3Kot",
        "outputId": "8914c9af-c3dd-4631-ade8-b64f0cd3d3f2"
      },
      "source": [
        "l=['line1','line2']\n",
        "plt.plot(X,Y)\n",
        "plt.plot(Y,X,'b')\n",
        "plt.title('Title')\n",
        "plt.ylabel('Y')\n",
        "plt.xlabel('X')\n",
        "plt.axis('equal') \n",
        "\n",
        "# add legend\n",
        "plt.legend(labels=l, loc='upper left') \n",
        "\n",
        "plt.show()"
      ],
      "execution_count": null,
      "outputs": [
        {
          "output_type": "display_data",
          "data": {
            "image/png": "[encoded data removed]",
            "text/plain": [
              "<Figure size 432x288 with 1 Axes>"
            ]
          },
          "metadata": {
            "tags": [],
            "needs_background": "light"
          }
        }
      ]
    },
    {
      "cell_type": "code",
      "metadata": {
        "id": "6ULD_KNA3Kou"
      },
      "source": [
        "#box plot\n",
        "#hexbin plot\n",
        "#pie plot\n",
        "#area plot\n",
        "#etc..."
      ],
      "execution_count": null,
      "outputs": []
    },
    {
      "cell_type": "markdown",
      "metadata": {
        "id": "FLH7qhjP3Kov"
      },
      "source": [
        "# SCIKIT Learn"
      ]
    },
    {
      "cell_type": "code",
      "metadata": {
        "id": "r8V6n0wh3Kov"
      },
      "source": [
        "#splitting train test data\n",
        "from sklearn.model_selection import train_test_split\n",
        "xtrain,xtest,ytrain,ytest=train_test_split(X,Y,test_size=0.2)\n",
        "#Safffff"
      ],
      "execution_count": null,
      "outputs": []
    },
    {
      "cell_type": "markdown",
      "metadata": {
        "id": "TNrewPvz3Kov"
      },
      "source": [
        "#### Linear Regression and Multiple Linear Regression "
      ]
    },
    {
      "cell_type": "code",
      "metadata": {
        "id": "7iPdQUTp3Kow",
        "outputId": "21a53dea-ab57-471d-a59a-ed5d0f0f5592"
      },
      "source": [
        "#Linear Regression\n",
        "from sklearn.linear_model import LinearRegression\n",
        "model = LinearRegression()\n",
        "model.fit(xtrain,ytrain) #X.reshape(-1,1),Y.reshape(-1,1))\n",
        "#Multiliner Regression \n",
        "#X=df[\"X1\",\"X2\",\"X3\"]\n",
        "#model.fit(X,Y)"
      ],
      "execution_count": null,
      "outputs": [
        {
          "output_type": "execute_result",
          "data": {
            "text/plain": [
              "LinearRegression()"
            ]
          },
          "metadata": {
            "tags": []
          },
          "execution_count": 181
        }
      ]
    },
    {
      "cell_type": "code",
      "metadata": {
        "id": "Skv2psx33Kow"
      },
      "source": [
        "#Model Evaluation(Accurary) # Performace Metric\n",
        "from sklearn.metrics import mean_absolute_error,mean_squared_error,r2_score\n",
        "#mean_absolute_error(Y, Y_Hat)\n",
        "#mean_squared_error(Y, Y_Hat)\n",
        "#r2_score(Ytrain, Y_Hat)"
      ],
      "execution_count": null,
      "outputs": []
    },
    {
      "cell_type": "markdown",
      "metadata": {
        "id": "JPNXQWZ43Kow"
      },
      "source": [
        "#### Classification"
      ]
    },
    {
      "cell_type": "code",
      "metadata": {
        "id": "3p4H-uMO3Kox"
      },
      "source": [
        "# Logistic Regression\n",
        "from sklearn.linear_model import LogisticRegression\n",
        "model=LogisticRegression()\n",
        "model.fit(xtrain,ytrain)\n",
        "#prediction\n",
        "#Yhat=model.predict(xtest)\n",
        "# prodect Probability\n",
        "#y_probability=predict_proba(xtest)"
      ],
      "execution_count": null,
      "outputs": []
    },
    {
      "cell_type": "code",
      "metadata": {
        "id": "in5lD-w73Kox"
      },
      "source": [
        "#NaiveBayes -- What are its two other types???\n",
        "from sklearn.naive_bayes import GaussianNB\n",
        "model=GaussianNB()\n",
        "#model.fit(xtrain,ytrain)"
      ],
      "execution_count": null,
      "outputs": []
    },
    {
      "cell_type": "code",
      "metadata": {
        "id": "zZJXePMw3Kox"
      },
      "source": [
        "#KNN\n",
        "from sklearn.neighbors import KNeighborsClassifier\n",
        "model = KNeighborsClassifier(n_neighbors=10)  #(Values of K as parameter)\n",
        "#model.fit(xtrain, ytrain)"
      ],
      "execution_count": null,
      "outputs": []
    },
    {
      "cell_type": "code",
      "metadata": {
        "id": "wKcFKE783Kox"
      },
      "source": [
        "#Decision Tree\n",
        "from sklearn.tree import DecisionTreeClassifier\n",
        "cart = DecisionTreeClassifier()  #CART -->GINI\n",
        "id3 = DecisionTreeClassifier(criterion = 'entropy')  # ID3\n",
        "#DT2 = DecisionTreeClassifier(criterion = 'gini')    # CART\n",
        "#cart.fit(xtrain, ytrain)\n",
        "#id3.fit(xtrain, ytrain)"
      ],
      "execution_count": null,
      "outputs": []
    },
    {
      "cell_type": "code",
      "metadata": {
        "id": "iiYE-YLs3Koy"
      },
      "source": [
        "#SVM\n",
        "from sklearn.svm import SVC\n",
        "model = SVC(kernel='linear')\n",
        "model.fit(xtrain, ytrain)"
      ],
      "execution_count": null,
      "outputs": []
    },
    {
      "cell_type": "code",
      "metadata": {
        "id": "HPvWhXVy3Koy"
      },
      "source": [
        "#Random Forest\n",
        "from sklearn.ensemble import RandomForestClassifier\n",
        "model=RandomForestClassifier(n_estimators=10)\n",
        "#model.fit(xtrain, ytrain)"
      ],
      "execution_count": null,
      "outputs": []
    },
    {
      "cell_type": "code",
      "metadata": {
        "id": "cTR8uEfr3Koy"
      },
      "source": [
        "#AdaBoost Classifier\n",
        "from sklearn.ensemble import AdaBoostClassifier\n",
        "model = AdaBoostClassifier(n_estimators=100)\n",
        "#model.fit(xtrain, ytrain)"
      ],
      "execution_count": null,
      "outputs": []
    },
    {
      "cell_type": "code",
      "metadata": {
        "id": "Ttw-P31V3Koy"
      },
      "source": [
        "#GradientBoosting classifier\n",
        "from sklearn.ensemble import GradientBoostingClassifier\n",
        "model = GradientBoostingClassifier(n_estimators=100)\n",
        "#model.fit(xtrain, ytrain)"
      ],
      "execution_count": null,
      "outputs": []
    },
    {
      "cell_type": "code",
      "metadata": {
        "id": "AMxU5kDZ3Koz"
      },
      "source": [
        "## Accuracy Evaluation / Model Evaluation / Performance metrics of classfication \n"
      ],
      "execution_count": null,
      "outputs": []
    },
    {
      "cell_type": "code",
      "metadata": {
        "id": "i-J37Jw43Koz"
      },
      "source": [
        "# Print classification Report \n",
        "from sklearn.metrics import classification_report\n",
        "classification_report(Ytrain, Y_Hat)"
      ],
      "execution_count": null,
      "outputs": []
    },
    {
      "cell_type": "code",
      "metadata": {
        "id": "UhjgF2bW3Koz"
      },
      "source": [
        "#Accuracy Score\n",
        "from sklearn.metrics import accuracy_score\n",
        "accuracy_score(y_train, y_hat)"
      ],
      "execution_count": null,
      "outputs": []
    },
    {
      "cell_type": "code",
      "metadata": {
        "id": "f8BRIDlf3Ko0"
      },
      "source": [
        "#Confusion Matrix\n",
        "from sklearn.metrics import confusion_matrix\n",
        "confusion_matrix(y_train, y_hat)"
      ],
      "execution_count": null,
      "outputs": []
    },
    {
      "cell_type": "code",
      "metadata": {
        "id": "KyLMzpKz3Ko0"
      },
      "source": [
        "#Cross Validation\n",
        "from sklearn.model_selection import cross_val_score\n",
        "scores = cross_val_score(model, X, y, cv=5)"
      ],
      "execution_count": null,
      "outputs": []
    },
    {
      "cell_type": "code",
      "metadata": {
        "id": "lWzXp0OW3Ko0"
      },
      "source": [
        "#F1 Scaore\n",
        "from sklearn.model_selection import f1_score\n",
        "f1_score(y_train, y_pred)"
      ],
      "execution_count": null,
      "outputs": []
    },
    {
      "cell_type": "code",
      "metadata": {
        "id": "qLynkvEl3Ko0"
      },
      "source": [
        "from sklearn.metrics import average_precision_score\n",
        "average_precision_score(y_test, y_hat)"
      ],
      "execution_count": null,
      "outputs": []
    },
    {
      "cell_type": "code",
      "metadata": {
        "id": "-mYYj-vp3Ko1"
      },
      "source": [
        "from sklearn.metrics import jaccard_score\n",
        "#jaccard_score(y_train, y_hat)"
      ],
      "execution_count": null,
      "outputs": []
    },
    {
      "cell_type": "markdown",
      "metadata": {
        "id": "W969W9T73Ko2"
      },
      "source": [
        "#### Unsupervised Machine Learning Techniques"
      ]
    },
    {
      "cell_type": "code",
      "metadata": {
        "id": "PH38oDnw3Ko2"
      },
      "source": [
        "#K Means\n",
        "from sklearn.cluster import KMeans\n",
        "model = KMeans(n_clusters=3, random_state=0)\n",
        "model.fit(X_train)  #unsupervised No Label\n",
        "\n",
        "#Predictions\n",
        "y_pred = model.predict(X_test)"
      ],
      "execution_count": null,
      "outputs": []
    },
    {
      "cell_type": "code",
      "metadata": {
        "id": "hbTjQHLS3Ko3"
      },
      "source": [
        "#Principal Component Analysis\n",
        "from sklearn.decomposition import PCA\n",
        "model = PCA(n_components=0.95)\n",
        "pca=model.fit_transform(X_train)"
      ],
      "execution_count": null,
      "outputs": []
    },
    {
      "cell_type": "code",
      "metadata": {
        "id": "bQwVlv5_3Ko3"
      },
      "source": [
        "a=10"
      ],
      "execution_count": null,
      "outputs": []
    },
    {
      "cell_type": "code",
      "metadata": {
        "id": "YwQl07nq3Ko3",
        "outputId": "60f3424c-ba08-447d-c6cf-48d8e35f5c9b"
      },
      "source": [
        "print(a)"
      ],
      "execution_count": null,
      "outputs": [
        {
          "output_type": "stream",
          "text": [
            "10\n"
          ],
          "name": "stdout"
        }
      ]
    },
    {
      "cell_type": "code",
      "metadata": {
        "id": "Hrpb0HEY3Ko4"
      },
      "source": [
        ""
      ],
      "execution_count": null,
      "outputs": []
    }
  ]
}