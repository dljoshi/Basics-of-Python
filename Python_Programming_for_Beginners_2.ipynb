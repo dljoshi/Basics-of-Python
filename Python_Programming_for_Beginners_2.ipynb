{
  "nbformat": 4,
  "nbformat_minor": 0,
  "metadata": {
    "colab": {
      "name": "Python Programming for Beginners Session-2.ipynb",
      "provenance": [],
      "collapsed_sections": [
        "weDpp53moDTH",
        "VC0jY2kr17lS",
        "kDZ0jqWWV4tE",
        "EYfPhRqZSEkZ",
        "PnH8cUDKTZYV",
        "dVpGF7EENeBb",
        "C6ARnbcRYdpu",
        "A744aGIDbaRh"
      ]
    },
    "kernelspec": {
      "name": "python3",
      "display_name": "Python 3"
    },
    "language_info": {
      "name": "python"
    }
  },
  "cells": [
    {
      "cell_type": "markdown",
      "source": [
        "# **User Defined Function**"
      ],
      "metadata": {
        "id": "weDpp53moDTH"
      }
    },
    {
      "cell_type": "markdown",
      "source": [
        "*   Functions are sub program\n",
        "*   functions are used to perform a specific task\n",
        "*   If there are several tasks, one can write multiple functions\n",
        "*   In Python, interpreter creates an object of function internally.\n",
        "*   When we define function inside a class, it is called as a method.\n",
        "*   'def' keyword is used to define function\n",
        "*   Recurion:-function have call to itself\n",
        "\n",
        "\n",
        "\n",
        "\n",
        "\n",
        "\n",
        "\n"
      ],
      "metadata": {
        "id": "YyPrFBfTpJNN"
      }
    },
    {
      "cell_type": "markdown",
      "source": [
        "**Syntax of Function Definition**"
      ],
      "metadata": {
        "id": "uVkJfeCWpI2i"
      }
    },
    {
      "cell_type": "markdown",
      "source": [
        "def function_name(parameter list):\n",
        "\n",
        "____statements"
      ],
      "metadata": {
        "id": "1IDPzsNhsWsP"
      }
    },
    {
      "cell_type": "markdown",
      "source": [
        "\n",
        "\n",
        "*   Functions can not executes its own\n",
        "*   It's need to call/invoke when required\n",
        "*   Function is called/invoked using its name and passing values if any.\n",
        "\n",
        "\n",
        "\n"
      ],
      "metadata": {
        "id": "1GcHMkI8swT1"
      }
    },
    {
      "cell_type": "markdown",
      "source": [
        "**Syntax of function call**\n",
        "\n",
        "function_name(value/values)"
      ],
      "metadata": {
        "id": "HN2sYi_stO5R"
      }
    },
    {
      "cell_type": "markdown",
      "source": [
        "*   It is also possible to return values back to the calling place from function\n",
        "*   return is used to send values back to calling place\n",
        "\n"
      ],
      "metadata": {
        "id": "0rr7i47ntbUs"
      }
    },
    {
      "cell_type": "markdown",
      "source": [
        "**Syntax of returning value/s**\n",
        "\n",
        "return value/values"
      ],
      "metadata": {
        "id": "xY2ECxlwvAVJ"
      }
    },
    {
      "cell_type": "markdown",
      "source": [
        "**Advantages of User Defined Function**\n",
        "1.   Reusability\n",
        "2.   Easy to read and write\n",
        "3.   Easy to debug & maintain\n",
        "4.   Work distribution is possible\n",
        "5.   Saves development time\n",
        "\n"
      ],
      "metadata": {
        "id": "hlAncvjIyKP2"
      }
    },
    {
      "cell_type": "code",
      "source": [
        "# Write a function to diaply message\n",
        "def msg():\n",
        "    print('Welcome...')\n",
        "msg()\n"
      ],
      "metadata": {
        "id": "zAE-m-XLoHi7",
        "colab": {
          "base_uri": "https://localhost:8080/"
        },
        "outputId": "c15754d3-2451-4d60-8b7e-99d721be6ecc"
      },
      "execution_count": null,
      "outputs": [
        {
          "output_type": "stream",
          "name": "stdout",
          "text": [
            "Welcome...\n"
          ]
        }
      ]
    },
    {
      "cell_type": "code",
      "source": [
        "# Write a function to exchange values of any data type\n",
        "def swap(a,b):\n",
        "    print(\"before swapping a=\",a,\" b=\",b)\n",
        "    t=a\n",
        "    a=b\n",
        "    b=t\n",
        "    print(\"after swapping a=\",a,\" b=\",b)\n",
        "\n",
        "swap(1,2)\n",
        "swap(\"Dhule\",\"Shirpur\")\n",
        "x=[1,2,3]\n",
        "y=[4,5,6]\n",
        "swap(x,y)"
      ],
      "metadata": {
        "id": "F2HEvls0y0Ir",
        "colab": {
          "base_uri": "https://localhost:8080/"
        },
        "outputId": "6e4c6220-fce8-42f3-a298-ffae9cc4ab3b"
      },
      "execution_count": null,
      "outputs": [
        {
          "output_type": "stream",
          "name": "stdout",
          "text": [
            "before swapping a= 1  b= 2\n",
            "after swapping a= 2  b= 1\n",
            "before swapping a= Dhule  b= Shirpur\n",
            "after swapping a= Shirpur  b= Dhule\n",
            "before swapping a= [1, 2, 3]  b= [4, 5, 6]\n",
            "after swapping a= [4, 5, 6]  b= [1, 2, 3]\n"
          ]
        }
      ]
    },
    {
      "cell_type": "code",
      "source": [
        "# Write a function to check largest of two numbers\n",
        "def max2(a,b):\n",
        "    if a>b :\n",
        "        print(a)\n",
        "    else:\n",
        "        print(b)\n",
        "x=input(\"enter no1\")\n",
        "y=input('enter no2')\n",
        "max2(x,y)"
      ],
      "metadata": {
        "id": "ux2wRYvdy5P-",
        "colab": {
          "base_uri": "https://localhost:8080/"
        },
        "outputId": "8e494204-bcfc-4fc0-a853-dd0166adb981"
      },
      "execution_count": null,
      "outputs": [
        {
          "output_type": "stream",
          "name": "stdout",
          "text": [
            "enter no11\n",
            "enter no22\n",
            "2\n"
          ]
        }
      ]
    },
    {
      "cell_type": "markdown",
      "source": [
        "**Returning values from function**"
      ],
      "metadata": {
        "id": "8lLAxBXJzM57"
      }
    },
    {
      "cell_type": "code",
      "source": [
        "# Returning none - if return is not used in function, it will send None\n",
        "def test():\n",
        "    print('Hi')\n",
        "x=test()\n",
        "print(x)"
      ],
      "metadata": {
        "id": "y5FxMhqyzDDh",
        "colab": {
          "base_uri": "https://localhost:8080/"
        },
        "outputId": "754cbb56-7dfa-4947-9e89-70f39cb22c63"
      },
      "execution_count": null,
      "outputs": [
        {
          "output_type": "stream",
          "name": "stdout",
          "text": [
            "Hi\n",
            "None\n"
          ]
        }
      ]
    },
    {
      "cell_type": "code",
      "source": [
        "# Returning only one value\n",
        "def max2(a,b):\n",
        "    if a>b :\n",
        "        return a\n",
        "    else:\n",
        "        return b\n",
        "x=input(\"enter no1\")\n",
        "y=input('enter no2')\n",
        "mx=max2(x,y)\n",
        "print(\"largest no is\", mx)"
      ],
      "metadata": {
        "id": "aRkF8bwTzZGX",
        "colab": {
          "base_uri": "https://localhost:8080/"
        },
        "outputId": "3fbd56e4-d0f9-4011-83a1-4a259ae9f250"
      },
      "execution_count": null,
      "outputs": [
        {
          "output_type": "stream",
          "name": "stdout",
          "text": [
            "enter no15\n",
            "enter no26\n",
            "largest no is 6\n"
          ]
        }
      ]
    },
    {
      "cell_type": "code",
      "source": [
        "# Returning Multiple values\n",
        "def swap(a,b):\n",
        "    return b,a\n",
        "\n",
        "x=input(\"enter no1\")\n",
        "y=input('enter no2')\n",
        "print(\"before swapping x=\",x,\" y=\",y)\n",
        "x,y=swap(x,y)\n",
        "print(\"after swapping x=\",x,\" b=\",y)"
      ],
      "metadata": {
        "id": "Ry8_Mj4BzdPn",
        "colab": {
          "base_uri": "https://localhost:8080/"
        },
        "outputId": "8af40cdc-b164-415a-c2c9-531dcb413c11"
      },
      "execution_count": null,
      "outputs": [
        {
          "output_type": "stream",
          "name": "stdout",
          "text": [
            "enter no15\n",
            "enter no27\n",
            "before swapping x= 5  y= 7\n",
            "after swapping x= 7  b= 5\n"
          ]
        }
      ]
    },
    {
      "cell_type": "code",
      "source": [
        "# Recursion - to find factorial of a number\n",
        "def fact(n):\n",
        "    if n==2:\n",
        "        return 2\n",
        "    return n*fact(n-1)\n",
        "\n",
        "f=fact(4)\n",
        "print(f)"
      ],
      "metadata": {
        "id": "8qQRT6CB0Tv8",
        "colab": {
          "base_uri": "https://localhost:8080/"
        },
        "outputId": "bca1b7fd-a477-4433-9ccf-44f88cc02207"
      },
      "execution_count": null,
      "outputs": [
        {
          "output_type": "stream",
          "name": "stdout",
          "text": [
            "24\n"
          ]
        }
      ]
    },
    {
      "cell_type": "markdown",
      "source": [
        "**Arguments**\n",
        "\n",
        "*   Formal Arguments/Parameters\n",
        "*   Actual Arguments/Parameters\n",
        "\n",
        "*Following types of arguments supported by functions*\n",
        "1.   Positional Arguments\n",
        "2.   Keyword/named Arguments\n",
        "3.   Default Arguments\n",
        "4.   Variable Length Arguments\n",
        "\n",
        ">*   function (farg,*args)\n",
        "*   function(**kwargs)\n",
        "\n"
      ],
      "metadata": {
        "id": "J5MYc2vhzlNV"
      }
    },
    {
      "cell_type": "code",
      "source": [
        "# Example of Positional Arguments\n",
        "def test(a,b,c,d):\n",
        "    print(a,b,c,d)\n",
        "test(1,2,3,4)"
      ],
      "metadata": {
        "id": "yoLj_XL4zgvD",
        "colab": {
          "base_uri": "https://localhost:8080/"
        },
        "outputId": "dca5833e-aec2-4311-91d5-b575ee7c5f6d"
      },
      "execution_count": null,
      "outputs": [
        {
          "output_type": "stream",
          "name": "stdout",
          "text": [
            "1 2 3 4\n"
          ]
        }
      ]
    },
    {
      "cell_type": "code",
      "source": [
        "# Example of Keyword Arguments\n",
        "def test(a,b,c,d):\n",
        "    print(a,b,c,d)\n",
        "test(d=1,b=2,a=3,c=4)"
      ],
      "metadata": {
        "id": "YrhTwvsi0bb_",
        "colab": {
          "base_uri": "https://localhost:8080/"
        },
        "outputId": "6a89b391-0bcf-400c-f90b-5aade518b7d1"
      },
      "execution_count": null,
      "outputs": [
        {
          "output_type": "stream",
          "name": "stdout",
          "text": [
            "3 2 4 1\n"
          ]
        }
      ]
    },
    {
      "cell_type": "code",
      "source": [
        "# Example of Default Arguments\n",
        "def test(a=40,b=30,c=20,d=10):\n",
        "    print(a,b,c,d)\n",
        "test()\n",
        "test(100)\n",
        "test(100,200)\n",
        "test(100,200,300)\n",
        "test(100,200,300,400)"
      ],
      "metadata": {
        "id": "RJLHwAXW0fja",
        "colab": {
          "base_uri": "https://localhost:8080/"
        },
        "outputId": "eb6a5aff-f3a6-4c42-e168-4bf9727f2a83"
      },
      "execution_count": null,
      "outputs": [
        {
          "output_type": "stream",
          "name": "stdout",
          "text": [
            "40 30 20 10\n",
            "100 30 20 10\n",
            "100 200 20 10\n",
            "100 200 300 10\n",
            "100 200 300 400\n"
          ]
        },
        {
          "output_type": "error",
          "ename": "TypeError",
          "evalue": "ignored",
          "traceback": [
            "\u001b[0;31m---------------------------------------------------------------------------\u001b[0m",
            "\u001b[0;31mTypeError\u001b[0m                                 Traceback (most recent call last)",
            "\u001b[0;32m<ipython-input-11-21ac8fd6c7b9>\u001b[0m in \u001b[0;36m<module>\u001b[0;34m()\u001b[0m\n\u001b[1;32m      7\u001b[0m \u001b[0mtest\u001b[0m\u001b[0;34m(\u001b[0m\u001b[0;36m100\u001b[0m\u001b[0;34m,\u001b[0m\u001b[0;36m200\u001b[0m\u001b[0;34m,\u001b[0m\u001b[0;36m300\u001b[0m\u001b[0;34m)\u001b[0m\u001b[0;34m\u001b[0m\u001b[0;34m\u001b[0m\u001b[0m\n\u001b[1;32m      8\u001b[0m \u001b[0mtest\u001b[0m\u001b[0;34m(\u001b[0m\u001b[0;36m100\u001b[0m\u001b[0;34m,\u001b[0m\u001b[0;36m200\u001b[0m\u001b[0;34m,\u001b[0m\u001b[0;36m300\u001b[0m\u001b[0;34m,\u001b[0m\u001b[0;36m400\u001b[0m\u001b[0;34m)\u001b[0m\u001b[0;34m\u001b[0m\u001b[0;34m\u001b[0m\u001b[0m\n\u001b[0;32m----> 9\u001b[0;31m \u001b[0mtest\u001b[0m\u001b[0;34m(\u001b[0m\u001b[0;36m100\u001b[0m\u001b[0;34m,\u001b[0m\u001b[0;36m200\u001b[0m\u001b[0;34m,\u001b[0m\u001b[0;36m300\u001b[0m\u001b[0;34m,\u001b[0m\u001b[0;36m400\u001b[0m\u001b[0;34m,\u001b[0m\u001b[0;36m6\u001b[0m\u001b[0;34m)\u001b[0m\u001b[0;34m\u001b[0m\u001b[0;34m\u001b[0m\u001b[0m\n\u001b[0m",
            "\u001b[0;31mTypeError\u001b[0m: test() takes from 0 to 4 positional arguments but 5 were given"
          ]
        }
      ]
    },
    {
      "cell_type": "code",
      "source": [
        "# Example of Varisble Length Argument\n",
        "def maximum(*args):\n",
        "    print(max(args))\n",
        "\n",
        "maximum(1)\n",
        "maximum(1,2)\n",
        "maximum(1,2,3,4,5,5)\n",
        "maximum(1,3,4,5,6,7,787,8,89,9,9,9,9,9,10)"
      ],
      "metadata": {
        "id": "cIE2tEUZ00xv",
        "colab": {
          "base_uri": "https://localhost:8080/"
        },
        "outputId": "4ad735f5-fdd6-4d4a-d5ad-b386a3c2b081"
      },
      "execution_count": null,
      "outputs": [
        {
          "output_type": "stream",
          "name": "stdout",
          "text": [
            "1\n",
            "2\n",
            "5\n",
            "787\n"
          ]
        }
      ]
    },
    {
      "cell_type": "code",
      "source": [
        "# Example of Keword variable length arguments\n",
        "def fun(**kwargs):\n",
        "    print(kwargs)\n",
        "fun(a='1')\n",
        "fun(a=2,b=5)\n",
        "fun(a=2,b=5,c=2,d=5)"
      ],
      "metadata": {
        "colab": {
          "base_uri": "https://localhost:8080/"
        },
        "id": "EjRD4NS905z8",
        "outputId": "15097c3a-8c7e-42b0-b776-e346d9d03c34"
      },
      "execution_count": null,
      "outputs": [
        {
          "output_type": "stream",
          "name": "stdout",
          "text": [
            "{'a': '1'}\n",
            "{'a': 2, 'b': 5}\n",
            "{'a': 2, 'b': 5, 'c': 2, 'd': 5}\n"
          ]
        }
      ]
    },
    {
      "cell_type": "markdown",
      "source": [
        "**Lambda Function (Anonymous Function)**\n"
      ],
      "metadata": {
        "id": "tWg5mLCc1nnp"
      }
    },
    {
      "cell_type": "code",
      "source": [
        "F=lambda a,b:a+b\n",
        "\n",
        "#call\n",
        "\n",
        "sum=F(10,20)\n",
        "\n",
        "print(sum)"
      ],
      "metadata": {
        "colab": {
          "base_uri": "https://localhost:8080/"
        },
        "id": "YCADGwbe1Pja",
        "outputId": "e793cff7-8a29-4a06-a0d5-b60a674b4711"
      },
      "execution_count": null,
      "outputs": [
        {
          "output_type": "stream",
          "name": "stdout",
          "text": [
            "30\n"
          ]
        }
      ]
    },
    {
      "cell_type": "markdown",
      "source": [
        "# **str - String**"
      ],
      "metadata": {
        "id": "VC0jY2kr17lS"
      }
    },
    {
      "cell_type": "markdown",
      "source": [
        "\n",
        "*   Str represents string datatype\n",
        "*   A String is collections/group of characters\n",
        "*   Strings are enclosed in ' ' or \" \" or ''' ''' or \"\"\"  \"\"\"\n",
        "*   The slice operator [] to access elements of string or substring\n",
        " \n",
        "\n",
        "\n",
        "\n"
      ],
      "metadata": {
        "id": "CYXZ8qLk2Blw"
      }
    },
    {
      "cell_type": "code",
      "source": [
        "s1='SVKM\\'s NMIMS MPSTME Shirpur, Dist-Dhule'\n",
        "print(type(s1))\n",
        "print(s1)"
      ],
      "metadata": {
        "id": "Q1yZvOOd14iO",
        "colab": {
          "base_uri": "https://localhost:8080/"
        },
        "outputId": "f191730b-9f40-406e-d2fa-8c965e82b1ab"
      },
      "execution_count": null,
      "outputs": [
        {
          "output_type": "stream",
          "name": "stdout",
          "text": [
            "<class 'str'>\n",
            "SVKM's NMIMS MPSTME Shirpur, Dist-Dhule\n"
          ]
        }
      ]
    },
    {
      "cell_type": "code",
      "source": [
        "s2=\"SVKM's NMIMS MPSTME Shirpur, Dist-Dhule\"\n",
        "print(type(s2),s2)"
      ],
      "metadata": {
        "colab": {
          "base_uri": "https://localhost:8080/"
        },
        "id": "3bzleKqFPXYv",
        "outputId": "048f1af9-8d63-4a46-f39c-ec2d7bf30c66"
      },
      "execution_count": null,
      "outputs": [
        {
          "output_type": "stream",
          "name": "stdout",
          "text": [
            "<class 'str'> SVKM's NMIMS MPSTME Shirpur, Dist-Dhule\n"
          ]
        }
      ]
    },
    {
      "cell_type": "code",
      "source": [
        "s3='''SVKM's NMIMS MPSTME Shirpur, \n",
        "Dist-Dhule'''\n",
        "print(type(s3),s3)"
      ],
      "metadata": {
        "colab": {
          "base_uri": "https://localhost:8080/"
        },
        "id": "ebtBeA5kPY9A",
        "outputId": "27fa93e1-e3ac-4a98-d46f-514fae01bdf0"
      },
      "execution_count": null,
      "outputs": [
        {
          "output_type": "stream",
          "name": "stdout",
          "text": [
            "<class 'str'> SVKM's NMIMS MPSTME Shirpur, \n",
            "Dist-Dhule\n"
          ]
        }
      ]
    },
    {
      "cell_type": "code",
      "source": [
        "s4=\"\"\"SVKM's NMIMS MPSTME Shirpur, \n",
        "Dist-Dhule\"\"\"\n",
        "print(type(s4),s4)"
      ],
      "metadata": {
        "colab": {
          "base_uri": "https://localhost:8080/"
        },
        "id": "CWxG_12cP8GS",
        "outputId": "001eb1fc-51ce-4d76-9e6d-0f4c5b445921"
      },
      "execution_count": null,
      "outputs": [
        {
          "output_type": "stream",
          "name": "stdout",
          "text": [
            "<class 'str'> SVKM's NMIMS MPSTME Shirpur, \n",
            "Dist-Dhule\n"
          ]
        }
      ]
    },
    {
      "cell_type": "code",
      "source": [
        "# Slicing Operator... to access string...\n",
        "str=\"Python Programming\"\n",
        "print(str[0])  # print char at 0\n",
        "print(str[-1]) # print char at -1, from RHS\n",
        "#[start:stop:step]\n",
        "print(str[1:5]) # print chars from 1 to 4 (5-1)\n",
        "print(str[:])  # print chars from 0 to end\n",
        "print(str[:6]) # print chars from 0 to 5\n",
        "print(str[5:]) # print chars from 5 to end\n",
        "print(str[::2]) # print every second chars from 0 to ends\n",
        "print(str[::-1]) # as step is -ve starts from RHS  --- reverse string\n",
        "print(str[1:9:2]) # print every second chars from 1 to 8\n",
        "print(str[-6:-1]) # What is output ???\n",
        "\n",
        "print(str*3) # Repeats the string 3 time\n",
        "\n",
        "str2= \" Language\"\n",
        "print(str + str2) # String Concatination\n",
        "\n",
        "#Note:- This slicing operators will also work with tuple and list...."
      ],
      "metadata": {
        "colab": {
          "base_uri": "https://localhost:8080/"
        },
        "id": "0QllxGS3QE8Q",
        "outputId": "8e9ac0de-724e-4f03-b51b-b0b2b08b955e"
      },
      "execution_count": null,
      "outputs": [
        {
          "output_type": "stream",
          "name": "stdout",
          "text": [
            "P\n",
            "g\n",
            "ytho\n",
            "Python Programming\n",
            "Python\n",
            "n Programming\n",
            "Pto rgamn\n",
            "gnimmargorP nohtyP\n",
            "yhnP\n",
            "ammin\n",
            "Python ProgrammingPython ProgrammingPython Programming\n",
            "Python Programming Language\n"
          ]
        }
      ]
    },
    {
      "cell_type": "markdown",
      "source": [
        "**len()**- finds the length of a string"
      ],
      "metadata": {
        "id": "dl6fWRShkSY7"
      }
    },
    {
      "cell_type": "code",
      "source": [
        "s=\"Python Programming\"\n",
        "print(len(s))"
      ],
      "metadata": {
        "id": "BWSCPe9lQq3w",
        "colab": {
          "base_uri": "https://localhost:8080/"
        },
        "outputId": "f8d3a106-eaa7-4d88-d114-89cc0269924b"
      },
      "execution_count": null,
      "outputs": [
        {
          "output_type": "stream",
          "name": "stdout",
          "text": [
            "18\n"
          ]
        }
      ]
    },
    {
      "cell_type": "markdown",
      "source": [
        "**Removing Spaces From String**\n",
        "*   strip() - Removes spaces from both side\n",
        "*   rstrip() - Removes spaces at right side\n",
        "*   strip() - Removes spaces from left side"
      ],
      "metadata": {
        "id": "lqZ3C6rskqw9"
      }
    },
    {
      "cell_type": "code",
      "source": [
        "#\n",
        "s=\"  Mugdha  \"\n",
        "print(s.lstrip()+'_')\n",
        "print(s.rstrip())\n",
        "print(s.strip())"
      ],
      "metadata": {
        "id": "811bZPv3R_qr",
        "colab": {
          "base_uri": "https://localhost:8080/"
        },
        "outputId": "0acb4cfa-1fcc-4f8d-d470-9d2f394c8270"
      },
      "execution_count": null,
      "outputs": [
        {
          "output_type": "stream",
          "name": "stdout",
          "text": [
            "Mugdha  _\n",
            "  Mugdha\n",
            "Mugdha\n"
          ]
        }
      ]
    },
    {
      "cell_type": "code",
      "source": [
        "#"
      ],
      "metadata": {
        "id": "QXc485hhSALU"
      },
      "execution_count": null,
      "outputs": []
    },
    {
      "cell_type": "markdown",
      "source": [
        "**Finding Sub String**\n",
        "*   find() - find the substring from L to R and returns index position if found and returns -1 if not found...\n",
        "*   rfind() - find the substring from R to L.\n",
        "*   index() - returs the position of substring from L to R.  \n",
        "*   rindex() - searches from R to L\n",
        "\n",
        "\n",
        "\n"
      ],
      "metadata": {
        "id": "xtEdIc0HmW9V"
      }
    },
    {
      "cell_type": "code",
      "source": [
        "s=\"Mukesh Patel School of Technology Management and Engineering Shirpur\"\n",
        "f=s.find('M') # Returns 0\n",
        "print(f)\n",
        "i=s.index('M') # Returns 0\n",
        "print(i)\n",
        "fr=s.rfind('M') # Returns 34 - search from right and count from left side\n",
        "print(fr)\n",
        "ir=s.rindex('M') # Returns 34 - search from right and count from left side\n",
        "print(ir)\n",
        "'''\n",
        "fz=s.find('Z') # Returns -1\n",
        "print(fz)\n",
        "iz=s.index('Z') # Throws Exception:- ValueError\n",
        "print(iz)\n",
        "'''"
      ],
      "metadata": {
        "id": "YGJBI3qGSAjY",
        "colab": {
          "base_uri": "https://localhost:8080/"
        },
        "outputId": "47c93988-3d6e-461b-f1dd-d52ba8aa1a83"
      },
      "execution_count": null,
      "outputs": [
        {
          "output_type": "stream",
          "name": "stdout",
          "text": [
            "0\n",
            "0\n",
            "34\n",
            "34\n",
            "-1\n",
            "0\n"
          ]
        }
      ]
    },
    {
      "cell_type": "code",
      "source": [
        "# Uncomment and Run..\n",
        "# It searches sub from beginning to end.\n",
        "#s.find('Ma',0,len(s))"
      ],
      "metadata": {
        "id": "mXGG-PIUSDqc",
        "colab": {
          "base_uri": "https://localhost:8080/"
        },
        "outputId": "89dbeaa1-e9ef-4296-9b4a-43752b945d36"
      },
      "execution_count": null,
      "outputs": [
        {
          "output_type": "execute_result",
          "data": {
            "text/plain": [
              "-1"
            ]
          },
          "metadata": {},
          "execution_count": 20
        }
      ]
    },
    {
      "cell_type": "code",
      "source": [
        "# Uncomment and Run..\n",
        "# It searches sub from beginning to end-10\n",
        "#s.index('Man',0,len(s)-10)"
      ],
      "metadata": {
        "id": "IztX7a2Zpycc"
      },
      "execution_count": null,
      "outputs": []
    },
    {
      "cell_type": "markdown",
      "source": [
        "**capitalize( )** - Convert first character to upper case"
      ],
      "metadata": {
        "id": "SaVyr5CPrVYj"
      }
    },
    {
      "cell_type": "code",
      "source": [
        "s='mugdha'\n",
        "m=s.capitalize( )\n",
        "print(m)"
      ],
      "metadata": {
        "colab": {
          "base_uri": "https://localhost:8080/"
        },
        "id": "cqetkaUGpygV",
        "outputId": "c1e0c540-61f7-43af-bfac-ef2753faa089"
      },
      "execution_count": null,
      "outputs": [
        {
          "output_type": "stream",
          "name": "stdout",
          "text": [
            "Mugdha\n"
          ]
        }
      ]
    },
    {
      "cell_type": "markdown",
      "source": [
        "**count()** - returns the number of times a substring  occurs in a string"
      ],
      "metadata": {
        "id": "xJ-oPVjur2yF"
      }
    },
    {
      "cell_type": "code",
      "source": [
        "s=\"Dhananjay Joshi\"\n",
        "c=s.count('an')\n",
        "print(c)"
      ],
      "metadata": {
        "colab": {
          "base_uri": "https://localhost:8080/"
        },
        "id": "l1lUT8kjpykt",
        "outputId": "a37d481e-5fee-4cf2-d501-b8b1a7dc5a9e"
      },
      "execution_count": null,
      "outputs": [
        {
          "output_type": "stream",
          "name": "stdout",
          "text": [
            "2\n"
          ]
        }
      ]
    },
    {
      "cell_type": "markdown",
      "source": [
        "**replace('old','new')**  "
      ],
      "metadata": {
        "id": "5xfxPuScse1j"
      }
    },
    {
      "cell_type": "code",
      "source": [
        "s='Paranjay'\n",
        "r=s.replace('Par','Dhan')\n",
        "print(r)"
      ],
      "metadata": {
        "colab": {
          "base_uri": "https://localhost:8080/"
        },
        "id": "9SX8xTcZpyo6",
        "outputId": "3e047b5d-f4f7-42e2-e2d3-63fcdf17ddc6"
      },
      "execution_count": null,
      "outputs": [
        {
          "output_type": "stream",
          "name": "stdout",
          "text": [
            "Dhananjay\n"
          ]
        }
      ]
    },
    {
      "cell_type": "markdown",
      "source": [
        "**split('dltmr')**"
      ],
      "metadata": {
        "id": "i4dEh402s-x3"
      }
    },
    {
      "cell_type": "code",
      "source": [
        "s=\"Python For Begineers Session 2\"\n",
        "s.split(' ') # splitting using =' '"
      ],
      "metadata": {
        "colab": {
          "base_uri": "https://localhost:8080/"
        },
        "id": "Gt0PkJ6Ns7Xf",
        "outputId": "1b1cb56c-af20-47c2-dfca-27f5e7ce8305"
      },
      "execution_count": null,
      "outputs": [
        {
          "output_type": "execute_result",
          "data": {
            "text/plain": [
              "['Python', 'For', 'Begineers', 'Session', '2']"
            ]
          },
          "metadata": {},
          "execution_count": 89
        }
      ]
    },
    {
      "cell_type": "markdown",
      "source": [
        "**lower( ),upper( ), swapcase( ), title( )**\n",
        "\n"
      ],
      "metadata": {
        "id": "7UgJjOkJwnU_"
      }
    },
    {
      "cell_type": "code",
      "source": [
        "print(s.lower())\n",
        "print(s.upper())\n",
        "print(s.swapcase())\n",
        "print(s.title())"
      ],
      "metadata": {
        "colab": {
          "base_uri": "https://localhost:8080/"
        },
        "id": "cEKiICtis7lF",
        "outputId": "2bf250ec-be75-4bc6-9b1d-a2e7c27f930f"
      },
      "execution_count": null,
      "outputs": [
        {
          "output_type": "stream",
          "name": "stdout",
          "text": [
            "python for begineers session 2\n",
            "PYTHON FOR BEGINEERS SESSION 2\n",
            "pYTHON fOR bEGINEERS sESSION 2\n",
            "Python For Begineers Session 2\n"
          ]
        }
      ]
    },
    {
      "cell_type": "code",
      "source": [
        "# Traversing String uing For loop\n",
        "s=\"Python\"\n",
        "for e in s:\n",
        "    print(e)"
      ],
      "metadata": {
        "id": "gcHJwIrys7wP",
        "colab": {
          "base_uri": "https://localhost:8080/"
        },
        "outputId": "dc728acc-a020-417f-fc5a-de524b3fb506"
      },
      "execution_count": null,
      "outputs": [
        {
          "output_type": "stream",
          "name": "stdout",
          "text": [
            "P\n",
            "y\n",
            "t\n",
            "h\n",
            "o\n",
            "n\n"
          ]
        }
      ]
    },
    {
      "cell_type": "code",
      "source": [
        "# Traverstng String using while loop\n",
        "s=\"Python\"\n",
        "i=0\n",
        "while i<len(s):\n",
        "    print(s[i])\n",
        "    i+=1"
      ],
      "metadata": {
        "id": "2PVbC9Imx251",
        "colab": {
          "base_uri": "https://localhost:8080/"
        },
        "outputId": "21dd4e9f-b63f-4b60-f188-e248a4d575b0"
      },
      "execution_count": null,
      "outputs": [
        {
          "output_type": "stream",
          "name": "stdout",
          "text": [
            "P\n",
            "y\n",
            "t\n",
            "h\n",
            "o\n",
            "n\n"
          ]
        }
      ]
    },
    {
      "cell_type": "markdown",
      "source": [
        "# **Range Datatype** "
      ],
      "metadata": {
        "id": "kDZ0jqWWV4tE"
      }
    },
    {
      "cell_type": "markdown",
      "source": [
        "*   It represnts a sequence of numbers\n",
        "*   The numbers in the range are not modifiable.\n",
        "*   Generally it is used in for loop.\n",
        "\n",
        "\n"
      ],
      "metadata": {
        "id": "Yc8XbS4zWAh7"
      }
    },
    {
      "cell_type": "code",
      "source": [
        "range(10)"
      ],
      "metadata": {
        "colab": {
          "base_uri": "https://localhost:8080/"
        },
        "id": "RYezSaiCWaLF",
        "outputId": "d47ac4ae-a870-464d-bbd2-f67126f1a3b6"
      },
      "execution_count": null,
      "outputs": [
        {
          "output_type": "execute_result",
          "data": {
            "text/plain": [
              "range(0, 10)"
            ]
          },
          "metadata": {},
          "execution_count": 23
        }
      ]
    },
    {
      "cell_type": "code",
      "source": [
        "range(1,10)"
      ],
      "metadata": {
        "id": "RkKAnquMWrp9",
        "colab": {
          "base_uri": "https://localhost:8080/"
        },
        "outputId": "ea689565-90f9-44e1-c950-e67417c3b51e"
      },
      "execution_count": null,
      "outputs": [
        {
          "output_type": "execute_result",
          "data": {
            "text/plain": [
              "range(1, 10)"
            ]
          },
          "metadata": {},
          "execution_count": 24
        }
      ]
    },
    {
      "cell_type": "code",
      "source": [
        "r=range(1,10,2)"
      ],
      "metadata": {
        "id": "BaT_lrpwWuZK"
      },
      "execution_count": null,
      "outputs": []
    },
    {
      "cell_type": "code",
      "source": [
        "#a=list(range(10))\n",
        "#a"
      ],
      "metadata": {
        "id": "wlTbC4lOWr4J"
      },
      "execution_count": null,
      "outputs": []
    },
    {
      "cell_type": "markdown",
      "source": [
        "# **List Datatype**"
      ],
      "metadata": {
        "id": "EYfPhRqZSEkZ"
      }
    },
    {
      "cell_type": "markdown",
      "source": [
        "*   Similar to arrays in C/C++/Java [array is homogeneous]\n",
        "*   List is a group of hetrogeneous elements\n",
        "*   List can grow dynamically in memoery\n",
        "*   List is represented as [ ] and elements are seperated with commas.\n"
      ],
      "metadata": {
        "id": "SCiPxjrqSM7I"
      }
    },
    {
      "cell_type": "code",
      "source": [
        "# Example...\n",
        "list=[10,20,\"Shirpur\",40.2, \"Dhananjay\"]"
      ],
      "metadata": {
        "id": "2NrPq-uISLQu"
      },
      "execution_count": null,
      "outputs": []
    },
    {
      "cell_type": "code",
      "source": [
        "print(list)"
      ],
      "metadata": {
        "colab": {
          "base_uri": "https://localhost:8080/"
        },
        "id": "f3XCgdlLTIji",
        "outputId": "b5de2ab6-885a-41f3-81f2-1a5fc5f4727c"
      },
      "execution_count": null,
      "outputs": [
        {
          "output_type": "stream",
          "name": "stdout",
          "text": [
            "[10, 20, 'Shirpur', 40.2, 'Dhananjay']\n"
          ]
        }
      ]
    },
    {
      "cell_type": "code",
      "source": [
        "# to know type of the list\n",
        "type(list)"
      ],
      "metadata": {
        "colab": {
          "base_uri": "https://localhost:8080/"
        },
        "id": "U-M7n3w_TK4d",
        "outputId": "6312aee0-fb86-4399-a3ea-0ece855169c2"
      },
      "execution_count": null,
      "outputs": [
        {
          "output_type": "execute_result",
          "data": {
            "text/plain": [
              "list"
            ]
          },
          "metadata": {},
          "execution_count": 29
        }
      ]
    },
    {
      "cell_type": "markdown",
      "source": [
        "\n",
        "1.  **List is mutable - modication is possible.** "
      ],
      "metadata": {
        "id": "PZVVjySNUPfh"
      }
    },
    {
      "cell_type": "code",
      "source": [
        "list[4]='Shalvi'"
      ],
      "metadata": {
        "id": "PdeOUdKOTOWD"
      },
      "execution_count": null,
      "outputs": []
    },
    {
      "cell_type": "code",
      "source": [
        "print(list)"
      ],
      "metadata": {
        "colab": {
          "base_uri": "https://localhost:8080/"
        },
        "id": "j1j423ufTXPe",
        "outputId": "3da770ff-b904-4405-d679-69ef3d69ad06"
      },
      "execution_count": null,
      "outputs": [
        {
          "output_type": "stream",
          "name": "stdout",
          "text": [
            "[10, 20, 'Shirpur', 40.2, 'Shalvi']\n"
          ]
        }
      ]
    },
    {
      "cell_type": "code",
      "source": [
        "list[-4:-1]"
      ],
      "metadata": {
        "colab": {
          "base_uri": "https://localhost:8080/"
        },
        "id": "Zbl8hjjLTXxL",
        "outputId": "3bf3a110-49ce-435f-ec91-e0e8001cc91c"
      },
      "execution_count": null,
      "outputs": [
        {
          "output_type": "execute_result",
          "data": {
            "text/plain": [
              "[20, 'Shirpur', 40.2]"
            ]
          },
          "metadata": {},
          "execution_count": 32
        }
      ]
    },
    {
      "cell_type": "markdown",
      "source": [
        "**Creating Empty List**"
      ],
      "metadata": {
        "id": "Sd4n678uyT4T"
      }
    },
    {
      "cell_type": "code",
      "source": [
        "lst=[]"
      ],
      "metadata": {
        "id": "Rksorj_rTYHo"
      },
      "execution_count": null,
      "outputs": []
    },
    {
      "cell_type": "code",
      "source": [
        "lst=list()"
      ],
      "metadata": {
        "id": "3mGcaHB3yawK",
        "colab": {
          "base_uri": "https://localhost:8080/",
          "height": 166
        },
        "outputId": "4642774b-0838-4c89-a8e3-31972308a5ae"
      },
      "execution_count": null,
      "outputs": [
        {
          "output_type": "error",
          "ename": "TypeError",
          "evalue": "ignored",
          "traceback": [
            "\u001b[0;31m---------------------------------------------------------------------------\u001b[0m",
            "\u001b[0;31mTypeError\u001b[0m                                 Traceback (most recent call last)",
            "\u001b[0;32m<ipython-input-34-470af18460c0>\u001b[0m in \u001b[0;36m<module>\u001b[0;34m()\u001b[0m\n\u001b[0;32m----> 1\u001b[0;31m \u001b[0mlst\u001b[0m\u001b[0;34m=\u001b[0m\u001b[0mlist\u001b[0m\u001b[0;34m(\u001b[0m\u001b[0;34m)\u001b[0m\u001b[0;34m\u001b[0m\u001b[0;34m\u001b[0m\u001b[0m\n\u001b[0m",
            "\u001b[0;31mTypeError\u001b[0m: 'list' object is not callable"
          ]
        }
      ]
    },
    {
      "cell_type": "markdown",
      "source": [
        "**Creating List Using Range()** "
      ],
      "metadata": {
        "id": "7hw1-z6kyeM4"
      }
    },
    {
      "cell_type": "code",
      "source": [
        "a=list(range(10))\n",
        "a"
      ],
      "metadata": {
        "id": "NlZIvQQsyvM8",
        "colab": {
          "base_uri": "https://localhost:8080/",
          "height": 183
        },
        "outputId": "3e0c4505-6558-4c89-a946-60f41510cfdc"
      },
      "execution_count": null,
      "outputs": [
        {
          "output_type": "error",
          "ename": "TypeError",
          "evalue": "ignored",
          "traceback": [
            "\u001b[0;31m---------------------------------------------------------------------------\u001b[0m",
            "\u001b[0;31mTypeError\u001b[0m                                 Traceback (most recent call last)",
            "\u001b[0;32m<ipython-input-35-7063dc58517f>\u001b[0m in \u001b[0;36m<module>\u001b[0;34m()\u001b[0m\n\u001b[0;32m----> 1\u001b[0;31m \u001b[0ma\u001b[0m\u001b[0;34m=\u001b[0m\u001b[0mlist\u001b[0m\u001b[0;34m(\u001b[0m\u001b[0mrange\u001b[0m\u001b[0;34m(\u001b[0m\u001b[0;36m10\u001b[0m\u001b[0;34m)\u001b[0m\u001b[0;34m)\u001b[0m\u001b[0;34m\u001b[0m\u001b[0;34m\u001b[0m\u001b[0m\n\u001b[0m\u001b[1;32m      2\u001b[0m \u001b[0ma\u001b[0m\u001b[0;34m\u001b[0m\u001b[0;34m\u001b[0m\u001b[0m\n",
            "\u001b[0;31mTypeError\u001b[0m: 'list' object is not callable"
          ]
        }
      ]
    },
    {
      "cell_type": "markdown",
      "source": [
        "**Accessing List elements/Items**"
      ],
      "metadata": {
        "id": "TpxrOJiDyfzC"
      }
    },
    {
      "cell_type": "code",
      "source": [
        "lst=[1,2,3,4,5]\n",
        "print(lst[0])\n",
        "# refer slicing operations applied on string"
      ],
      "metadata": {
        "colab": {
          "base_uri": "https://localhost:8080/"
        },
        "id": "gUeVHnfCzPxe",
        "outputId": "18f66944-5f50-4c75-bb68-c3d8ded4c138"
      },
      "execution_count": null,
      "outputs": [
        {
          "output_type": "stream",
          "name": "stdout",
          "text": [
            "1\n"
          ]
        }
      ]
    },
    {
      "cell_type": "markdown",
      "source": [
        "**Updating List elements/Items**"
      ],
      "metadata": {
        "id": "xn3ChA2_znPZ"
      }
    },
    {
      "cell_type": "code",
      "source": [
        "lst[1]=50\n",
        "print(lst)\n",
        "\n",
        "# Homework:- try for its various possibilites using slicing operator..."
      ],
      "metadata": {
        "colab": {
          "base_uri": "https://localhost:8080/"
        },
        "id": "U0XnyTwUzQif",
        "outputId": "c3936464-6b90-4518-ea5f-a22e654afcba"
      },
      "execution_count": null,
      "outputs": [
        {
          "output_type": "stream",
          "name": "stdout",
          "text": [
            "[1, 50, 3, 4, 5]\n"
          ]
        }
      ]
    },
    {
      "cell_type": "markdown",
      "source": [
        "**append( )**\n",
        "*   append(item) - can append one item\n",
        "*   append(sequence) - Can also append another sequence\n",
        "\n"
      ],
      "metadata": {
        "id": "NSZay7ri0N76"
      }
    },
    {
      "cell_type": "code",
      "source": [
        "lst1=[1,2,3,4] \n",
        "lst1.append(5)\n",
        "print(lst1)"
      ],
      "metadata": {
        "colab": {
          "base_uri": "https://localhost:8080/"
        },
        "id": "qxM2mQxqzQlw",
        "outputId": "2f88ebb7-6d63-4e41-8396-e2af87cbc421"
      },
      "execution_count": null,
      "outputs": [
        {
          "output_type": "stream",
          "name": "stdout",
          "text": [
            "[1, 2, 3, 4, 5]\n"
          ]
        }
      ]
    },
    {
      "cell_type": "code",
      "source": [
        "lst2=(6,7,8,9)\n",
        "lst1.append(lst2)\n",
        "print(lst1)"
      ],
      "metadata": {
        "colab": {
          "base_uri": "https://localhost:8080/"
        },
        "id": "zNeO0Ea0zQtw",
        "outputId": "9be9036f-e582-475b-a0d5-c37467be23db"
      },
      "execution_count": null,
      "outputs": [
        {
          "output_type": "stream",
          "name": "stdout",
          "text": [
            "[1, 2, 3, 4, 5, [6, 7, 8, 9], (6, 7, 8, 9)]\n"
          ]
        }
      ]
    },
    {
      "cell_type": "markdown",
      "source": [
        "**insert()**\n",
        "\n",
        "*   insert(index,object)\n",
        "\n"
      ],
      "metadata": {
        "id": "Uuwi8FHJ1Hlp"
      }
    },
    {
      "cell_type": "code",
      "source": [
        "lst1=[1,2,3,4] \n",
        "lst1.insert(2,5)\n",
        "print(lst1)"
      ],
      "metadata": {
        "colab": {
          "base_uri": "https://localhost:8080/"
        },
        "id": "0WaPhJsh1YOu",
        "outputId": "45a94197-5670-45ea-c248-216fade72dbe"
      },
      "execution_count": null,
      "outputs": [
        {
          "output_type": "stream",
          "name": "stdout",
          "text": [
            "[1, 2, 5, 3, 4]\n"
          ]
        }
      ]
    },
    {
      "cell_type": "markdown",
      "source": [
        "**extend( )**\n",
        "*   extend(object)\n",
        "\n"
      ],
      "metadata": {
        "id": "QV5R8NPy14vc"
      }
    },
    {
      "cell_type": "code",
      "source": [
        "lst1=[1,2,3,4]\n",
        "t1=(1,2,3)\n",
        "lst1.extend(t1)\n",
        "print(lst1)"
      ],
      "metadata": {
        "colab": {
          "base_uri": "https://localhost:8080/"
        },
        "id": "H01QJ9ZC2r7D",
        "outputId": "952fec0c-09c0-4eb5-a69a-d23f452ae09b"
      },
      "execution_count": null,
      "outputs": [
        {
          "output_type": "stream",
          "name": "stdout",
          "text": [
            "[1, 2, 3, 4, 1, 2, 3]\n"
          ]
        }
      ]
    },
    {
      "cell_type": "markdown",
      "source": [
        "**Removing List Items**\n",
        "*   remove(item)\n",
        "*   pop()\n",
        "*   pop(index)\n",
        "*   clear()\n",
        "*   del keyword\n",
        ">*   del list[0] - delete element at 0\n",
        ">*   del list  - delete the list completly"
      ],
      "metadata": {
        "id": "VtU9yO0A9osH"
      }
    },
    {
      "cell_type": "code",
      "source": [
        "frt=[\"apple\",\"Banana\",\"Mango\"]\n",
        "frt.remove('Banana')\n",
        "frt"
      ],
      "metadata": {
        "id": "meCIRdO49z5J"
      },
      "execution_count": null,
      "outputs": []
    },
    {
      "cell_type": "code",
      "source": [
        "frt=[\"apple\",\"Banana\",\"Mango\"]\n",
        "frt.pop()\n",
        "frt"
      ],
      "metadata": {
        "id": "C1A0fPV691i1"
      },
      "execution_count": null,
      "outputs": []
    },
    {
      "cell_type": "code",
      "source": [
        "frt=[\"apple\",\"Banana\",\"Mango\"]\n",
        "frt.pop(1)\n",
        "frt"
      ],
      "metadata": {
        "id": "6PPF5nWC91lt"
      },
      "execution_count": null,
      "outputs": []
    },
    {
      "cell_type": "code",
      "source": [
        "frt=[\"apple\",\"Banana\",\"Mango\"]\n",
        "frt.clear()\n",
        "frt"
      ],
      "metadata": {
        "id": "3kFw-Tse91oP"
      },
      "execution_count": null,
      "outputs": []
    },
    {
      "cell_type": "code",
      "source": [
        "frt=[\"apple\",\"Banana\",\"Mango\"]\n",
        "del frt[0]\n",
        "frt"
      ],
      "metadata": {
        "id": "0aREF0iP91tJ"
      },
      "execution_count": null,
      "outputs": []
    },
    {
      "cell_type": "code",
      "source": [
        "frt=[\"apple\",\"Banana\",\"Mango\"]\n",
        "del frt\n",
        "#frt"
      ],
      "metadata": {
        "id": "kLoaW3eS-Ef2"
      },
      "execution_count": null,
      "outputs": []
    },
    {
      "cell_type": "code",
      "source": [
        ""
      ],
      "metadata": {
        "id": "FWZXTPxu-IsK"
      },
      "execution_count": null,
      "outputs": []
    },
    {
      "cell_type": "markdown",
      "source": [
        "**sort()** - Sorts the elements in ascending order\n",
        "*   Ex.\n",
        ">*   list.sort()\n",
        "\n",
        "**sort(reverse=True)** - Sorts the elements in dscending order\n",
        "*   Ex.\n",
        ">*   list.sort(reverse=True)\n",
        "\n",
        "**reverse()** - Reverse the order of the list.\n",
        "*   Ex.\n",
        ">*   list.reverse()"
      ],
      "metadata": {
        "id": "M5KM3sgN-U5r"
      }
    },
    {
      "cell_type": "markdown",
      "source": [
        "**count()** \n",
        "*   list.count(x)\n",
        "\n",
        "**copy()** \n",
        "*   list2=list1.count()"
      ],
      "metadata": {
        "id": "51-CE89v-bSu"
      }
    },
    {
      "cell_type": "markdown",
      "source": [
        "**Nested List**\n",
        "*   List with in a list."
      ],
      "metadata": {
        "id": "xVYhLJ9s-jDq"
      }
    },
    {
      "cell_type": "code",
      "source": [
        "lst=[[1,2,3],[1,2,4]]\n",
        "lst"
      ],
      "metadata": {
        "colab": {
          "base_uri": "https://localhost:8080/"
        },
        "id": "rEiKqgm6-IvD",
        "outputId": "34fd4ea8-71d0-4408-c165-1a778eeda373"
      },
      "execution_count": null,
      "outputs": [
        {
          "output_type": "execute_result",
          "data": {
            "text/plain": [
              "[[1, 2, 3], [1, 2, 4]]"
            ]
          },
          "metadata": {},
          "execution_count": 127
        }
      ]
    },
    {
      "cell_type": "markdown",
      "source": [
        "**Traversing List using Loop**"
      ],
      "metadata": {
        "id": "tJkpRlzA-uQU"
      }
    },
    {
      "cell_type": "code",
      "source": [
        ""
      ],
      "metadata": {
        "id": "qxGjgEKZ-2ss"
      },
      "execution_count": null,
      "outputs": []
    },
    {
      "cell_type": "code",
      "source": [
        "# For Loop\n"
      ],
      "metadata": {
        "id": "cRK57JNK-2jN"
      },
      "execution_count": null,
      "outputs": []
    },
    {
      "cell_type": "code",
      "source": [
        "# While Loop"
      ],
      "metadata": {
        "id": "pLHKJyIG-4yR"
      },
      "execution_count": null,
      "outputs": []
    },
    {
      "cell_type": "code",
      "source": [
        "# Print it in matrix form.\n",
        "lst=[[1,2,3],[1,2,4]]\n",
        "lst\n",
        "for sub in lst:\n",
        "    for e in sub:\n",
        "        print(e,end=' ')\n",
        "    print()\n",
        "print() "
      ],
      "metadata": {
        "colab": {
          "base_uri": "https://localhost:8080/"
        },
        "id": "jIPMSBwy-Iym",
        "outputId": "4de6d46d-accc-4623-a5a2-b3eb7531f1d0"
      },
      "execution_count": null,
      "outputs": [
        {
          "output_type": "stream",
          "name": "stdout",
          "text": [
            "1 2 3 \n",
            "1 2 4 \n",
            "\n"
          ]
        }
      ]
    },
    {
      "cell_type": "markdown",
      "source": [
        "# **tuple Datatype**"
      ],
      "metadata": {
        "id": "PnH8cUDKTZYV"
      }
    },
    {
      "cell_type": "markdown",
      "source": [
        "*   Tuple is similar to list, only diffrence is it is immutable(Not possible to modify)\n",
        "*   Represented in () \n",
        "\n"
      ],
      "metadata": {
        "id": "XMbqFqyIToWD"
      }
    },
    {
      "cell_type": "code",
      "source": [
        "# Example...\n",
        "tpl=(10,20,\"Shirpur\",40.2, \"Dhananjay\")"
      ],
      "metadata": {
        "id": "HXZlD7q6TYgu"
      },
      "execution_count": null,
      "outputs": []
    },
    {
      "cell_type": "code",
      "source": [
        "type(tpl)"
      ],
      "metadata": {
        "colab": {
          "base_uri": "https://localhost:8080/"
        },
        "id": "kWYT4KSrUEG3",
        "outputId": "d21b9195-13e2-4cce-85ef-246dd8d332ca"
      },
      "execution_count": null,
      "outputs": [
        {
          "output_type": "execute_result",
          "data": {
            "text/plain": [
              "tuple"
            ]
          },
          "metadata": {},
          "execution_count": 31
        }
      ]
    },
    {
      "cell_type": "code",
      "source": [
        "print(tpl)"
      ],
      "metadata": {
        "colab": {
          "base_uri": "https://localhost:8080/"
        },
        "id": "kjUTIw-CUKVr",
        "outputId": "089d7662-5967-4da2-8e17-8c8e42e1e23c"
      },
      "execution_count": null,
      "outputs": [
        {
          "output_type": "stream",
          "name": "stdout",
          "text": [
            "(10, 20, 'Shirpur', 40.2, 'Dhananjay')\n"
          ]
        }
      ]
    },
    {
      "cell_type": "markdown",
      "source": [
        "**tuples are immutable - modification is not possible**"
      ],
      "metadata": {
        "id": "qwHkMmNGUzn9"
      }
    },
    {
      "cell_type": "code",
      "source": [
        "# Error as we are modifying tuple...\n",
        "tpl[4]='Mugdha'"
      ],
      "metadata": {
        "id": "ZaL5uaYJUL6O",
        "colab": {
          "base_uri": "https://localhost:8080/",
          "height": 183
        },
        "outputId": "ab816dd9-278f-4796-8bc1-493146751bc1"
      },
      "execution_count": null,
      "outputs": [
        {
          "output_type": "error",
          "ename": "TypeError",
          "evalue": "ignored",
          "traceback": [
            "\u001b[0;31m---------------------------------------------------------------------------\u001b[0m",
            "\u001b[0;31mTypeError\u001b[0m                                 Traceback (most recent call last)",
            "\u001b[0;32m<ipython-input-38-513e889d175e>\u001b[0m in \u001b[0;36m<module>\u001b[0;34m()\u001b[0m\n\u001b[1;32m      1\u001b[0m \u001b[0;31m# Error as we are modifying tuple...\u001b[0m\u001b[0;34m\u001b[0m\u001b[0;34m\u001b[0m\u001b[0;34m\u001b[0m\u001b[0m\n\u001b[0;32m----> 2\u001b[0;31m \u001b[0mtpl\u001b[0m\u001b[0;34m[\u001b[0m\u001b[0;36m4\u001b[0m\u001b[0;34m]\u001b[0m\u001b[0;34m=\u001b[0m\u001b[0;34m'Mugdha'\u001b[0m\u001b[0;34m\u001b[0m\u001b[0;34m\u001b[0m\u001b[0m\n\u001b[0m",
            "\u001b[0;31mTypeError\u001b[0m: 'tuple' object does not support item assignment"
          ]
        }
      ]
    },
    {
      "cell_type": "code",
      "source": [
        "tpl[0:3]\n",
        "#.. Refer slicing operations perfromed on string to access tuple "
      ],
      "metadata": {
        "colab": {
          "base_uri": "https://localhost:8080/"
        },
        "id": "6VHjEGwqU_YO",
        "outputId": "c301825d-1e66-429d-e975-76452af84542"
      },
      "execution_count": null,
      "outputs": [
        {
          "output_type": "execute_result",
          "data": {
            "text/plain": [
              "(10, 20, 'Shirpur')"
            ]
          },
          "metadata": {},
          "execution_count": 38
        }
      ]
    },
    {
      "cell_type": "code",
      "source": [
        "# Emplty Tuple\n",
        "t=()\n",
        "t=tuple()"
      ],
      "metadata": {
        "id": "yGlISepI6nGP"
      },
      "execution_count": null,
      "outputs": []
    },
    {
      "cell_type": "code",
      "source": [
        "#tuple with only one element\n",
        "t=(1,)\n",
        "t"
      ],
      "metadata": {
        "colab": {
          "base_uri": "https://localhost:8080/"
        },
        "id": "VHZeNqgL8uqU",
        "outputId": "906525cc-1f6e-40e3-e02a-e806fbaeff81"
      },
      "execution_count": null,
      "outputs": [
        {
          "output_type": "execute_result",
          "data": {
            "text/plain": [
              "(1,)"
            ]
          },
          "metadata": {},
          "execution_count": 131
        }
      ]
    },
    {
      "cell_type": "code",
      "source": [
        "# concatination Operation\n",
        "t1=(1,2)\n",
        "t2=(3,4)\n",
        "print(t1+t2)"
      ],
      "metadata": {
        "colab": {
          "base_uri": "https://localhost:8080/"
        },
        "id": "cXS5FelL_hvg",
        "outputId": "f8fb5af1-b85f-4519-da3f-cda2c675ca13"
      },
      "execution_count": null,
      "outputs": [
        {
          "output_type": "stream",
          "name": "stdout",
          "text": [
            "(1, 2, 3, 4)\n"
          ]
        }
      ]
    },
    {
      "cell_type": "code",
      "source": [
        "# repetation\n",
        "print(t1*2)"
      ],
      "metadata": {
        "colab": {
          "base_uri": "https://localhost:8080/"
        },
        "id": "ZcFc21Ba_pAV",
        "outputId": "0df2b43c-819c-415a-aeb3-34e192de17a9"
      },
      "execution_count": null,
      "outputs": [
        {
          "output_type": "stream",
          "name": "stdout",
          "text": [
            "(1, 2, 1, 2)\n"
          ]
        }
      ]
    },
    {
      "cell_type": "markdown",
      "source": [
        "**Operations on Tuples**\n",
        "\n",
        "\n",
        "*   len(tuple)\n",
        "*   tuple.count(x)\n",
        "*   tuple.index(x)\n",
        "*   min(tuple)\n",
        "*   max(tuple)\n",
        "*   del tuple\n",
        "\n",
        "**How to delete or inseet element in tuple??** \n",
        "*   convert tuple to list\n",
        "*   perform operations on list\n",
        "*   Convert list to tuple"
      ],
      "metadata": {
        "id": "ALNU1Di3AGsp"
      }
    },
    {
      "cell_type": "code",
      "source": [
        ""
      ],
      "metadata": {
        "id": "SP_5EE1B_unk"
      },
      "execution_count": null,
      "outputs": []
    },
    {
      "cell_type": "code",
      "source": [
        ""
      ],
      "metadata": {
        "id": "gkpdlqGZ_usn"
      },
      "execution_count": null,
      "outputs": []
    },
    {
      "cell_type": "markdown",
      "source": [
        "**Traversing tuple using Loop**"
      ],
      "metadata": {
        "id": "8zUrevmH8sLr"
      }
    },
    {
      "cell_type": "code",
      "source": [
        "#for"
      ],
      "metadata": {
        "id": "rWCo3E0I6nQR"
      },
      "execution_count": null,
      "outputs": []
    },
    {
      "cell_type": "code",
      "source": [
        "#while"
      ],
      "metadata": {
        "id": "-H2OYVhB6nWx"
      },
      "execution_count": null,
      "outputs": []
    },
    {
      "cell_type": "markdown",
      "source": [
        "# **Quiz-3**"
      ],
      "metadata": {
        "id": "dVpGF7EENeBb"
      }
    },
    {
      "cell_type": "markdown",
      "source": [
        "**[www.menti.com](https://)**\n",
        "\n",
        "**Use Code 5484 1005**"
      ],
      "metadata": {
        "id": "OoesJif-Nl3L"
      }
    },
    {
      "cell_type": "markdown",
      "source": [
        "# **Set DataTypes**"
      ],
      "metadata": {
        "id": "C6ARnbcRYdpu"
      }
    },
    {
      "cell_type": "markdown",
      "source": [
        "*   Unordered (the order is not maintain) collections of elements\n",
        "*   Duplicate elements are not allowed\n",
        "*   Represented by { }\n",
        "\n",
        "*   Two Types\n",
        "\n",
        ">*   set\n",
        "*    frozenset\n",
        "\n",
        "\n",
        "\n"
      ],
      "metadata": {
        "id": "ox6_rziHYnPc"
      }
    },
    {
      "cell_type": "code",
      "source": [
        "# set\n",
        "s={1,2,3,4,4,4,3,3,3,2,1}\n",
        "s"
      ],
      "metadata": {
        "colab": {
          "base_uri": "https://localhost:8080/"
        },
        "id": "ARfhbuacYhJX",
        "outputId": "7d600bf1-9d41-421f-8bf1-0f8b22303330"
      },
      "execution_count": null,
      "outputs": [
        {
          "output_type": "execute_result",
          "data": {
            "text/plain": [
              "{1, 2, 3, 4}"
            ]
          },
          "metadata": {},
          "execution_count": 39
        }
      ]
    },
    {
      "cell_type": "code",
      "source": [
        "# Accessing set elements - cannot access using slicing operator.\n",
        "s={1,2,3,4,4,4,3,3,3,2,1}\n",
        "for e in s:\n",
        "    print(e)"
      ],
      "metadata": {
        "colab": {
          "base_uri": "https://localhost:8080/"
        },
        "id": "gYovVnZUbPsx",
        "outputId": "22c0e464-3438-4039-972b-8a4e52dc4f4b"
      },
      "execution_count": null,
      "outputs": [
        {
          "output_type": "stream",
          "name": "stdout",
          "text": [
            "1\n",
            "2\n",
            "3\n",
            "4\n"
          ]
        }
      ]
    },
    {
      "cell_type": "code",
      "source": [
        "# to know length of set..\n",
        "len(s)"
      ],
      "metadata": {
        "colab": {
          "base_uri": "https://localhost:8080/"
        },
        "id": "co6R3HuKbUg-",
        "outputId": "fa911b8c-8781-4a59-9e32-18ba8a8eca39"
      },
      "execution_count": null,
      "outputs": [
        {
          "output_type": "execute_result",
          "data": {
            "text/plain": [
              "4"
            ]
          },
          "metadata": {},
          "execution_count": 136
        }
      ]
    },
    {
      "cell_type": "code",
      "source": [
        "# Adding Item in set\n",
        "s={1,2,3,4}\n",
        "s.add(10)\n",
        "print(s)"
      ],
      "metadata": {
        "colab": {
          "base_uri": "https://localhost:8080/"
        },
        "id": "lkajkx-7bVDf",
        "outputId": "b0711493-fbdf-4dc1-ce1d-84771cea0f68"
      },
      "execution_count": null,
      "outputs": [
        {
          "output_type": "stream",
          "name": "stdout",
          "text": [
            "{1, 2, 3, 4, 10}\n"
          ]
        }
      ]
    },
    {
      "cell_type": "code",
      "source": [
        "# To add more than one item use update()\n",
        "s={1,2,3,4}\n",
        "s.update([10,20])\n",
        "print(s)"
      ],
      "metadata": {
        "colab": {
          "base_uri": "https://localhost:8080/"
        },
        "id": "DH3K9iKYCC42",
        "outputId": "4e0eb39f-2a5a-4ee3-dc8d-b09776c44b0e"
      },
      "execution_count": null,
      "outputs": [
        {
          "output_type": "stream",
          "name": "stdout",
          "text": [
            "{1, 2, 3, 4, 10, 20}\n"
          ]
        }
      ]
    },
    {
      "cell_type": "code",
      "source": [
        "# Remove() \n",
        "s={1,2,3,4}\n",
        "s.remove(4)\n",
        "print(s)"
      ],
      "metadata": {
        "colab": {
          "base_uri": "https://localhost:8080/"
        },
        "id": "CKCT1gRBCC8B",
        "outputId": "c8d17ca6-e495-4469-8792-9752d29b4506"
      },
      "execution_count": null,
      "outputs": [
        {
          "output_type": "stream",
          "name": "stdout",
          "text": [
            "{1, 2, 3}\n"
          ]
        }
      ]
    },
    {
      "cell_type": "code",
      "source": [
        "#Discard() similar to remove() only difference is it will not raise error\n",
        "s={1,2,3,4}\n",
        "s.discard(4)\n",
        "print(s)"
      ],
      "metadata": {
        "colab": {
          "base_uri": "https://localhost:8080/"
        },
        "id": "LShpS_jiCC_i",
        "outputId": "4fe69f98-a003-4b49-e80c-f0aada5d2a53"
      },
      "execution_count": null,
      "outputs": [
        {
          "output_type": "stream",
          "name": "stdout",
          "text": [
            "{1, 2, 3}\n"
          ]
        }
      ]
    },
    {
      "cell_type": "code",
      "source": [
        "#pop() - As list is unordered, we dont know which is last element\n",
        "s={2,1,1,4}\n",
        "s.pop()\n",
        "print(s)"
      ],
      "metadata": {
        "colab": {
          "base_uri": "https://localhost:8080/"
        },
        "id": "KFiQJaxOCDD4",
        "outputId": "370ea649-de6a-46cc-eafb-5edbccd6e83c"
      },
      "execution_count": null,
      "outputs": [
        {
          "output_type": "stream",
          "name": "stdout",
          "text": [
            "{2, 4}\n"
          ]
        }
      ]
    },
    {
      "cell_type": "code",
      "source": [
        "#clear() - empties the set..\n",
        "s={1,2,3,4}\n",
        "s.clear()\n",
        "print(s)"
      ],
      "metadata": {
        "colab": {
          "base_uri": "https://localhost:8080/"
        },
        "id": "UR7UOEotbVcm",
        "outputId": "41bf05a4-e7d5-4c24-a04a-5622ea68bc54"
      },
      "execution_count": null,
      "outputs": [
        {
          "output_type": "stream",
          "name": "stdout",
          "text": [
            "set()\n"
          ]
        }
      ]
    },
    {
      "cell_type": "code",
      "source": [
        "# del Keyword - deletes the set completely...\n",
        "s={1,2,3,4}\n",
        "del s\n",
        "#print(s)"
      ],
      "metadata": {
        "id": "v4IlLAAaDMbP"
      },
      "execution_count": null,
      "outputs": []
    },
    {
      "cell_type": "code",
      "source": [
        "# How to delete duplicate elements from list??\n",
        "\n",
        "#How to find common elements in two list...\n",
        "l1=[1,2,3,4]\n",
        "l2=[3,4,5,6,7]\n",
        "s1=set(l1)\n",
        "s2=set(l2)\n",
        "s3=s1.intersection(s2)\n",
        "l3=list(s3)\n",
        "l3"
      ],
      "metadata": {
        "id": "Ot1q-jT1DjfA",
        "colab": {
          "base_uri": "https://localhost:8080/"
        },
        "outputId": "77bb18ac-31b2-4449-a5c0-b8fa01819ba2"
      },
      "execution_count": null,
      "outputs": [
        {
          "output_type": "execute_result",
          "data": {
            "text/plain": [
              "[3, 4]"
            ]
          },
          "metadata": {},
          "execution_count": 2
        }
      ]
    },
    {
      "cell_type": "code",
      "source": [
        "# Homework - Other methods and frozenset... "
      ],
      "metadata": {
        "id": "IxHZ3bc8ETRw"
      },
      "execution_count": null,
      "outputs": []
    },
    {
      "cell_type": "markdown",
      "source": [
        "# **Dictionary**"
      ],
      "metadata": {
        "id": "A744aGIDbaRh"
      }
    },
    {
      "cell_type": "markdown",
      "source": [
        "*   dict - represnts dictionary\n",
        "*   Dict contains pair of elements\n",
        "*   key:values\n",
        "*   Represented using {}"
      ],
      "metadata": {
        "id": "7uzHAxvQbkLj"
      }
    },
    {
      "cell_type": "code",
      "source": [
        "d={1:'Mon',2:'Tues',3:'Wed',4:'Thus',5:'Fri',6:'Sat',7:'Sun'}"
      ],
      "metadata": {
        "id": "CzwjGGPybV1V"
      },
      "execution_count": null,
      "outputs": []
    },
    {
      "cell_type": "code",
      "source": [
        "type(d)"
      ],
      "metadata": {
        "colab": {
          "base_uri": "https://localhost:8080/"
        },
        "id": "vCH8-KbihAdG",
        "outputId": "663d0b9f-0c77-4308-b126-68449ee21cdb"
      },
      "execution_count": null,
      "outputs": [
        {
          "output_type": "execute_result",
          "data": {
            "text/plain": [
              "dict"
            ]
          },
          "metadata": {},
          "execution_count": 49
        }
      ]
    },
    {
      "cell_type": "code",
      "source": [
        "print(d)"
      ],
      "metadata": {
        "colab": {
          "base_uri": "https://localhost:8080/"
        },
        "id": "tVD9byn6hB5p",
        "outputId": "103585af-4278-496a-8b5c-76e4b6113b5b"
      },
      "execution_count": null,
      "outputs": [
        {
          "output_type": "stream",
          "name": "stdout",
          "text": [
            "{1: 'Mon', 2: 'Tues', 3: 'Wed', 4: 'Thus', 5: 'Fri', 6: 'Sat', 7: 'Sun'}\n"
          ]
        }
      ]
    },
    {
      "cell_type": "code",
      "source": [
        "#dict[key] to access\n",
        "d[4]"
      ],
      "metadata": {
        "colab": {
          "base_uri": "https://localhost:8080/",
          "height": 35
        },
        "id": "qBqWxMLahDva",
        "outputId": "dc9ac7c4-33f6-41fd-bb57-a10cd50ddc2c"
      },
      "execution_count": null,
      "outputs": [
        {
          "output_type": "execute_result",
          "data": {
            "text/plain": [
              "'Thus'"
            ],
            "application/vnd.google.colaboratory.intrinsic+json": {
              "type": "string"
            }
          },
          "metadata": {},
          "execution_count": 50
        }
      ]
    },
    {
      "cell_type": "code",
      "source": [
        "#keys()\n",
        "d.keys()"
      ],
      "metadata": {
        "colab": {
          "base_uri": "https://localhost:8080/"
        },
        "id": "tORNryjKhLqL",
        "outputId": "b12bc1d8-f02c-4665-b49d-ae953294a391"
      },
      "execution_count": null,
      "outputs": [
        {
          "output_type": "execute_result",
          "data": {
            "text/plain": [
              "dict_keys([1, 2, 3, 4, 5, 6, 7])"
            ]
          },
          "metadata": {},
          "execution_count": 51
        }
      ]
    },
    {
      "cell_type": "code",
      "source": [
        "#values\n",
        "d.values()"
      ],
      "metadata": {
        "colab": {
          "base_uri": "https://localhost:8080/"
        },
        "id": "ptCxSIYahTju",
        "outputId": "9c49b829-4d4a-4ab7-f8ab-40b84413bbf4"
      },
      "execution_count": null,
      "outputs": [
        {
          "output_type": "execute_result",
          "data": {
            "text/plain": [
              "dict_values(['Mon', 'Tues', 'Wed', 'Thus', 'Fri', 'Sat', 'Sun'])"
            ]
          },
          "metadata": {},
          "execution_count": 52
        }
      ]
    },
    {
      "cell_type": "code",
      "source": [
        "#creating empty dictionary\n",
        "d=dict()\n",
        "d\n",
        "d1={}\n",
        "type(d1)"
      ],
      "metadata": {
        "id": "q50NoKs7hXPM",
        "colab": {
          "base_uri": "https://localhost:8080/"
        },
        "outputId": "8f12014d-bcaa-4313-96a2-69e42de519a6"
      },
      "execution_count": null,
      "outputs": [
        {
          "output_type": "execute_result",
          "data": {
            "text/plain": [
              "dict"
            ]
          },
          "metadata": {},
          "execution_count": 4
        }
      ]
    },
    {
      "cell_type": "code",
      "source": [
        "d={1:'Mon',2:'Tues',3:'Wed',4:'Thus',5:'Fri',6:'Sat',7:'Sun'}"
      ],
      "metadata": {
        "id": "INn-wn-xp4ch"
      },
      "execution_count": null,
      "outputs": []
    },
    {
      "cell_type": "code",
      "source": [
        "# length\n",
        "len(d)"
      ],
      "metadata": {
        "colab": {
          "base_uri": "https://localhost:8080/"
        },
        "id": "ZdxbfuWgp5nN",
        "outputId": "575231d9-a5c3-4ebc-a9f8-89c07ccc0a29"
      },
      "execution_count": null,
      "outputs": [
        {
          "output_type": "execute_result",
          "data": {
            "text/plain": [
              "7"
            ]
          },
          "metadata": {},
          "execution_count": 6
        }
      ]
    },
    {
      "cell_type": "code",
      "source": [
        "# adding element to dict...\n",
        "d[8]='Holiday'"
      ],
      "metadata": {
        "id": "Oj4VgknVsmfH"
      },
      "execution_count": null,
      "outputs": []
    },
    {
      "cell_type": "code",
      "source": [
        "# Keys should be unique\n",
        "# Keys should be of immutable type "
      ],
      "metadata": {
        "id": "DL8aZP6Wp5qA"
      },
      "execution_count": null,
      "outputs": []
    },
    {
      "cell_type": "code",
      "source": [
        "# traversing dict...\n",
        "for k in d:\n",
        "    print(k)"
      ],
      "metadata": {
        "colab": {
          "base_uri": "https://localhost:8080/"
        },
        "id": "GaHFrpP5p5s1",
        "outputId": "f3156c96-55f5-4302-ed34-1ddeebfde8cc"
      },
      "execution_count": null,
      "outputs": [
        {
          "output_type": "stream",
          "name": "stdout",
          "text": [
            "1\n",
            "2\n",
            "3\n",
            "4\n",
            "5\n",
            "6\n",
            "7\n"
          ]
        }
      ]
    },
    {
      "cell_type": "code",
      "source": [
        "for k in d:\n",
        "    print(d[k])"
      ],
      "metadata": {
        "colab": {
          "base_uri": "https://localhost:8080/"
        },
        "id": "5gMaoXtip5vg",
        "outputId": "9deff4b0-33de-4f81-cb96-e3342682f52b"
      },
      "execution_count": null,
      "outputs": [
        {
          "output_type": "stream",
          "name": "stdout",
          "text": [
            "Mon\n",
            "Tues\n",
            "Wed\n",
            "Thus\n",
            "Fri\n",
            "Sat\n",
            "Sun\n"
          ]
        }
      ]
    },
    {
      "cell_type": "markdown",
      "source": [
        "**Dictionary Method**\n",
        "*   copy() - d.copy()\n",
        "*   items() - d.items() - returns key-value pair of d\n",
        "*   get() - d.get(k) - returns value at k\n",
        "*   clear() - d.clear() - clear the dict d\n",
        "*   pop() - d.pop(k)\n",
        "*   popitem() -d.popitems() removes last inserted item\n",
        "*   del - del d[k]\n",
        "*   del - del d\n",
        "\n",
        "\n",
        "\n",
        "\n",
        "\n"
      ],
      "metadata": {
        "id": "uRm7PFKDq33Q"
      }
    },
    {
      "cell_type": "code",
      "source": [
        "d"
      ],
      "metadata": {
        "colab": {
          "base_uri": "https://localhost:8080/"
        },
        "id": "9bUtiVPlqvWV",
        "outputId": "8143f997-3433-484d-a965-ad11f0ce5391"
      },
      "execution_count": null,
      "outputs": [
        {
          "output_type": "execute_result",
          "data": {
            "text/plain": [
              "{1: 'Mon',\n",
              " 2: 'Tues',\n",
              " 3: 'Wed',\n",
              " 4: 'Thus',\n",
              " 5: 'Fri',\n",
              " 6: 'Sat',\n",
              " 7: 'Sun',\n",
              " 8: 'Holiday'}"
            ]
          },
          "metadata": {},
          "execution_count": 12
        }
      ]
    },
    {
      "cell_type": "code",
      "source": [
        "d[8]"
      ],
      "metadata": {
        "colab": {
          "base_uri": "https://localhost:8080/",
          "height": 35
        },
        "id": "rkYHPYKMqvis",
        "outputId": "fc6ac5f2-a72f-4d5a-f852-7aafc137f453"
      },
      "execution_count": null,
      "outputs": [
        {
          "output_type": "execute_result",
          "data": {
            "text/plain": [
              "'Holiday'"
            ],
            "application/vnd.google.colaboratory.intrinsic+json": {
              "type": "string"
            }
          },
          "metadata": {},
          "execution_count": 13
        }
      ]
    },
    {
      "cell_type": "code",
      "source": [
        "del d[8]"
      ],
      "metadata": {
        "id": "ieylfNNVqvsM"
      },
      "execution_count": null,
      "outputs": []
    },
    {
      "cell_type": "code",
      "source": [
        "d"
      ],
      "metadata": {
        "colab": {
          "base_uri": "https://localhost:8080/"
        },
        "id": "qCwgkiFVqvvG",
        "outputId": "fa4e3606-db71-4fe5-ac07-9adb53325257"
      },
      "execution_count": null,
      "outputs": [
        {
          "output_type": "execute_result",
          "data": {
            "text/plain": [
              "{1: 'Mon', 2: 'Tues', 3: 'Wed', 4: 'Thus', 5: 'Fri', 6: 'Sat', 7: 'Sun'}"
            ]
          },
          "metadata": {},
          "execution_count": 15
        }
      ]
    },
    {
      "cell_type": "code",
      "source": [
        "# Modules..."
      ],
      "metadata": {
        "id": "tPJB7Zvap5yy"
      },
      "execution_count": null,
      "outputs": []
    },
    {
      "cell_type": "markdown",
      "source": [
        "# **Feedback of the workshop...**"
      ],
      "metadata": {
        "id": "WEnLLbWpPJzd"
      }
    },
    {
      "cell_type": "code",
      "source": [
        "class Test:\n",
        "    def __init__(self):\n",
        "        print(\"I am construcotor\")\n",
        "    def fun(self):\n",
        "        self.a=10\n",
        "        print(self.a)\n",
        "t=Test()\n",
        "t.fun()"
      ],
      "metadata": {
        "colab": {
          "base_uri": "https://localhost:8080/"
        },
        "id": "fZ_gPBf-O2Kd",
        "outputId": "525f5e23-f542-41f8-c033-dc91c45f4e07"
      },
      "execution_count": null,
      "outputs": [
        {
          "output_type": "stream",
          "name": "stdout",
          "text": [
            "I am construcotor\n",
            "10\n"
          ]
        }
      ]
    },
    {
      "cell_type": "code",
      "source": [
        ""
      ],
      "metadata": {
        "id": "5cyK9LzWPRHe"
      },
      "execution_count": null,
      "outputs": []
    }
  ]
}